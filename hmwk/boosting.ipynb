{
 "cells": [
  {
   "cell_type": "markdown",
   "metadata": {},
   "source": [
    "# Boosting Homework \n",
    "***\n",
    "**Name**: $<$Yichen Wang$>$ \n",
    "***\n",
    "\n",
    "This assignment is due on Moodle by **5pm on Friday April 13th**. Submit only this Jupyter notebook to Moodle.  Do not compress it using tar, rar, zip, etc. Your solutions to analysis questions should be done in Markdown directly below the associated question.  Remember that you are encouraged to discuss the problems with your instructors and classmates, but **you must write all code and solutions on your own**.  For a refresher on the course **Collaboration Policy** click [here](https://github.com/chrisketelsen/CSCI5622-Machine-Learning/blob/master/resources/syllabus.md#collaboration-policy)\n",
    "\n"
   ]
  },
  {
   "cell_type": "markdown",
   "metadata": {},
   "source": [
    "## Overview \n",
    "***\n",
    "\n",
    "\n",
    "\n",
    "In this homework you'll implement the AdaBoost classification framework to do handwritten digit recognition. Your implementation should be based on the description of AdaBoost given in the lecture slides.\n",
    "\n",
    "<br>\n",
    "\n",
    "![digits](mnist.png \"mnist data\")\n",
    "\n",
    "\n",
    "<br>\n",
    "\n",
    "Here are the rules: \n",
    "\n",
    "- Do **NOT** use sklearn's implementation of Adaboost.  You may however use sklearn's implementation of decisions trees. \n",
    "- Do **NOT** load or use any Python packages that are not available in Anaconda 3.6. \n",
    "- Some problems with code may be autograded.  If we provide a function or class API **do not** change it.\n",
    "- Do not change the location of the data or data directory.  Use only relative paths to access the data. "
   ]
  },
  {
   "cell_type": "code",
   "execution_count": 147,
   "metadata": {
    "ExecuteTime": {
     "end_time": "2018-04-02T09:58:16.624747Z",
     "start_time": "2018-04-02T09:58:15.916585Z"
    },
    "collapsed": true
   },
   "outputs": [],
   "source": [
    "import numpy as np\n",
    "from sklearn.tree import DecisionTreeClassifier\n",
    "from sklearn.base import clone \n",
    "import matplotlib.pylab as plt\n",
    "import matplotlib.pyplot as plt_\n",
    "import math\n",
    "%matplotlib inline "
   ]
  },
  {
   "cell_type": "markdown",
   "metadata": {},
   "source": [
    "### [5 points] Problem 1\n",
    "***\n",
    "\n",
    "Since we'll be working with binary classifiers, we'll look at the subset of the MNIST data pertaining to handwritten three's and eights. Note that we'll also be using a lower-res version of the MNIST data used in the KNN homework. The class below will load, parse, and store the subset of the. Load the data and then report: \n",
    "\n",
    "- The number of examples in the training set \n",
    "- The number of examples in the validation set \n",
    "- The number of pixels in each image. "
   ]
  },
  {
   "cell_type": "code",
   "execution_count": 3,
   "metadata": {
    "ExecuteTime": {
     "end_time": "2018-04-02T09:58:18.840016Z",
     "start_time": "2018-04-02T09:58:18.805889Z"
    },
    "collapsed": true
   },
   "outputs": [],
   "source": [
    "class ThreesAndEights:\n",
    "    \"\"\"\n",
    "    Class to store MNIST data\n",
    "    \"\"\"\n",
    "\n",
    "    def __init__(self, location):\n",
    "\n",
    "        import pickle, gzip\n",
    "\n",
    "        # Load the dataset\n",
    "        f = gzip.open(location, 'rb')\n",
    "\n",
    "        # Split the data set \n",
    "        X_train, y_train, X_valid, y_valid = pickle.load(f)\n",
    "\n",
    "        # Extract only 3's and 8's for training set \n",
    "        self.X_train = X_train[np.logical_or( y_train==3, y_train == 8), :]\n",
    "        self.y_train = y_train[np.logical_or( y_train==3, y_train == 8)]\n",
    "        self.y_train = np.array([1 if y == 8 else -1 for y in self.y_train])\n",
    "        \n",
    "        # Shuffle the training data \n",
    "        shuff = np.arange(self.X_train.shape[0])\n",
    "        np.random.shuffle(shuff)\n",
    "        self.X_train = self.X_train[shuff,:]\n",
    "        self.y_train = self.y_train[shuff]\n",
    "\n",
    "        # Extract only 3's and 8's for validation set \n",
    "        self.X_valid = X_valid[np.logical_or( y_valid==3, y_valid == 8), :]\n",
    "        self.y_valid = y_valid[np.logical_or( y_valid==3, y_valid == 8)]\n",
    "        self.y_valid = np.array([1 if y == 8 else -1 for y in self.y_valid])\n",
    "        \n",
    "                \n",
    "        print('The number of examples in the training set:',len(self.X_train))\n",
    "        print('The number of examples in the validation set:',len(self.X_valid))\n",
    "        print('The number of pixels in each image:',self.X_train[0].size)\n",
    "        f.close()"
   ]
  },
  {
   "cell_type": "code",
   "execution_count": 4,
   "metadata": {
    "ExecuteTime": {
     "end_time": "2018-04-02T09:58:19.740678Z",
     "start_time": "2018-04-02T09:58:19.609721Z"
    }
   },
   "outputs": [
    {
     "name": "stdout",
     "output_type": "stream",
     "text": [
      "The number of examples in the training set: 2000\n",
      "The number of examples in the validation set: 500\n",
      "The number of pixels in each image: 441\n"
     ]
    }
   ],
   "source": [
    "data = ThreesAndEights(\"../data/mnist21x21_3789.pklz\")"
   ]
  },
  {
   "cell_type": "markdown",
   "metadata": {},
   "source": [
    "### [20 points] Problem 2: Implementing AdaBoost  \n",
    "***\n",
    "\n",
    "We've given you a skeleton of the class `AdaBoost` below which will train a classifier based on boosted shallow decision trees as implemented by sklearn. Take a look at the class skeleton first so that you understand the underlying organization and data structures that we'll be using.  "
   ]
  },
  {
   "cell_type": "code",
   "execution_count": 179,
   "metadata": {
    "ExecuteTime": {
     "end_time": "2018-04-02T09:58:23.101470Z",
     "start_time": "2018-04-02T09:58:23.016833Z"
    }
   },
   "outputs": [],
   "source": [
    "class AdaBoost:\n",
    "    def __init__(self, n_learners=20, base=DecisionTreeClassifier(max_depth=1), random_state=1234):\n",
    "        \"\"\"\n",
    "        Create a new adaboost classifier.\n",
    "        \n",
    "        Args:\n",
    "            N (int, optional): Number of weak learners in classifier.\n",
    "            base (BaseEstimator, optional): Your general weak learner \n",
    "            random_state (int, optional): set random generator.  needed for unit testing. \n",
    "\n",
    "        Attributes:\n",
    "            base (estimator): Your general weak learner \n",
    "            n_learners (int): Number of weak learners in classifier.\n",
    "            alpha (ndarray): Coefficients on weak learners. \n",
    "            learners (list): List of weak learner instances. \n",
    "        \"\"\"\n",
    "        \n",
    "        np.random.seed(random_state)\n",
    "        \n",
    "        self.n_learners = n_learners \n",
    "        self.base = base\n",
    "        self.alpha = np.zeros(self.n_learners)\n",
    "        self.learners = []\n",
    "        \n",
    "    def fit(self, X_train, y_train):\n",
    "        \"\"\"\n",
    "        Train AdaBoost classifier on data. Sets alphas and learners. \n",
    "        \n",
    "        Args:\n",
    "            X_train (ndarray): [n_samples x n_features] ndarray of training data   \n",
    "            y_train (ndarray): [n_samples] ndarray of data \n",
    "        \"\"\"\n",
    "        w = np.ones(len(y_train))/len(y_train)\n",
    "        # TODO \n",
    "\n",
    "        # Note: You can create and train a new instantiation \n",
    "        # of your sklearn decision tree as follows \n",
    "        self.learners=[]\n",
    "        err=np.zeros(len(y_train))\n",
    "        \n",
    "        for k in range(0,self.n_learners):\n",
    "            h = clone(self.base)\n",
    "            self.learners.append(h)\n",
    "            h.fit(X_train, y_train, sample_weight=w)\n",
    "            prediction=h.predict(X_train)\n",
    "            err_k=0\n",
    "            for j in range(0,len(X_train)):\n",
    "                if prediction[j]!=y_train[j]:\n",
    "                    err_k+=w[j]\n",
    "            err_k=err_k/sum(w)\n",
    "            self.alpha[k]=0.5*math.log((1-err_k)/err_k)\n",
    "            for i in range(0,len(w)):\n",
    "                w[i]=w[i]*math.exp(-self.alpha[k]*y_train[i]*prediction[i])\n",
    "            \n",
    "    def predict(self, X):\n",
    "        \"\"\"\n",
    "        Adaboost prediction for new data X.\n",
    "        \n",
    "        Args:\n",
    "            X (ndarray): [n_samples x n_features] ndarray of data \n",
    "            \n",
    "        Returns: \n",
    "            yhat (ndarray): [n_samples] ndarray of predicted labels {-1,1}\n",
    "        \"\"\"\n",
    "\n",
    "        # TODO \n",
    "        sum_pred=0\n",
    "        predictions=[]\n",
    "        for i in range(0,X.shape[0]):\n",
    "            temp=X[i]\n",
    "            for k in range(0,self.n_learners):\n",
    "                sum_pred+=self.learners[k].predict([temp])*self.alpha[k]\n",
    "            if(sum_pred>=0):\n",
    "                predictions.append(1)\n",
    "            else:\n",
    "                predictions.append(-1)\n",
    "            sum_pred=0\n",
    "        \n",
    "        \n",
    "        return np.asarray(predictions)\n",
    "        \n",
    "    \n",
    "    def score(self, X, y):\n",
    "        \"\"\"\n",
    "        Computes prediction accuracy of classifier.  \n",
    "        \n",
    "        Args:\n",
    "            X (ndarray): [n_samples x n_features] ndarray of data \n",
    "            y (ndarray): [n_samples] ndarray of true labels  \n",
    "            \n",
    "        Returns: \n",
    "            Prediction accuracy (between 0.0 and 1.0).\n",
    "        \"\"\"\n",
    "\n",
    "        \n",
    "        # TODO \n",
    "        predictions=self.predict(X)\n",
    "        correct_num=0\n",
    "        for i in range(0,len(y)):\n",
    "            if(predictions[i]==y[i]):\n",
    "                correct_num+=1\n",
    "        \n",
    "        return correct_num/len(y)\n",
    "        \n",
    "    \n",
    "    def staged_score(self, X, y):\n",
    "        \"\"\"\n",
    "        Computes the ensemble score after each iteration of boosting \n",
    "        for monitoring purposes, such as to determine the score on a \n",
    "        test set after each boost.\n",
    "        \n",
    "        Args:\n",
    "            X (ndarray): [n_samples x n_features] ndarray of data \n",
    "            y (ndarray): [n_samples] ndarray of true labels  \n",
    "            \n",
    "        Returns: \n",
    "            scores (ndarary): [n_learners] ndarray of scores \n",
    "        \"\"\"\n",
    "\n",
    "        # TODO \n",
    "        #learners_num=self.n_learners\n",
    "        #scores=[]\n",
    "        #for l in range(0,learners_num):\n",
    "        #    self.n_learners=l+1\n",
    "        #    scores.append(self.score(X,y))\n",
    "        \n",
    "        staged_score=np.zeros(self.n_learners)\n",
    "        count=0\n",
    "        for x in X:        \n",
    "            pred_label=np.zeros(self.n_learners)\n",
    "            sum_predict=0\n",
    "            #score_temp=[]\n",
    "            pred=0\n",
    "            for l in range(0,self.n_learners):\n",
    "                stage_pred=self.learners[l].predict([x])*self.alpha[l]\n",
    "                sum_predict+=stage_pred\n",
    "                #score_temp.append(sum_predict)\n",
    "                if sum_predict>=0:\n",
    "                    #pred_label[l]=1\n",
    "                    pred=1\n",
    "                else:\n",
    "                    #pred_label[l]=-1\n",
    "                    pred=-1\n",
    "                if pred==y[count]:\n",
    "                    staged_score[l]+=1\n",
    "            count+=1\n",
    "                \n",
    "        staged_score = staged_score/len(y)\n",
    "        return  staged_score\n",
    "    \n",
    "    def staged_margin(self, x, y):\n",
    "        \"\"\"\n",
    "        Computes the staged margin after each iteration of boosting \n",
    "        for a single training example x and true label y\n",
    "        \n",
    "        Args:\n",
    "            x (ndarray): [n_features] ndarray of data \n",
    "            y (integer): an integer {-1,1} representing the true label of x \n",
    "            \n",
    "        Returns: \n",
    "            margins (ndarary): [n_learners] ndarray of margins \n",
    "        \"\"\"\n",
    "        \n",
    "        # TODO \n",
    "        alpha_normalized=self.alpha/sum(self.alpha)\n",
    "        margins = np.zeros(self.n_learners)\n",
    "        sum_mar=0\n",
    "        for l in range(0,self.n_learners):\n",
    "            pred=self.learners[l].predict([x])\n",
    "            if(pred==y):\n",
    "                sum_mar+=alpha_normalized[l]\n",
    "            else:\n",
    "                sum_mar-=alpha_normalized[l]\n",
    "            margins[l]=sum_mar\n",
    "        \n",
    "        return margins\n",
    "        \n",
    "        \n",
    "        "
   ]
  },
  {
   "cell_type": "markdown",
   "metadata": {},
   "source": [
    "Recall that the model we attempt to learn in AdaBoost is given by \n",
    "\n",
    "$$\n",
    "H({\\bf x}) = \\textrm{sign}\\left[\\displaystyle\\sum_{k=1}^K\\alpha_k h_k({\\bf x}) \\right]\n",
    "$$\n",
    "\n",
    "where $h_k({\\bf x})$ is the $k^\\textrm{th}$ weak learner and $\\alpha_k$ is it's associated ensemble coefficient.  \n",
    "\n",
    "**Part A**: Implement the `fit` method to learn the sequence of weak learners $\\left\\{h_k({\\bf x})\\right\\}_{k=1}^K$ and corresponding coefficients $\\left\\{ \\alpha_k\\right\\}_{k=1}^K$. Note that you may use sklearn's implementation of DecisionTreeClassifier as your weak learner which allows you to pass as an optional parameter the weights associated with each training example.  An example of instantiating and training a single learner is given in the comments of the `fit` method.  \n",
    "\n",
    "When you think you're done, run the following unit tests which corresponds to the AdaBoost example given in the lecture slides. \n"
   ]
  },
  {
   "cell_type": "code",
   "execution_count": 138,
   "metadata": {
    "ExecuteTime": {
     "end_time": "2018-04-02T09:58:25.957948Z",
     "start_time": "2018-04-02T09:58:25.948471Z"
    }
   },
   "outputs": [
    {
     "name": "stderr",
     "output_type": "stream",
     "text": [
      "test_alphas (__main__.TestBoost) ... ok\n",
      "\n",
      "----------------------------------------------------------------------\n",
      "Ran 1 test in 0.003s\n",
      "\n",
      "OK\n"
     ]
    }
   ],
   "source": [
    "%run -i tests.py \"part A\""
   ]
  },
  {
   "cell_type": "markdown",
   "metadata": {},
   "source": [
    "**Part B**: After your `fit` method is working properly, implement the `predict` method to make predictions for unseen examples stored in a data matrix ${\\bf X}$.  \n",
    "\n",
    "**Note**: Remember that AdaBoost assumes that your predictions are of the form $y \\in \\{-1, 1\\}$. \n",
    "\n",
    "When you think you're done, run the following unit tests which corresponds to the AdaBoost example given in the lecture slides. "
   ]
  },
  {
   "cell_type": "code",
   "execution_count": 139,
   "metadata": {
    "ExecuteTime": {
     "end_time": "2018-04-02T09:58:29.697855Z",
     "start_time": "2018-04-02T09:58:29.689876Z"
    }
   },
   "outputs": [
    {
     "name": "stderr",
     "output_type": "stream",
     "text": [
      "test_prediction (__main__.TestBoost) ... ok\n",
      "\n",
      "----------------------------------------------------------------------\n",
      "Ran 1 test in 0.005s\n",
      "\n",
      "OK\n"
     ]
    }
   ],
   "source": [
    "%run -i tests.py \"part B\""
   ]
  },
  {
   "cell_type": "markdown",
   "metadata": {},
   "source": [
    "**Part C**: Next, implement the `score` method which takes in a matrix of examples ${\\bf X}$ and their associated true labels ${\\bf y}$, makes predictions, and returns the classification accuracy.   \n",
    "\n",
    "When you think you're done, run the following unit tests. "
   ]
  },
  {
   "cell_type": "code",
   "execution_count": 140,
   "metadata": {
    "ExecuteTime": {
     "end_time": "2018-04-02T09:58:32.327702Z",
     "start_time": "2018-04-02T09:58:32.320424Z"
    }
   },
   "outputs": [
    {
     "name": "stderr",
     "output_type": "stream",
     "text": [
      "test_score (__main__.TestBoost) ... ok\n",
      "\n",
      "----------------------------------------------------------------------\n",
      "Ran 1 test in 0.006s\n",
      "\n",
      "OK\n"
     ]
    }
   ],
   "source": [
    "%run -i tests.py \"part C\""
   ]
  },
  {
   "cell_type": "markdown",
   "metadata": {},
   "source": [
    "**Part D**: Finally, implement the `staged_score` method to return an array of prediction accuracies after each iteration of the AdaBoost algorithm.  That is, the staged score array ${\\bf s}$ is defined such that ${\\bf s}_\\ell$ is the prediction accuracy using only the first $\\ell$ weak learners.  This function is primarily used as a diagnostic tool for analyzing the performance of your classifier during the training process.  \n",
    "\n",
    "**Note**: This method can be implemented in a very efficient or very **in**efficient matter.  Be sure to think about this a bit before diving in. \n",
    "\n",
    "\n",
    "When you think you're done, run the following unit tests. "
   ]
  },
  {
   "cell_type": "code",
   "execution_count": 141,
   "metadata": {
    "ExecuteTime": {
     "end_time": "2018-04-02T09:58:36.952096Z",
     "start_time": "2018-04-02T09:58:36.944919Z"
    }
   },
   "outputs": [
    {
     "name": "stderr",
     "output_type": "stream",
     "text": [
      "test_staged_score (__main__.TestBoost) ... ok\n",
      "\n",
      "----------------------------------------------------------------------\n",
      "Ran 1 test in 0.005s\n",
      "\n",
      "OK\n"
     ]
    }
   ],
   "source": [
    "%run -i tests.py \"part D\""
   ]
  },
  {
   "cell_type": "markdown",
   "metadata": {},
   "source": [
    "### [10 points] Problem 3: AdaBoost for Handwritten Digit Recognition \n",
    "***\n",
    "\n",
    "Use your AdaBoost code with Sklearn's DecisionTreeClassifier as the base learner to distinguish $3$'s from $8$'s. \n",
    "Run $n=500$ boosting iterations with trees of depths 1, 2, and 3 (go deeper if you like) as the weak learner. For each weak learner, plot the training and validation error per boosting iteration (on the same set of axes). Compare and contrast the different weak learners. Which works the best? Do you see signs of overfitting? Do any of classifiers achieve nearly 100% accuracy on the training data? What happens to the accuracy on the validation data on further iterations?"
   ]
  },
  {
   "cell_type": "code",
   "execution_count": 145,
   "metadata": {},
   "outputs": [],
   "source": [
    "iter_num=500\n",
    "AdaBoost1=AdaBoost(n_learners=iter_num, base=DecisionTreeClassifier(max_depth=1), random_state=1234)\n",
    "AdaBoost1.fit(data.X_train,data.y_train)\n",
    "acc_train=AdaBoost1.staged_score(data.X_train,data.y_train)\n",
    "acc_valid=AdaBoost1.staged_score(data.X_valid,data.y_valid)"
   ]
  },
  {
   "cell_type": "code",
   "execution_count": 155,
   "metadata": {},
   "outputs": [
    {
     "data": {
      "image/png": "[encoded data removed]",
      "text/plain": [
       "<matplotlib.figure.Figure at 0x17fe0c1b780>"
      ]
     },
     "metadata": {},
     "output_type": "display_data"
    }
   ],
   "source": [
    "train_plot=plt_.plot(np.arange(500),1-acc_train)\n",
    "valid_plot=plt_.plot(np.arange(500),1-acc_valid)\n",
    "plt_.legend(['training error','validation error'])\n",
    "plt_.xlabel('Iteration')\n",
    "plt_.ylabel('Error')\n",
    "plt_.show()"
   ]
  },
  {
   "cell_type": "code",
   "execution_count": 156,
   "metadata": {
    "collapsed": true
   },
   "outputs": [],
   "source": [
    "AdaBoost2=AdaBoost(n_learners=iter_num, base=DecisionTreeClassifier(max_depth=2), random_state=1234)\n",
    "AdaBoost2.fit(data.X_train,data.y_train)\n",
    "acc_train2=AdaBoost2.staged_score(data.X_train,data.y_train)\n",
    "acc_valid2=AdaBoost2.staged_score(data.X_valid,data.y_valid)"
   ]
  },
  {
   "cell_type": "code",
   "execution_count": 159,
   "metadata": {},
   "outputs": [
    {
     "data": {
      "image/png": "[encoded data removed]",
      "text/plain": [
       "<matplotlib.figure.Figure at 0x17fe0a32470>"
      ]
     },
     "metadata": {},
     "output_type": "display_data"
    }
   ],
   "source": [
    "train_plot=plt_.plot(np.arange(500),1-acc_train2)\n",
    "valid_plot=plt_.plot(np.arange(500),1-acc_valid2)\n",
    "plt_.legend(['training error','validation error'])\n",
    "plt_.xlabel('Iteration')\n",
    "plt_.ylabel('Error')\n",
    "plt_.show()"
   ]
  },
  {
   "cell_type": "code",
   "execution_count": 160,
   "metadata": {},
   "outputs": [],
   "source": [
    "AdaBoost3=AdaBoost(n_learners=iter_num, base=DecisionTreeClassifier(max_depth=3), random_state=1234)\n",
    "AdaBoost3.fit(data.X_train,data.y_train)\n",
    "acc_train3=AdaBoost3.staged_score(data.X_train,data.y_train)\n",
    "acc_valid3=AdaBoost3.staged_score(data.X_valid,data.y_valid)"
   ]
  },
  {
   "cell_type": "code",
   "execution_count": 161,
   "metadata": {},
   "outputs": [
    {
     "data": {
      "image/png": "[encoded data removed]",
      "text/plain": [
       "<matplotlib.figure.Figure at 0x17fe0c2db70>"
      ]
     },
     "metadata": {},
     "output_type": "display_data"
    }
   ],
   "source": [
    "train_plot=plt_.plot(np.arange(500),1-acc_train3)\n",
    "valid_plot=plt_.plot(np.arange(500),1-acc_valid3)\n",
    "plt_.legend(['training error','validation error'])\n",
    "plt_.xlabel('Iteration')\n",
    "plt_.ylabel('Error')\n",
    "plt_.show()"
   ]
  },
  {
   "cell_type": "code",
   "execution_count": 182,
   "metadata": {},
   "outputs": [
    {
     "data": {
      "image/png": "[encoded data removed]",
      "text/plain": [
       "<matplotlib.figure.Figure at 0x17fdf5ad5f8>"
      ]
     },
     "metadata": {},
     "output_type": "display_data"
    }
   ],
   "source": [
    "AdaBoost6=AdaBoost(n_learners=iter_num, base=DecisionTreeClassifier(max_depth=11), random_state=1234)\n",
    "AdaBoost6.fit(data.X_train,data.y_train)\n",
    "acc_train6=AdaBoost6.staged_score(data.X_train,data.y_train)\n",
    "acc_valid6=AdaBoost6.staged_score(data.X_valid,data.y_valid)\n",
    "train_plot=plt_.plot(np.arange(500),1-acc_train6)\n",
    "valid_plot=plt_.plot(np.arange(500),1-acc_valid6)\n",
    "plt_.legend(['training error','validation error'])\n",
    "plt_.xlabel('Iteration')\n",
    "plt_.ylabel('Error')\n",
    "plt_.show()"
   ]
  },
  {
   "cell_type": "code",
   "execution_count": 167,
   "metadata": {},
   "outputs": [
    {
     "name": "stdout",
     "output_type": "stream",
     "text": [
      "#Iteration where training error reaches 0:\n",
      "Depth=1: 241\n",
      "Depth=2: 23\n",
      "Depth=3: 12\n"
     ]
    }
   ],
   "source": [
    "print('#Iteration where training error reaches 0:')\n",
    "print('Depth=1:',np.where(acc_train==1)[0][0])\n",
    "print('Depth=2:',np.where(acc_train2==1)[0][0])\n",
    "print('Depth=3:',np.where(acc_train3==1)[0][0])"
   ]
  },
  {
   "cell_type": "markdown",
   "metadata": {},
   "source": [
    "**Answer:**  \n",
    "With the increase of trees (model becomes more complex), the training error decreases faster to 0 (i.e. training accuracy increases faster to 100%). The validation error also decreases faster and gets lower. The model with depth=3 performs the best in the 3 models.   \n",
    "I cannot see overfitting based on the results with depth not exceeding 3.   \n",
    "All the 3 models achieves 100% accuracy on training data, and the speed of achieving 100% becomes faster with the depth going deeper. The validation accuracy incerases and becomes relatively stable with a small fluctuation on further iterations.\n",
    "\n",
    "\n",
    " "
   ]
  },
  {
   "cell_type": "markdown",
   "metadata": {},
   "source": [
    "### [15 points] Problem 4: AdaBoost as a Margin-Maximizing Model \n",
    "***\n",
    "\n",
    "Despite the fact that we're making our model more complex with the addition of each weak learner, AdaBoost does not typically overfit the training data. The reason for this is that the model becomes more _confident_ with each boosting iteration. This _confidence_ can be interpreted mathematically as a margin. Recall that after $K$ iterations the algorithm terminates with the classifier \n",
    "\n",
    "$$\n",
    "H({\\bf x}) = \\textrm{sign}\\left[\\displaystyle\\sum_{k=1}^K\\alpha_k h_k({\\bf x}) \\right]\n",
    "$$\n",
    "\n",
    "Similarly, we can define the intermediate classifier $H_\\ell$ by \n",
    "\n",
    "$$\n",
    "H_\\ell({\\bf x}) = \\textrm{sign}\\left[\\displaystyle\\sum_{k=1}^\\ell\\alpha_k h_k({\\bf x}) \\right]\n",
    "$$\n",
    "\n",
    "where $\\ell \\leq K$. Note that in either case the model returns predictions of the form $y \\in \\{-1, 1\\}$ which does not give us any indication of the model's confidence in a prediction. Define the normalized coefficients $\\hat{\\alpha}_k$ as follows: \n",
    "\n",
    "$$\n",
    "\\hat{\\alpha}_k = \\dfrac{\\alpha_k}{\\sum_{t=1}^K \\alpha_k}\n",
    "$$\n",
    "\n",
    "Define the margin of a training example ${\\bf x}$ after $\\ell$ iterations as the sum of the normalized coefficients of weak learners that vote correctly minus the sum of the normalized coefficients of the weak learners that vote incorrectly: \n",
    "\n",
    "$$\n",
    "\\textrm{margin}_\\ell ({\\bf x}) = \\sum_{k=1:~h_k({\\bf x}) = y}^\\ell \\hat{\\alpha}_k - \\sum_{k=1:~h_k({\\bf x}) \\neq y}^\\ell \\hat{\\alpha}_k \n",
    "$$\n",
    "\n",
    "**Part A**: Briefly explain mathematically how $\\textrm{margin}_\\ell({\\bf x})$ can be interpreted as a margin.  **Hint**: You'll want to think back on what we meant by a _margin_ in our discussion of Support Vector Machines. "
   ]
  },
  {
   "cell_type": "markdown",
   "metadata": {
    "collapsed": true
   },
   "source": [
    "**Explanation:**  \n",
    "Margin in SVM is the distance of decision boundary and the closest training point. Larger margin means better DB, which can better separate points. The task of SVM is to find wrights and bias that can maximize the margin.  \n",
    "In AdaBoost, models with small error get promoted (big $\\alpha_k$) and models with large error get demoted (small $\\alpha_k$). More correct classifiers means larger margin and more incorrect classifiers means smaller margin. The magrin is between -1 and 1 (all samples are classified incorrectly or corectly). The task is to maximize the margin to make more weak learners vote correctly.\n"
   ]
  },
  {
   "cell_type": "markdown",
   "metadata": {},
   "source": [
    "**Part B**: Complete the `staged_margin` method in the `AdaBoost` class above so that it computes the margin for a single training example ${\\bf x}$ after each boosting iteration. "
   ]
  },
  {
   "cell_type": "code",
   "execution_count": 194,
   "metadata": {},
   "outputs": [
    {
     "name": "stdout",
     "output_type": "stream",
     "text": [
      "[ 0.09442645  0.16879682  0.23290915  0.2846201   0.22634875  0.27650997\n",
      "  0.32720164  0.29360102  0.34499129  0.4005489   0.45072899  0.50804793\n",
      "  0.55139279  0.58743554  0.63893522  0.68360699  0.71804308  0.76131894\n",
      "  0.73205596  0.7577301 ]\n"
     ]
    }
   ],
   "source": [
    "AdaBoost_m=AdaBoost(n_learners=20, base=DecisionTreeClassifier(max_depth=2), random_state=1234)\n",
    "AdaBoost_m.fit(data.X_train,data.y_train)\n",
    "print(AdaBoost_m.staged_margin(data.X_train[0], data.y_train[0]))"
   ]
  },
  {
   "cell_type": "markdown",
   "metadata": {},
   "source": [
    "**Part C**: Find four **training** examples from the MNIST that meet the following criteria: \n",
    "\n",
    "- one $3$ that AdaBoost can classify easily  \n",
    "- one $8$ that AdaBoost can classify easily  \n",
    "- one $3$ that AdaBoost has difficulty with \n",
    "- one $8$ that AdaBoost has difficulty with \n",
    "\n",
    "Use the `view_digit` function given below to display the four examples that you found. \n",
    "\n",
    "**Advice**: Since AdaBoost will likely classify **all** training examples correctly given enough boosting iterations, you might try fitting an AdaBoost classifier with just a handful of boosting iterations and use it to identify examples of each desired type. "
   ]
  },
  {
   "cell_type": "code",
   "execution_count": 190,
   "metadata": {
    "ExecuteTime": {
     "end_time": "2018-04-02T09:59:01.257421Z",
     "start_time": "2018-04-02T09:59:01.068539Z"
    }
   },
   "outputs": [
    {
     "name": "stdout",
     "output_type": "stream",
     "text": [
      "true label: 1\n"
     ]
    },
    {
     "data": {
      "image/png": "[encoded data removed]",
      "text/plain": [
       "<matplotlib.figure.Figure at 0x17fe1120ef0>"
      ]
     },
     "metadata": {},
     "output_type": "display_data"
    }
   ],
   "source": [
    "def view_digit(example, label=None):\n",
    "    if label: print(\"true label: {:d}\".format(label))\n",
    "    plt.imshow(example.reshape(21,21), cmap='gray');\n",
    "    \n",
    "view_digit(data.X_train[0,:], data.y_train[0])"
   ]
  },
  {
   "cell_type": "code",
   "execution_count": 232,
   "metadata": {},
   "outputs": [
    {
     "name": "stdout",
     "output_type": "stream",
     "text": [
      "3 easy: margin: 1.0 index: 22\n",
      "3 difficult: margin: -0.0418609069067 index: 1861\n",
      "8 easy: margin: 1.0 index: 7\n",
      "8 difficult: margin: 0.0310373214213 index: 1698\n"
     ]
    }
   ],
   "source": [
    "AdaBoost_=AdaBoost(n_learners=12, base=DecisionTreeClassifier(max_depth=3), random_state=1234)\n",
    "AdaBoost_.fit(data.X_train,data.y_train)\n",
    "class_3=[]\n",
    "class_8=[]\n",
    "for i in range(0,len(data.y_train)):\n",
    "    if(data.y_train[i]==1):\n",
    "        class_8.append((AdaBoost_.staged_margin(data.X_train[i],data.y_train[i])[-1],i))\n",
    "        #class_8.append(AdaBoost_.staged_margin(data.X_train[i],data.y_train[i])[-1])\n",
    "    else:\n",
    "        class_3.append((AdaBoost_.staged_margin(data.X_train[i],data.y_train[i])[-1],i))\n",
    "        #class_3.append(AdaBoost_.staged_margin(data.X_train[i],data.y_train[i])[-1])\n",
    "        \n",
    "        \n",
    "easy3=max(class_3,key=lambda x: x[0])\n",
    "easy3_ind=easy3[1]\n",
    "difficult3=min(class_3,key=lambda x: x[0])\n",
    "difficult3_ind=difficult3[1]\n",
    "easy8=max(class_8,key=lambda x: x[0])\n",
    "easy8_ind=easy8[1]\n",
    "difficult8=min(class_8,key=lambda x: x[0])\n",
    "difficult8_ind=difficult8[1]\n",
    "print('3 easy: margin:',easy3_mar[0],'index:',easy3_ind)\n",
    "print('3 difficult: margin:',difficult3_mar[0],'index:',difficult3_ind)\n",
    "print('8 easy: margin:',easy8_mar[0],'index:',easy8_ind)\n",
    "print('8 difficult: margin:',difficult8_mar[0],'index:',difficult8_ind)"
   ]
  },
  {
   "cell_type": "markdown",
   "metadata": {},
   "source": [
    "Label 1 means \"8\" and -1 means \"3\". I calculated the margin of the last stage for each sample. Largest margin means this sample is easy to classify and smallest margin means hardest to classify."
   ]
  },
  {
   "cell_type": "code",
   "execution_count": 236,
   "metadata": {},
   "outputs": [
    {
     "name": "stdout",
     "output_type": "stream",
     "text": [
      "3 easy\n",
      "true label: -1\n"
     ]
    },
    {
     "data": {
      "image/png": "[encoded data removed]",
      "text/plain": [
       "<matplotlib.figure.Figure at 0x17fe0b18b38>"
      ]
     },
     "metadata": {},
     "output_type": "display_data"
    }
   ],
   "source": [
    "print('3 easy')\n",
    "view_digit(data.X_train[easy3_ind,:], data.y_train[easy3_ind])\n"
   ]
  },
  {
   "cell_type": "code",
   "execution_count": 237,
   "metadata": {},
   "outputs": [
    {
     "name": "stdout",
     "output_type": "stream",
     "text": [
      "3 difficult\n",
      "true label: -1\n"
     ]
    },
    {
     "data": {
      "image/png": "[encoded data removed]",
      "text/plain": [
       "<matplotlib.figure.Figure at 0x17fdf36ea20>"
      ]
     },
     "metadata": {},
     "output_type": "display_data"
    }
   ],
   "source": [
    "print('3 difficult')\n",
    "view_digit(data.X_train[difficult3_ind,:], data.y_train[difficult3_ind])\n"
   ]
  },
  {
   "cell_type": "markdown",
   "metadata": {},
   "source": [
    "**Analysis:**  \n",
    "This \"3\" is difficult to classify because the upper side of the number look like a circle. This may fool the classifier to make it classify it as 8. "
   ]
  },
  {
   "cell_type": "code",
   "execution_count": 238,
   "metadata": {},
   "outputs": [
    {
     "name": "stdout",
     "output_type": "stream",
     "text": [
      "8 easy\n",
      "true label: 1\n"
     ]
    },
    {
     "data": {
      "image/png": "[encoded data removed]",
      "text/plain": [
       "<matplotlib.figure.Figure at 0x17fe0afd320>"
      ]
     },
     "metadata": {},
     "output_type": "display_data"
    }
   ],
   "source": [
    "print('8 easy')\n",
    "view_digit(data.X_train[easy8_ind,:], data.y_train[easy8_ind])\n"
   ]
  },
  {
   "cell_type": "code",
   "execution_count": 239,
   "metadata": {},
   "outputs": [
    {
     "name": "stdout",
     "output_type": "stream",
     "text": [
      "8 difficult\n",
      "true label: 1\n"
     ]
    },
    {
     "data": {
      "image/png": "[encoded data removed]",
      "text/plain": [
       "<matplotlib.figure.Figure at 0x17fe110fb00>"
      ]
     },
     "metadata": {},
     "output_type": "display_data"
    }
   ],
   "source": [
    "print('8 difficult')\n",
    "view_digit(data.X_train[difficult8_ind,:], data.y_train[difficult8_ind])"
   ]
  },
  {
   "cell_type": "markdown",
   "metadata": {},
   "source": [
    "**Analysis:**  \n",
    "This \"8\" is difficult to classify because unlike most images, it is tilted. \n"
   ]
  },
  {
   "cell_type": "markdown",
   "metadata": {},
   "source": [
    "**Part D**: Using an AdaBoost classifier with at least $K=200$ depth-1 decision trees as the weak learners, plot the staged margin for each of the four examples that you found in **Part C** on the same set of axes. (Be sure to include a legend so we can tell which staged margin corresponds to which example).  Explain your results in terms of the margin of the classifier on each training examples.  More broadly, how the margin-maximizing property might allow AdaBoost to continue improving generalization even after the error on the training set reaches zero.  \n"
   ]
  },
  {
   "cell_type": "code",
   "execution_count": 243,
   "metadata": {},
   "outputs": [
    {
     "data": {
      "image/png": "[encoded data removed]",
      "text/plain": [
       "<matplotlib.figure.Figure at 0x17fe0ab6668>"
      ]
     },
     "metadata": {},
     "output_type": "display_data"
    }
   ],
   "source": [
    "AdaBoost_D=AdaBoost(n_learners=200, base=DecisionTreeClassifier(max_depth=1), random_state=1234)\n",
    "AdaBoost_D.fit(data.X_train,data.y_train)\n",
    "for i in [easy3_ind,difficult3_ind,easy8_ind,difficult8_ind]:\n",
    "    plt.plot(AdaBoost_D.staged_margin(data.X_train[i],data.y_train[i]))\n",
    "plt_.xlabel('Iteration')\n",
    "plt_.ylabel('Staged margin')\n",
    "plt.legend(['easy3','difficult3','easy8','difficult8'])\n",
    "plt.show()"
   ]
  },
  {
   "cell_type": "markdown",
   "metadata": {},
   "source": [
    "**Analysis:**  \n"
   ]
  }
 ],
 "metadata": {
  "kernelspec": {
   "display_name": "Python 3",
   "language": "python",
   "name": "python3"
  },
  "language_info": {
   "codemirror_mode": {
    "name": "ipython",
    "version": 3
   },
   "file_extension": ".py",
   "mimetype": "text/x-python",
   "name": "python",
   "nbconvert_exporter": "python",
   "pygments_lexer": "ipython3",
   "version": "3.6.3"
  }
 },
 "nbformat": 4,
 "nbformat_minor": 2
}
