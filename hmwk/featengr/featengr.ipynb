{
 "cells": [
  {
   "cell_type": "markdown",
   "metadata": {},
   "source": [
    "# Feature Engineering Homework \n",
    "***\n",
    "**Name**: $<$Xu Han$>$ \n",
    "\n",
    "**Kaggle Username**: $<$xuhan$>$\n",
    "***\n",
    "\n",
    "This assignment is due on Moodle by **5pm on Friday February 23rd**. Additionally, you must make at least one submission to the **Kaggle** competition before it closes at **4:59pm on Friday February 23rd**. Submit only this Jupyter notebook to Moodle. Do not compress it using tar, rar, zip, etc. Your solutions to analysis questions should be done in Markdown directly below the associated question.  Remember that you are encouraged to discuss the problems with your instructors and classmates, but **you must write all code and solutions on your own**.  For a refresher on the course **Collaboration Policy** click [here](https://github.com/chrisketelsen/CSCI5622-Machine-Learning/blob/master/resources/syllabus.md#collaboration-policy)\n",
    "\n"
   ]
  },
  {
   "cell_type": "markdown",
   "metadata": {},
   "source": [
    "## Overview \n",
    "***\n",
    "\n",
    "When people are discussing popular media, there’s a concept of spoilers. That is, critical information about the plot of a TV show, book, or movie that “ruins” the experience for people who haven’t read / seen it yet.\n",
    "\n",
    "The goal of this assignment is to do text classification on forum posts from the website [tvtropes.org](http://tvtropes.org/), to predict whether a post is a spoiler or not. We'll be using the logistic regression classifier provided by sklearn.\n",
    "\n",
    "Unlike previous assignments, the code provided with this assignment has all of the functionality required. Your job is to make the functionality better by improving the features the code uses for text classification.\n",
    "\n",
    "**NOTE**: Because the goal of this assignment is feature engineering, not classification algorithms, you may not change the underlying algorithm or it's parameters\n",
    "\n",
    "This assignment is structured in a way that approximates how classification works in the real world: Features are typically underspecified (or not specified at all). You, the data digger, have to articulate the features you need. You then compete against others to provide useful predictions.\n",
    "\n",
    "It may seem straightforward, but do not start this at the last minute. There are often many things that go wrong in testing out features, and you'll want to make sure your features work well once you've found them.\n"
   ]
  },
  {
   "cell_type": "markdown",
   "metadata": {},
   "source": [
    "## Kaggle In-Class Competition \n",
    "***\n",
    "\n",
    "In addition to turning in this notebook on Moodle, you'll also need to submit your predictions on Kaggle, an online tournament site for machine learning competitions. The competition page can be found here:  \n",
    "\n",
    "[https://www.kaggle.com/c/feature-engineering-csci-5622-spring-2018](https://www.kaggle.com/c/feature-engineering-csci-5622-spring-2018)\n",
    "\n",
    "Additionally, a private invite link for the competition has been posted to Piazza. \n",
    "\n",
    "The starter code below has a `model_predict` method which produces a two column CSV file that is correctly formatted for Kaggle (predictions.csv). It should have the example Id as the first column and the prediction (`True` or `False`) as the second column. If you change this format your submissions will be scored as zero accuracy on Kaggle. \n",
    "\n",
    "**Note**: You may only submit **THREE** predictions to Kaggle per day.  Instead of using the public leaderboard as your sole evaluation processes, it is highly recommended that you perform local evaluation using a validation set or cross-validation. "
   ]
  },
  {
   "cell_type": "code",
   "execution_count": 750,
   "metadata": {},
   "outputs": [],
   "source": [
    "import numpy as np\n",
    "import pandas as pd\n",
    "import matplotlib.pylab as plt\n",
    "import nltk\n",
    "\n",
    "from sklearn.feature_extraction.text import CountVectorizer\n",
    "from sklearn.feature_extraction.text import TfidfVectorizer\n",
    "from sklearn import preprocessing\n",
    "from sklearn.base import BaseEstimator, TransformerMixin\n",
    "from sklearn.preprocessing import FunctionTransformer\n",
    "from sklearn.pipeline import FeatureUnion, Pipeline\n",
    "from sklearn.model_selection import cross_val_score\n",
    "from sklearn.linear_model import LogisticRegression\n",
    "from nltk.tokenize import RegexpTokenizer\n",
    "from nltk.stem.porter import PorterStemmer\n",
    "from nltk import ne_chunk, pos_tag, word_tokenize\n",
    "from nltk.tree import Tree\n",
    "from nltk import ngrams\n",
    "from nltk.corpus import stopwords\n",
    "from gensim import corpora, models\n",
    "import gensim\n",
    "%matplotlib inline "
   ]
  },
  {
   "cell_type": "markdown",
   "metadata": {},
   "source": [
    "### [25 points] Problem 1: Feature Engineering \n",
    "***\n",
    "\n",
    "The `FeatEngr` class is where the magic happens.  In it's current form it will read in the training data and vectorize it using simple Bag-of-Words.  It then trains a model and makes predictions.  \n",
    "\n",
    "25 points of your grade will be generated from your performance on the the classification competition on Kaggle. The performance will be evaluated on accuracy on the held-out test set. Half of the test set is used to evaluate accuracy on the public leaderboard.  The other half of the test set is used to evaluate accuracy on the private leaderboard (which you will not be able to see until the close of the competition). \n",
    "\n",
    "You should be able to significantly improve on the baseline system (i.e. the predictions made by the starter code we've provided) as reported by the Kaggle system.  Additionally, the top **THREE** students from the **PRIVATE** leaderboard at the end of the contest will receive 5 extra credit points towards their Problem 1 score.\n"
   ]
  },
  {
   "cell_type": "code",
   "execution_count": 815,
   "metadata": {},
   "outputs": [],
   "source": [
    "#calculate the length of the sentence    \n",
    "class LengthTransformer(BaseEstimator, TransformerMixin):\n",
    "    \n",
    "    def __init__(self):\n",
    "        self.feature_names = []\n",
    "    \n",
    "    def fit(self, examples):\n",
    "        # return self and nothing else \n",
    "        return self\n",
    "    \n",
    "    def transform(self, examples):\n",
    "        \n",
    "        import numpy as np \n",
    "        from scipy.sparse import csr_matrix\n",
    "                 \n",
    "        # Initiaize matrix \n",
    "        X = np.zeros((len(examples), 1))\n",
    "        \n",
    "        # Loop over examples and count length\n",
    "        for ii, x in enumerate(examples):\n",
    "            X[ii, :] = np.array([len(x)])\n",
    "            self.feature_names.append('length'+str(X[ii,:]))\n",
    "        return csr_matrix(X)\n",
    " \n",
    "    def get_feature_names(self):\n",
    "        return self.feature_names\n",
    "\n",
    "    \n",
    "    \n",
    "#LDA model    \n",
    "\n",
    "class LDATransformer(BaseEstimator, TransformerMixin):\n",
    "    \n",
    "    def __init__(self):\n",
    "        self.feature_names = []\n",
    "    \n",
    "    def fit(self, examples):\n",
    "        # return self and nothing else \n",
    "        return self\n",
    "    \n",
    "    def get_feature_names(self):\n",
    "        return self.feature_names\n",
    "    \n",
    "    def transform(self, examples):\n",
    "        \n",
    "        import numpy as np \n",
    "        from scipy.sparse import csr_matrix\n",
    "        \n",
    "        tokenizer = RegexpTokenizer(r'\\w+')\n",
    "        \n",
    "        # create English stop words list\n",
    "        en_stop = set(stopwords.words('english'))\n",
    "        \n",
    "        # Create p_stemmer of class PorterStemmer\n",
    "        p_stemmer = PorterStemmer()\n",
    "        \n",
    "        # list for tokenized documents in loop\n",
    "        texts = []\n",
    "        \n",
    "        # Initiaize matrix \n",
    "        X = np.zeros((len(examples), 1))\n",
    "        \n",
    "        # Loop over examples and count letters \n",
    "        for ii, x in enumerate(examples):\n",
    "            # clean and tokenize document string\n",
    "            raw = x.lower()\n",
    "            tokens = tokenizer.tokenize(raw)\n",
    "            \n",
    "            # remove stop words from tokens\n",
    "            stopped_tokens = [i for i in tokens if not i in en_stop]\n",
    "            \n",
    "            # stem tokens\n",
    "            stemmed_tokens = [p_stemmer.stem(i) for i in stopped_tokens]\n",
    "            \n",
    "            # add tokens to list\n",
    "            texts.append(stemmed_tokens)\n",
    "            \n",
    "        dictionary = corpora.Dictionary(texts)\n",
    "        corpus = [dictionary.doc2bow(text) for text in texts]\n",
    "        self.ldamodel = gensim.models.ldamodel.LdaModel(corpus, num_topics=2, id2word = dictionary)\n",
    "        \n",
    "        for ii, x in enumerate(examples):\n",
    "            # clean and tokenize document string\n",
    "            raw = x.lower()\n",
    "            tokens = tokenizer.tokenize(raw)\n",
    "            \n",
    "            # remove stop words from tokens\n",
    "            stopped_tokens = [i for i in tokens if not i in en_stop]\n",
    "            \n",
    "            # stem tokens\n",
    "            stemmed_tokens = [p_stemmer.stem(i) for i in stopped_tokens]\n",
    "            \n",
    "\n",
    "            bow = self.ldamodel.id2word.doc2bow(stemmed_tokens)\n",
    "            doc_topics, word_topics, phi_values = self.ldamodel.get_document_topics(bow,per_word_topics=True)\n",
    "            \n",
    "        \n",
    "            X[ii,:] = np.array(doc_topics[0][1])\n",
    "            \n",
    "            self.feature_names.append('lda'+str(X[ii,:]))\n",
    "            #print(X[ii,:])\n",
    "            \n",
    "        #X = preprocessing.normalize(X, norm='l2')\n",
    "        return csr_matrix(X)\n",
    "    \n",
    "    def topics(self,x):\n",
    "        tokenizer = RegexpTokenizer(r'\\w+')\n",
    "        \n",
    "        # create English stop words list\n",
    "        en_stop = set(stopwords.words('english'))\n",
    "        \n",
    "        # Create p_stemmer of class PorterStemmer\n",
    "        p_stemmer = PorterStemmer()\n",
    "        \n",
    "        # clean and tokenize document string\n",
    "        raw = x.lower()\n",
    "        tokens = tokenizer.tokenize(raw)\n",
    "            \n",
    "        # remove stop words from tokens\n",
    "        stopped_tokens = [i for i in tokens if not i in en_stop]\n",
    "            \n",
    "        # stem tokens\n",
    "        stemmed_tokens = [p_stemmer.stem(i) for i in stopped_tokens]\n",
    "            \n",
    "\n",
    "        bow = self.ldamodel.id2word.doc2bow(stemmed_tokens)\n",
    "        doc_topics, word_topics, phi_values = self.ldamodel.get_document_topics(bow,per_word_topics=True)\n",
    "        print(doc_topics)\n",
    "    \n",
    "    def show(self):\n",
    "        print(self.ldamodel.show_topics())\n"
   ]
  },
  {
   "cell_type": "code",
   "execution_count": 830,
   "metadata": {},
   "outputs": [],
   "source": [
    "class FeatEngr:\n",
    "    def __init__(self):\n",
    "        \n",
    "        \n",
    "        \n",
    "        #self.vectorizer = CountVectorizer(stop_words='english')  # \"bag-of-words\" Accuracy: 0.67 (+/- 0.04)\n",
    "        #self.vectorizer_t = TfidfVectorizer(analyzer='word',ngram_range=(1,2), lowercase=True, norm='l2',stop_words='english')   # \"bag-of-words-tfidf\" Accuracy: 0.682206 (+/- 0.011113)\n",
    "        \n",
    "        #extract features from different columns\n",
    "        self.vectorizer = FeatureUnion( \n",
    "        [       \n",
    "                ('bag of words', \n",
    "                  Pipeline([('extract_field', FunctionTransformer(lambda x: x[0], validate = False)),\n",
    "                            ('tfid', TfidfVectorizer(analyzer='word',ngram_range=(1,2), lowercase=True, norm='l2',stop_words='english'))])),              \n",
    "                ('type of trope', \n",
    "                  Pipeline([('extract_field', FunctionTransformer(lambda x: x[1], validate = False)),\n",
    "                            ('trope', TfidfVectorizer())])),\n",
    "                ('length of sentence',\n",
    "                 Pipeline([('extract_field', FunctionTransformer(lambda x:  x[0], validate = False)), \n",
    "                            ('length', LengthTransformer())])),  \n",
    "                ('LDA model',\n",
    "                  Pipeline([('extract_field', FunctionTransformer(lambda x:  x[0], validate = False)), \n",
    "                            ('lda', LDATransformer())])),    \n",
    "        ])\n",
    "    \n",
    "    def build_train_features(self, examples):\n",
    "        \"\"\"\n",
    "        Method to take in training text features and do further feature engineering \n",
    "        Most of the work in this homework will go here, or in similar functions  \n",
    "        :param examples: currently just a list of forum posts  \n",
    "        \"\"\"\n",
    "        return self.vectorizer.fit_transform(examples)\n",
    "\n",
    "    def get_test_features(self, examples):\n",
    "        \"\"\"\n",
    "        Method to take in test text features and transform the same way as train features \n",
    "        :param examples: currently just a list of forum posts  \n",
    "        \"\"\"\n",
    "        return self.vectorizer.transform(examples)\n",
    "\n",
    "    def show_top10(self,examples):\n",
    "        \"\"\"\n",
    "        prints the top 10 features for the positive class and the \n",
    "        top 10 features for the negative class. \n",
    "        \"\"\"\n",
    "        bow = TfidfVectorizer(analyzer='word',ngram_range=(1,2), lowercase=True, norm='l2',stop_words='english')\n",
    "        Bow = bow.fit_transform(examples[0])\n",
    "        feature_bow = bow.get_feature_names()\n",
    "        \n",
    "        trope = TfidfVectorizer()\n",
    "        Trope = trope.fit_transform(examples[1])\n",
    "        feature_trope = trope.get_feature_names()\n",
    "        \n",
    "        length = LengthTransformer()\n",
    "        Length = length.fit_transform(examples[0])\n",
    "        feature_length = length.get_feature_names()\n",
    "        \n",
    "        lda = LDATransformer()\n",
    "        LDA = lda.fit_transform(examples[0])\n",
    "        feature_lda = lda.get_feature_names()\n",
    "        \n",
    "        feature_names = np.asarray(feature_bow+feature_trope+feature_length+feature_lda)\n",
    "        print(\"feature names:\", feature_names)\n",
    "        top10 = np.argsort(self.logreg.coef_[0])[-10:]\n",
    "        bottom10 = np.argsort(self.logreg.coef_[0])[:10]\n",
    "        print(\"Pos: %s\" % \" \".join(feature_names[top10]))\n",
    "        print(\"Neg: %s\" % \" \".join(feature_names[bottom10]))\n",
    "                \n",
    "    def train_model(self, random_state=1234):\n",
    "        \"\"\"\n",
    "        Method to read in training data from file, and \n",
    "        train Logistic Regression classifier. \n",
    "        \n",
    "        :param random_state: seed for random number generator \n",
    "        \"\"\"\n",
    "        \n",
    "         \n",
    "        \n",
    "        # load data \n",
    "        dfTrain = pd.read_csv(\"../data/spoilers/train.csv\")\n",
    "        # get training features and labels \n",
    "        self.X_train = self.build_train_features([list(dfTrain[\"sentence\"]), list(dfTrain[\"trope\"]), list(dfTrain[\"page\"])])\n",
    "        self.y_train = np.array(dfTrain[\"spoiler\"], dtype=int)\n",
    "        \n",
    "        # train logistic regression model.  !!You MAY NOT CHANGE THIS!! \n",
    "        self.logreg = LogisticRegression(random_state=random_state)\n",
    "        self.logreg.fit(self.X_train, self.y_train)\n",
    "        \n",
    "        scores = cross_val_score(self.logreg, self.X_train, self.y_train, cv =10)\n",
    "        print(\"CV: %0.6f (+/- %0.6f)\" % (scores.mean(), scores.std() * 2))\n",
    "        \n",
    "            \n",
    "    def error_analysis_trope(self, random_state=1234):\n",
    "        \n",
    "        # load data \n",
    "        dfTrain = pd.read_csv(\"../data/spoilers/train.csv\")\n",
    "\n",
    "        # Split our data from train.csv into fully-labeled train and test sets\n",
    "        from sklearn.model_selection import train_test_split\n",
    "        mytrain, mytest = train_test_split(dfTrain, test_size=0.2, shuffle=True, random_state=1234)\n",
    "        \n",
    "        # get training features and labels \n",
    "        train_x = self.build_train_features([list(mytrain[\"sentence\"]),list(mytrain[\"trope\"]),list(mytrain[\"page\"])])\n",
    "        train_y = np.array(mytrain[\"spoiler\"], dtype=int)\n",
    "        \n",
    "        test_x = self.get_test_features([list(mytest[\"sentence\"]),list(mytest[\"trope\"]),list(mytest[\"page\"])])\n",
    "        test_y = np.array(mytest[\"spoiler\"], dtype=int)\n",
    "        \n",
    "        # train logistic regression model.  !!You MAY NOT CHANGE THIS!! \n",
    "        self.logreg = LogisticRegression(random_state=random_state)\n",
    "        self.logreg.fit(train_x,train_y)\n",
    "        pred_y=self.logreg.predict(test_x)\n",
    "        k=0\n",
    "        error=[]\n",
    "        item_number=0\n",
    "        for i in pred_y:\n",
    "            if i!=test_y[k]:\n",
    "                error.append(k)\n",
    "                if item_number<3:   #only print 3 error cases\n",
    "                    print(list(mytest[\"trope\"])[k],'pred_label:',i,'true_label:',test_y[k])\n",
    "                    item_number+=1\n",
    "            k+=1\n",
    "            \n",
    "    def error_analysis_length(self, random_state=1234):\n",
    "        \n",
    "        # load data \n",
    "        dfTrain = pd.read_csv(\"../data/spoilers/train.csv\")\n",
    "\n",
    "        # Split our data from train.csv into fully-labeled train and test sets\n",
    "        from sklearn.model_selection import train_test_split\n",
    "        mytrain, mytest = train_test_split(dfTrain, test_size=0.2, shuffle=True, random_state=1234)\n",
    "        \n",
    "        # get training features and labels \n",
    "        train_x = self.build_train_features([list(mytrain[\"sentence\"]),list(mytrain[\"trope\"]),list(mytrain[\"page\"])])\n",
    "        train_y = np.array(mytrain[\"spoiler\"], dtype=int)\n",
    "        \n",
    "        test_x = self.get_test_features([list(mytest[\"sentence\"]),list(mytest[\"trope\"]),list(mytest[\"page\"])])\n",
    "        test_y = np.array(mytest[\"spoiler\"], dtype=int)\n",
    "        \n",
    "        # train logistic regression model.  !!You MAY NOT CHANGE THIS!! \n",
    "        self.logreg = LogisticRegression(random_state=random_state)\n",
    "        self.logreg.fit(train_x,train_y)\n",
    "        pred_y=self.logreg.predict(test_x)\n",
    "        k=0\n",
    "        error=[]\n",
    "        item_number=0\n",
    "        for i in pred_y:\n",
    "            if i!=test_y[k]:\n",
    "                error.append(k)\n",
    "                if item_number<3:   #only print 3 error cases\n",
    "                    print(len(list(mytest[\"sentence\"])[k]),'pred_label:',i,'true_label:',test_y[k])\n",
    "                    item_number+=1\n",
    "            k+=1\n",
    "    \n",
    "    def error_analysis_lda(self, random_state=1234):\n",
    "        \n",
    "        # load data \n",
    "        dfTrain = pd.read_csv(\"../data/spoilers/train.csv\")\n",
    "\n",
    "        # Split our data from train.csv into fully-labeled train and test sets\n",
    "        from sklearn.model_selection import train_test_split\n",
    "        mytrain, mytest = train_test_split(dfTrain, test_size=0.2, shuffle=True, random_state=1234)\n",
    "        \n",
    "        # get training features and labels \n",
    "        train_x = self.build_train_features([list(mytrain[\"sentence\"]),list(mytrain[\"trope\"]),list(mytrain[\"page\"])])\n",
    "        train_y = np.array(mytrain[\"spoiler\"], dtype=int)\n",
    "        \n",
    "        test_x = self.get_test_features([list(mytest[\"sentence\"]),list(mytest[\"trope\"]),list(mytest[\"page\"])])\n",
    "        test_y = np.array(mytest[\"spoiler\"], dtype=int)\n",
    "        \n",
    "        # train logistic regression model.  !!You MAY NOT CHANGE THIS!! \n",
    "        self.logreg = LogisticRegression(random_state=random_state)\n",
    "        self.logreg.fit(train_x,train_y)\n",
    "        pred_y=self.logreg.predict(test_x)\n",
    "        k=0\n",
    "        error=[]\n",
    "        item_number=0\n",
    "        lda = LDATransformer()\n",
    "        Lda = lda.fit_transform(list(mytest[\"sentence\"]))\n",
    "        lda.show()\n",
    "        for i in pred_y:\n",
    "            if i!=test_y[k]:\n",
    "                error.append(k)\n",
    "                if item_number<1:   #only print 3 error cases\n",
    "                    lda.topics(list(mytest[\"sentence\"])[k])\n",
    "                    print('pred_label:',i,'true_label:',test_y[k])\n",
    "                    item_number+=1\n",
    "            k+=1\n",
    "            \n",
    "    def model_predict(self):\n",
    "        \"\"\"\n",
    "        Method to read in test data from file, make predictions\n",
    "        using trained model, and dump results to file \n",
    "        \"\"\"\n",
    "        \n",
    "        # read in test data \n",
    "        dfTest  = pd.read_csv(\"../data/spoilers/test.csv\")\n",
    "        \n",
    "        # featurize test data \n",
    "        self.X_test = self.get_test_features([list(dfTest[\"sentence\"]), list(dfTest[\"trope\"]), list(dfTest[\"page\"])])\n",
    "        \n",
    "        # make predictions on test data \n",
    "        pred = self.logreg.predict(self.X_test)\n",
    "        \n",
    "        # dump predictions to file for submission to Kaggle  \n",
    "        pd.DataFrame({\"spoiler\": np.array(pred, dtype=bool)}).to_csv(\"prediction_sub2.csv\", index=True, index_label=\"Id\")"
   ]
  },
  {
   "cell_type": "code",
   "execution_count": 829,
   "metadata": {},
   "outputs": [
    {
     "name": "stdout",
     "output_type": "stream",
     "text": [
      "CV: 0.659309 (+/- 0.044787)\n",
      "feature names: ['00' '00 central' '00 pm' ..., 'lda[ 0.35998213]' 'lda[ 0.92632884]'\n",
      " 'lda[ 0.80964762]']\n",
      "Pos: finale thereveal dead xanatosgambit death dies end revealed whamepisode turns\n",
      "Neg: usually deadpansnarker catchphrase domcom like drew tim abc gameshow thecastshowoff\n"
     ]
    }
   ],
   "source": [
    "# Instantiate the FeatEngr clas \n",
    "feat = FeatEngr()\n",
    "\n",
    "# Train your Logistic Regression classifier \n",
    "feat.train_model(random_state=1230)\n",
    "\n",
    "# Shows the top 10 features for each class \n",
    "feat.show_top10([list(dfTrain[\"sentence\"]), list(dfTrain[\"trope\"]), list(dfTrain[\"page\"])])\n",
    "\n",
    "# Make prediction on test data and produce Kaggle submission file \n",
    "feat.model_predict()"
   ]
  },
  {
   "cell_type": "markdown",
   "metadata": {},
   "source": [
    "### [25 points] Problem 2: Motivation and Analysis \n",
    "***\n",
    "\n",
    "The job of the written portion of the homework is to convince the grader that:\n",
    "\n",
    "- Your new features work\n",
    "- You understand what the new features are doing\n",
    "- You had a clear methodology for incorporating the new features\n",
    "\n",
    "Make sure that you have examples and quantitative evidence that your features are working well. Be sure to explain how you used the data (e.g., did you have a validation set? did you do cross-validation?) and how you inspected the results. In addition, it is very important that you show some kind of an **error analysis** throughout your process.  That is, you should demonstrate that you've looked at misclassified examples and put thought into how you can craft new features to improve your model. \n",
    "\n",
    "A sure way of getting a low grade is simply listing what you tried and reporting the Kaggle score for each. You are expected to pay more attention to what is going on with the data and take a data-driven approach to feature engineering."
   ]
  },
  {
   "cell_type": "markdown",
   "metadata": {},
   "source": [
    "### Feature 1: Tropes"
   ]
  },
  {
   "cell_type": "markdown",
   "metadata": {},
   "source": [
    "According to [1], tropes could play a very important role in detecting spoilers. In this case, I choose to use tropes as my first new feature. Here I check the distribution of spoilers and non-spoilers for tropes.\n",
    "\n",
    "[1]Jordan Boyd-Graber, Kimberly Glasgow, and Jackie Sauter Zajac. Spoiler Alert: Machine Learning Approaches\n",
    "to Detect Social Media Posts with Revelatory Information. ASIST 2013: The 76th Annual Meeting\n",
    "of the American Society for Information Science and Technology, 2013, 9 pages."
   ]
  },
  {
   "cell_type": "code",
   "execution_count": 620,
   "metadata": {},
   "outputs": [
    {
     "data": {
      "image/png": "[encoded data removed]",
      "text/plain": [
       "<matplotlib.figure.Figure at 0x1a28036080>"
      ]
     },
     "metadata": {},
     "output_type": "display_data"
    },
    {
     "data": {
      "image/png": "[encoded data removed]",
      "text/plain": [
       "<matplotlib.figure.Figure at 0x1a1dea3588>"
      ]
     },
     "metadata": {},
     "output_type": "display_data"
    }
   ],
   "source": [
    "import pandas as pd\n",
    "import numpy as np\n",
    "from matplotlib import pyplot as plt\n",
    "\n",
    "dfTrain = pd.read_csv(\"../data/spoilers/train.csv\")\n",
    "spoilers= dfTrain[dfTrain[\"spoiler\"]==1]\n",
    "non_spoilers= dfTrain[dfTrain[\"spoiler\"]==0]\n",
    "\n",
    "#too many tropes, sort to find top tropes\n",
    "spoilers_sort=spoilers.groupby('trope').size().sort_values(ascending=False)\n",
    "non_spoilers_sort=non_spoilers.groupby('trope').size().sort_values(ascending=False)\n",
    "\n",
    "#draw graph\n",
    "plt.bar(range(20),spoilers_sort[0:20].values,alpha=0.9,label='Number of spoilers')\n",
    "plt.xticks(range(20),spoilers_sort.axes[0][0:20],size='small',rotation='vertical')\n",
    "plt.bar(range(20),non_spoilers_sort[spoilers_sort.axes[0][0:20]].values,alpha=0.5,label='Number of non-spoilers')\n",
    "plt.title('Distribution of Spoilers and Non-spoilers for Top Spoilers Tropes')\n",
    "plt.xlabel('tropes')\n",
    "plt.ylabel('count')\n",
    "plt.legend(loc = 'best')\n",
    "plt.show()\n",
    "\n",
    "\n",
    "plt.bar(range(20),non_spoilers_sort[0:20].values,alpha=0.9,label='Number of non-spoilers')\n",
    "plt.xticks(range(20),non_spoilers_sort.axes[0][0:20],size='small',rotation='vertical')\n",
    "plt.bar(range(20),spoilers_sort[non_spoilers_sort.axes[0][0:20]].values,alpha=0.5,label='Number of spoilers')\n",
    "plt.title('Distribution of Spoilers and Non-spoilers for Top Non-spoilers Tropes')\n",
    "plt.xlabel('tropes')\n",
    "plt.ylabel('count')\n",
    "plt.legend(loc='best')\n",
    "plt.show()"
   ]
  },
  {
   "cell_type": "markdown",
   "metadata": {},
   "source": [
    "From the graph, we can see that tropes could be a very good feature since it greatly distinguish between spoilers and non-spoilers in number. For example, for trope \"WhamEpisode\", the number of spoilers for this trope is very large while the number of non-spoilers is very small. The same thing happens to many other tropes. \n"
   ]
  },
  {
   "cell_type": "markdown",
   "metadata": {},
   "source": [
    "**Results**: The cross validation score for feature tropes is : 0.651456 (+/- 0.049279), which has been improved a lot when comparing to the original cross validation score with only bag-of-words feature -- 0.619629 (+/- 0.065488)"
   ]
  },
  {
   "cell_type": "markdown",
   "metadata": {},
   "source": [
    "**Error Analysis**:"
   ]
  },
  {
   "cell_type": "code",
   "execution_count": 765,
   "metadata": {},
   "outputs": [
    {
     "name": "stdout",
     "output_type": "stream",
     "text": [
      "ColonelMakepeace pred_label: 0 true_label: 1\n",
      "BlatantLies pred_label: 1 true_label: 0\n",
      "HumansAreBastards pred_label: 0 true_label: 1\n"
     ]
    }
   ],
   "source": [
    "feat = FeatEngr()\n",
    "#error analysis\n",
    "feat.error_analysis_trope()"
   ]
  },
  {
   "cell_type": "markdown",
   "metadata": {},
   "source": [
    "**Error Analysis for Feature 1**: I only print out three error cases to take them as examples. The first trope is ColonelMakepeace. There is only 1 sentence of this trope, which means that sentence is in the test set not train set, so the misclassification is accpetable.\n",
    "For the tropes BlatantLies and HumansAreBastards, the number of spoilers and non-spoilers are almost the same(BlatantLies: 11 sp 10non-sp, HumansAreBastards: 4 sp 4 non-sp). In this case, only the trope feature cannot handle the situation. This is a shortcoming of only using this feature. In order to overcome this, we could have a look at the distributions of spoiler and non-spoiler for tropes and filter the useful tropes out as our new feature, for \"non-useful\" tropes, we could check out the similarity between tropes and pick out the most silimar useful tropes to replace them."
   ]
  },
  {
   "cell_type": "markdown",
   "metadata": {},
   "source": [
    "### Feature 2: Length of Sentence"
   ]
  },
  {
   "cell_type": "markdown",
   "metadata": {},
   "source": [
    "In [1], it also mentions that sentence length could also help classify the spoilers: longer works are more likely to have spoilers than shorter works. In this case, I choose to use the length of sentence as my second new feature. Here I check the distribution of spoilers and non-spoilers for sentence length and in order to vertify what is said in [1], I also plotted the ratio of spoilers and non-spoilers when the sentence length is longer than 100,200,300 and 400."
   ]
  },
  {
   "cell_type": "code",
   "execution_count": 739,
   "metadata": {},
   "outputs": [
    {
     "data": {
      "image/png": "[encoded data removed]",
      "text/plain": [
       "<matplotlib.figure.Figure at 0x1a2d086d30>"
      ]
     },
     "metadata": {},
     "output_type": "display_data"
    },
    {
     "name": "stdout",
     "output_type": "stream",
     "text": [
      "The ratio of longer spoilers(longer than  100 ) to longer non-spoilers(longer than  100 ) is:  1.35581583199\n",
      "The ratio of longer spoilers(longer than  200 ) to longer non-spoilers(longer than  200 ) is:  1.68584070796\n",
      "The ratio of longer spoilers(longer than  300 ) to longer non-spoilers(longer than  300 ) is:  2.06329113924\n",
      "The ratio of longer spoilers(longer than  400 ) to longer non-spoilers(longer than  400 ) is:  3.86666666667\n"
     ]
    },
    {
     "data": {
      "image/png": "[encoded data removed]",
      "text/plain": [
       "<matplotlib.figure.Figure at 0x1a2d05b7f0>"
      ]
     },
     "metadata": {},
     "output_type": "display_data"
    }
   ],
   "source": [
    "import pandas as pd\n",
    "import numpy as np\n",
    "from matplotlib import pyplot as plt\n",
    "\n",
    "dfTrain = pd.read_csv(\"../data/spoilers/train.csv\")\n",
    "\n",
    "spoilers_len = []\n",
    "non_spoilers_len = []\n",
    "\n",
    "for index,row in dfTrain.iterrows():\n",
    "    if row['spoiler'] == True:\n",
    "        spoilers_len.append(len(row['sentence']))\n",
    "    else:\n",
    "        non_spoilers_len.append(len(row['sentence']))\n",
    "\n",
    "#draw graph\n",
    "plt.bar(range(0,len(spoilers_len)),spoilers_len,alpha=0.9,label='Number of spoilers')\n",
    "plt.bar(range(0,len(non_spoilers_len)),non_spoilers_len,alpha=0.5,label='Number of non-spoilers')\n",
    "plt.title('Distribution of Spoilers and Non-spoilers for Sentence Length')\n",
    "plt.xlabel('index')\n",
    "plt.ylabel('length of sentence')\n",
    "plt.ylim(0,500)\n",
    "plt.legend(loc = 'best')\n",
    "plt.show()\n",
    "\n",
    "#calculate the number with long sentence\n",
    "count_spoilers = np.zeros(4)\n",
    "count_non_spoilers = np.zeros(4)\n",
    "ratio = np.zeros(4)\n",
    "for j in range(100,500,100):\n",
    "    for i in range(0,len(spoilers_len)):\n",
    "        if(spoilers_len[i]>j):\n",
    "            count_spoilers[int(j/100)-1] += 1\n",
    "        else:\n",
    "            continue\n",
    "        \n",
    "    for i in range(0,len(non_spoilers_len)):\n",
    "        if(non_spoilers_len[i]>j):\n",
    "            count_non_spoilers[int(j/100)-1] += 1\n",
    "        else:\n",
    "            continue\n",
    "    ratio[int(j/100)-1] = count_spoilers[int(j/100)-1]/count_non_spoilers[int(j/100)-1]\n",
    "    print(\"The ratio of longer spoilers(longer than \", j, \") to longer non-spoilers(longer than \", j, \") is: \", ratio[int(j/100)-1])\n",
    "\n",
    "#draw graph\n",
    "plt.scatter(range(100,500,100),ratio)\n",
    "plt.plot(range(100,500,100),ratio)\n",
    "plt.title('Ratio of Spoilers number and Non-spoilers number for Sentence Length')\n",
    "plt.xlabel('length of sentence(longer than 100, 200, 300, 400, 500)')\n",
    "plt.ylabel('ratio')\n",
    "plt.legend(loc = 'best')\n",
    "plt.show()\n"
   ]
  },
  {
   "cell_type": "markdown",
   "metadata": {},
   "source": [
    "From the graph, we can see that the longer the sentence is, the higher the ratio is. This indicates that the proportion of spoilers grows higher with the sentence length increases. In this case, sentence length could be considered as a feature that helps improve the performance of spoilers detection.\n"
   ]
  },
  {
   "cell_type": "markdown",
   "metadata": {},
   "source": [
    "**Results**: The cross validation score for feature length of sentence is : 0.622467 (+/- 0.057787), which outperformed the original cross validation score with only bag-of-words feature -- 0.619629 (+/- 0.065488). The results also indicates that the feature length of sentence is useful."
   ]
  },
  {
   "cell_type": "markdown",
   "metadata": {},
   "source": [
    "**Error Analysis**:"
   ]
  },
  {
   "cell_type": "code",
   "execution_count": 768,
   "metadata": {},
   "outputs": [
    {
     "name": "stdout",
     "output_type": "stream",
     "text": [
      "52 pred_label: 0 true_label: 1\n",
      "78 pred_label: 0 true_label: 1\n",
      "149 pred_label: 1 true_label: 0\n"
     ]
    }
   ],
   "source": [
    "feat = FeatEngr()\n",
    "#error analysis\n",
    "feat.error_analysis_length()"
   ]
  },
  {
   "cell_type": "markdown",
   "metadata": {},
   "source": [
    "**Error Analysis for Feature 2**: I only print out three error cases to take them as examples. The first and second misclassified cases are when the sentence lengths are 52 and 78. 52 and 78 are relatively short sentence length. It is reasonable that classifier thinks that shorter sentence length should have higher chance to be labeled as non-spoilers. However, the actual labels are spoilers. The same thing happens with the third case: 149 is relatively long sentence length and it is acceptable that classifier labeled it as spoiler, however, the actual label is that it is non-spoiler. \n",
    "From this error analysis result, we can see that only the sentence length feature cannot handle the situation where spoilers might have shorter length and non-spoilers might have longer length. This is a shortcoming of only using this feature. In order to overcome this, we could combine other sentence characteristics(like the distribution of words' tags in one sentence, the name entities appeared in one sentence) together with length to make better prediction."
   ]
  },
  {
   "cell_type": "markdown",
   "metadata": {},
   "source": [
    "### Feature 3: LDA"
   ]
  },
  {
   "cell_type": "markdown",
   "metadata": {},
   "source": [
    "Based on the daily experience, understanding what these sentences talk about, what are the topics of these sentences could help classify spoilers and non-spoilers. Based on this thought, I choose LDA(Latent Dirichlet allocation) as my third feature. Here I print out the topic analysis result to make the prediction process more interpretable."
   ]
  },
  {
   "cell_type": "markdown",
   "metadata": {},
   "source": [
    "**Results**: The cross validation score for feature tropes is : 0.619963 (+/- 0.064746), which has just improved a little bit when comparing to the original cross validation score with only bag-of-words feature -- 0.619629 (+/- 0.065488)"
   ]
  },
  {
   "cell_type": "code",
   "execution_count": 832,
   "metadata": {},
   "outputs": [
    {
     "name": "stdout",
     "output_type": "stream",
     "text": [
      "[(0, '0.009*\"episod\" + 0.007*\"one\" + 0.007*\"season\" + 0.007*\"end\" + 0.007*\"get\" + 0.006*\"time\" + 0.005*\"take\" + 0.004*\"also\" + 0.004*\"becom\" + 0.004*\"turn\"'), (1, '0.008*\"one\" + 0.006*\"season\" + 0.005*\"show\" + 0.005*\"get\" + 0.004*\"final\" + 0.004*\"episod\" + 0.004*\"end\" + 0.003*\"later\" + 0.003*\"play\" + 0.003*\"would\"')]\n",
      "[(0, 0.037512943), (1, 0.96248704)]\n",
      "pred_label: 1 true_label: 0\n"
     ]
    }
   ],
   "source": [
    "feat = FeatEngr()\n",
    "#error analysis\n",
    "feat.error_analysis_lda()"
   ]
  },
  {
   "cell_type": "markdown",
   "metadata": {},
   "source": [
    "**Feature 3 analysis**: I first print out the topic analysis result. In the training process, I made number of topics equal to 2 since our problem is bi-classification. From the result we can know that after analyzing all the sentences from our training set, there are two topics labeled as 0 and 1. For topic 0, it is presented as 0.009*\"episod\" + 0.007*\"one\" + 0.007*\"season\" + 0.007*\"end\" + 0.007*\"get\" + 0.006*\"time\" + 0.005*\"take\" + 0.004*\"also\" + 0.004*\"becom\" + 0.004*\"turn\", for topic 1, it is presented as '0.008*\"one\" + 0.006*\"season\" + 0.005*\"show\" + 0.005*\"get\" + 0.004*\"final\" + 0.004*\"episod\" + 0.004*\"end\" + 0.003*\"later\" + 0.003*\"play\" + 0.003*\"would\". For topic 0, \"episod\" is the most influential word and other words help define what kind of \"episod\" we are talking about. For topic 1, \"one\" is the most influential word. Our entire classifying process based on LDA is to give each sentence a topic label 0 or 1. This label is the third new feature to help detect spoilers.  "
   ]
  },
  {
   "cell_type": "markdown",
   "metadata": {},
   "source": [
    "**Error Analysis for Feature 3**: And I print out one error case to take it as an examples. This error case indicates that the LDA model believes the sentence is more likely to be labeld as topic 1. However, the actual label is 0, is non-spoilers. From this result, we could know that the reason why this LDA model does not work very well is because there is no very specific mapping from the LDA topic to actual spoilers/non-spoilers topic. If we could come up with a more reliable LDA model where LDA model's topics have very specific corresponding relationship to spoilers/non-spoilers, I believe this LDA model could be a strong feature to detect spoilers."
   ]
  },
  {
   "cell_type": "markdown",
   "metadata": {},
   "source": [
    "### Hints  \n",
    "***\n",
    "\n",
    "- Don't use all the data until you're ready. \n",
    "\n",
    "- Examine the features that are being used.\n",
    "\n",
    "- Do error analyses.\n",
    "\n",
    "- If you have questions that aren’t answered in this list, feel free to ask them on Piazza.\n",
    "\n",
    "### FAQs \n",
    "***\n",
    "\n",
    "> Can I heavily modify the FeatEngr class? \n",
    "\n",
    "Totally.  This was just a starting point.  The only thing you cannot modify is the LogisticRegression classifier.  \n",
    "\n",
    "> Can I look at TV Tropes?\n",
    "\n",
    "In order to gain insight about the data yes, however, your feature extraction cannot use any additional data (beyond what I've given you) from the TV Tropes webpage.\n",
    "\n",
    "> Can I use IMDB, Wikipedia, or a dictionary?\n",
    "\n",
    "Yes, but you are not required to. So long as your features are fully automated, they can use any dataset other than TV Tropes. Be careful, however, that your dataset does not somehow include TV Tropes (e.g. using all webpages indexed by Google will likely include TV Tropes).\n",
    "\n",
    "> Can I combine features?\n",
    "\n",
    "Yes, and you probably should. This will likely be quite effective.\n",
    "\n",
    "> Can I use Mechanical Turk?\n",
    "\n",
    "That is not fully automatic, so no. You should be able to run your feature extraction without any human intervention. If you want to collect data from Mechanical Turk to train a classifier that you can then use to generate your features, that is fine. (But that’s way too much work for this assignment.)\n",
    "\n",
    "> Can I use a Neural Network to automatically generate derived features? \n",
    "\n",
    "No. This assignment is about your ability to extract meaningful features from the data using your own experimentation and experience.\n",
    "\n",
    "> What sort of improvement is “good” or “enough”?\n",
    "\n",
    "If you have 10-15% improvement over the baseline (on the Public Leaderboard) with your features, that’s more than sufficient. If you fail to get that improvement but have tried reasonable features, that satisfies the requirements of assignment. However, the extra credit for “winning” the class competition depends on the performance of other students.\n",
    "\n",
    "> Where do I start?  \n",
    "\n",
    "It might be a good idea to look at the in-class notebook associated with the Feature Engineering lecture where we did similar experiments. \n",
    "\n",
    "\n",
    "> Can I use late days on this assignment? \n",
    "\n",
    "You can use late days for the write-up submission, but the Kaggle competition closes at **4:59pm on Friday February 23rd**\n",
    "\n",
    "> Why does it say that the competition ends at 11:59pm when the assignment says 4:59pm? \n",
    "\n",
    "The end time/date are in UTC.  11:59pm UTC is equivalent to 4:59pm MST.  Kaggle In-Class does not allow us to change this. "
   ]
  },
  {
   "cell_type": "code",
   "execution_count": null,
   "metadata": {},
   "outputs": [],
   "source": []
  },
  {
   "cell_type": "code",
   "execution_count": null,
   "metadata": {},
   "outputs": [],
   "source": []
  }
 ],
 "metadata": {
  "kernelspec": {
   "display_name": "Python 3",
   "language": "python",
   "name": "python3"
  },
  "language_info": {
   "codemirror_mode": {
    "name": "ipython",
    "version": 3
   },
   "file_extension": ".py",
   "mimetype": "text/x-python",
   "name": "python",
   "nbconvert_exporter": "python",
   "pygments_lexer": "ipython3",
   "version": "3.6.3"
  }
 },
 "nbformat": 4,
 "nbformat_minor": 2
}
