{
 "cells": [
  {
   "cell_type": "markdown",
   "metadata": {},
   "source": [
    "# K-Nearest Neighbors Homework Solutions\n",
    "***\n",
    "**Name**: $<$Xu Han$>$ \n",
    "***\n",
    "\n",
    "This assignment is due on Moodle by **5pm on Friday January 26th**. Submit only this Jupyter notebook to Moodle.  Do not compress it using tar, rar, zip, etc. Your solutions to analysis questions should be done in Markdown directly below the associated question.  Remember that you are encouraged to discuss the problems with your instructors and classmates, but **you must write all code and solutions on your own**.  For a refresher on the course **Collaboration Policy** click [here](https://github.com/chrisketelsen/CSCI5622-Machine-Learning/blob/master/resources/syllabus.md#collaboration-policy)\n",
    "\n"
   ]
  },
  {
   "cell_type": "markdown",
   "metadata": {},
   "source": [
    "## Overview \n",
    "***\n",
    "\n",
    "\n",
    "In this homework you'll implement a K-Nearest Neighbor framework to take an image of a handwritten digit and predict which digit it corresponds to.  \n",
    "\n",
    "<br>\n",
    "\n",
    "![Samples of Handwritten Digits](wide_mnist.png \"MNIST Digits\")\n",
    "\n",
    "\n",
    "<br>\n",
    "\n",
    "This homework is designed to be pretty easy. If you're spending a ton of time on this assignment, then you are either:\n",
    "\n",
    "- not prepared to take this course (i.e., if you're struggling with Python)\n",
    "- seriously over-thinking the assignment\n",
    "- trying to implement too much of KNN from scratch\n",
    "\n",
    "\n",
    "Most of this assignment will be done by calling libraries that are already implemented for you. If you are implementing $n$-dimensional search or your own distance metrics, you are generating extra work for yourself and making yourself vulnerable to errors. \n",
    "\n",
    "Here are the rules: \n",
    "\n",
    "- Do **NOT** load or use any Python packages that are not available in Anaconda 3.6. \n",
    "- Some problems with code may be autograded.  If we provide a function or class API **do not** change it.\n",
    "- Do not change the location of the data or data directory.  Use only relative paths to access the data. "
   ]
  },
  {
   "cell_type": "code",
   "execution_count": 1,
   "metadata": {},
   "outputs": [],
   "source": [
    "import numpy as np\n",
    "import matplotlib.pylab as plt\n",
    "%matplotlib inline "
   ]
  },
  {
   "cell_type": "markdown",
   "metadata": {},
   "source": [
    "### [5 points] Problem 1\n",
    "***\n",
    "\n",
    "The class below will load and store the MNIST data.  Load the data and then report: \n",
    "- The number of examples in the training set \n",
    "- The number of examples in the test set \n",
    "- The number of pixels in each image. "
   ]
  },
  {
   "cell_type": "code",
   "execution_count": 2,
   "metadata": {},
   "outputs": [],
   "source": [
    "class Numbers:\n",
    "    \"\"\"\n",
    "    Class to store MNIST data\n",
    "    \"\"\"\n",
    "    def __init__(self, location):\n",
    "\n",
    "        import pickle, gzip\n",
    "\n",
    "        # load data from file \n",
    "        f = gzip.open(location, 'rb')\n",
    "        train_set, valid_set, test_set = pickle.load(f)\n",
    "        f.close()\n",
    "\n",
    "        # store for use later  \n",
    "        self.train_x, self.train_y = train_set\n",
    "        self.test_x, self.test_y = valid_set\n",
    "        \n",
    "        #calculte the number of examples in the training and test set\n",
    "        train_set_number = len(self.train_x)\n",
    "        test_set_number = len(self.test_x)\n",
    "        \n",
    "        #calculate the number of pixels in each image\n",
    "        pixels_number = self.train_x.shape[1]\n",
    "        \n",
    "        print(\"The number of examples in the training set is {:}\".format(train_set_number))\n",
    "        print(\"The number of examples in the test set is {:}\".format(test_set_number))\n",
    "        print(\"The number of pixels in each image is {:}\".format(pixels_number))"
   ]
  },
  {
   "cell_type": "code",
   "execution_count": 7,
   "metadata": {},
   "outputs": [
    {
     "name": "stdout",
     "output_type": "stream",
     "text": [
      "The number of examples in the training set is 50000\n",
      "The number of examples in the test set is 10000\n",
      "The number of pixels in each image is 784\n"
     ]
    }
   ],
   "source": [
    "data = Numbers(\"../data/mnist.pklz\")"
   ]
  },
  {
   "cell_type": "markdown",
   "metadata": {},
   "source": [
    "### [30 points] Problem 2\n",
    "***\n",
    "\n",
    "The class below will perform K-Nearest Neighbor classification on our handwritten digit data. Your tasks are as follows:   \n",
    "\n",
    "1. Modify the `label_counts` function to return a dictionary of frequencies corresponding to each label in the training set. \n",
    "1. Modify the `majority` function so that it returns the _label_ that appears most frequently in the $K$-nearest neighbors of the query point.  In the case that the maximum frequency occurs for two or more labels, return the one that appears most frequently in the entire training set. In the case that there is still a tie, break the tie in any way that you choose. \n",
    "1. Modify the `classify` function so that it finds the _indices_ of the $K$ closest training examples to the query point and then calls the `majority` function to return the predicted label. Almost all of the heavy lifting here will be done by the BallTree object from `sklearn.neighbors`, so you'll want to start out by reading the [documentation](http://scikit-learn.org/stable/modules/generated/sklearn.neighbors.BallTree.html).  \n",
    "1. Modify the `confusion_matrix` function to classify examples and record the results in a confusion matrix. You should construct the confusion matrix on your own.  Don't call any additional functions from sklearn to do it for you.\n",
    "\n",
    "The class Knearest also implements an `accuracy` function which you will use in **Problem 3**.  You should not have to modify this function. \n",
    "\n",
    "We've given you unit tests down below based on the simple example worked out in lecture.  At first your code will fail all of them.  Do not move on to **Problem 3** until your code passes all of the unit tests. In addition, passing the unit tests does not guarantee that your implementation is robust and that you'll earn full points on this problem.  You should be designing your own additional tests as well. "
   ]
  },
  {
   "cell_type": "code",
   "execution_count": 8,
   "metadata": {},
   "outputs": [],
   "source": [
    "class Knearest:\n",
    "    \"\"\"\n",
    "    kNN classifier\n",
    "    \"\"\"\n",
    "\n",
    "    def __init__(self, X, y, k=5):\n",
    "        \"\"\"\n",
    "        Creates a kNN instance\n",
    "\n",
    "        :param x: Training data input\n",
    "        :param y: Training data output\n",
    "        :param k: The number of nearest points to consider in classification\n",
    "        \"\"\"\n",
    "        \n",
    "        from sklearn.neighbors import BallTree\n",
    "\n",
    "        self._kdtree = BallTree(X)\n",
    "        self._y = y\n",
    "        self._k = k\n",
    "        self._counts = self.label_counts()\n",
    "        \n",
    "    def label_counts(self):\n",
    "        \"\"\"\n",
    "        Given the training labels, return a dictionary d where d[y] is  \n",
    "        the number of times that label y appears in the training set. \n",
    "        \"\"\"\n",
    "        d = {}\n",
    "\n",
    "        for ii in np.unique(self._y):\n",
    "            d[ii] = np.count_nonzero(np.array(self._y) == ii)\n",
    "\n",
    "        #print(d)\n",
    "        #return dict({1:0, -1:0})\n",
    "        return d\n",
    "\n",
    "    def majority(self, neighbor_indices):\n",
    "        \"\"\"\n",
    "        Given the indices of training examples, return the majority label. Break ties \n",
    "        by choosing the tied label that appears most often in the training data. \n",
    "\n",
    "        :param neighbor_indices: The indices of the k nearest neighbors\n",
    "        \"\"\"\n",
    "        assert len(neighbor_indices) == self._k, \"Did not get k neighbor indices\"\n",
    "        \n",
    "        #calculate the frequency for each label within neighbor_indices\n",
    "        neighbor_label_dict = {}\n",
    "               \n",
    "        for label in np.unique(self._y[neighbor_indices]):\n",
    "            neighbor_label_dict[label] = np.count_nonzero(np.array(self._y[neighbor_indices]) == label)\n",
    "        \n",
    "        #print(neighbor_label_dict)\n",
    "        #find max count\n",
    "        max_count = max(list(neighbor_label_dict.values()))\n",
    "        #print(max_count)\n",
    "        \n",
    "        #find label with max count\n",
    "        majority_label_list = [] \n",
    "        \n",
    "        for kk in neighbor_label_dict:\n",
    "            if neighbor_label_dict[kk] == max_count:\n",
    "                majority_label_list.append(kk)\n",
    "        \n",
    "        #print(majority_label_list)\n",
    "        \n",
    "        if len(majority_label_list) == 1:\n",
    "        #there is only on label with max count\n",
    "            #print(len(majority_label_list))\n",
    "            #print(majority_label_list)\n",
    "            return majority_label_list[0]\n",
    "        else:\n",
    "        #return the label that appears most frequently in the entire dataset\n",
    "        #find the label with most frequency\n",
    "            entire_max_label = {}\n",
    "            entire_label = self.label_counts()\n",
    "            for ll in majority_label_list:\n",
    "                entire_max_label[ll] = entire_label[ll]\n",
    "            \n",
    "            entire_max_count = max(list(entire_max_label.values()))\n",
    "            \n",
    "            entire_majority_label_list = []\n",
    "            for entire_kk in entire_max_label:\n",
    "                if entire_max_label[entire_kk] == entire_max_count:\n",
    "                    entire_majority_label_list.append(entire_kk)\n",
    "            \n",
    "            \n",
    "            return entire_majority_label_list[0]\n",
    "        \n",
    "        \n",
    "        #return self._y[neighbor_indices[0]]\n",
    "    \n",
    "\n",
    "    def classify(self, example):\n",
    "        \"\"\"\n",
    "        Given an example, return the predicted label. \n",
    "\n",
    "        :param example: A representation of an example in the same\n",
    "        format as a row of the training data\n",
    "        \"\"\"\n",
    "        distances, indices = self._kdtree.query(example.reshape(1, -1), self._k)\n",
    "        return self.majority(indices[0])\n",
    "\n",
    "\n",
    "    def confusion_matrix(self, test_x, test_y):\n",
    "        \"\"\"\n",
    "        Given a matrix of test examples and labels, compute the confusion\n",
    "        matrix for the current classifier.  Should return a 2-dimensional\n",
    "        numpy array of ints, C, where C[ii,jj] is the number of times an \n",
    "        example with true label ii was labeled as jj.\n",
    "\n",
    "        :param test_x: test data \n",
    "        :param test_y: true test labels \n",
    "        \"\"\"\n",
    "        \n",
    "        C = np.zeros((10,10), dtype=int)\n",
    "        #count_test = 0\n",
    "        for xx, yy in zip(test_x, test_y):\n",
    "            pre_label = self.classify(xx)\n",
    "            C[yy, pre_label] += 1\n",
    "            \n",
    "            #if pre_label != yy:\n",
    "                #print('index:', count_test, 'actual label: ',yy, 'predicted label: ', pre_label)\n",
    "            #count_test += 1\n",
    "            \n",
    "        #print(\"Confusion matrix is:\")\n",
    "        #print(C)\n",
    "        \n",
    "        return C \n",
    "            \n",
    "    @staticmethod\n",
    "    def accuracy(C):\n",
    "        \"\"\"\n",
    "        Given a confusion matrix C, compute the accuracy of the underlying classifier.\n",
    "        \n",
    "        :param C: a confusion matrix \n",
    "        \"\"\"\n",
    "        \n",
    "        return np.sum(C.diagonal()) / C.sum()\n",
    "        "
   ]
  },
  {
   "cell_type": "markdown",
   "metadata": {},
   "source": [
    "Here are the unit tests.  You don't need to modify them.  Simply execute the cell and observe the output. "
   ]
  },
  {
   "cell_type": "code",
   "execution_count": 9,
   "metadata": {
    "scrolled": true
   },
   "outputs": [
    {
     "name": "stderr",
     "output_type": "stream",
     "text": [
      "....\n",
      "----------------------------------------------------------------------\n",
      "Ran 4 tests in 0.010s\n",
      "\n",
      "OK\n"
     ]
    },
    {
     "data": {
      "text/plain": [
       "<unittest.runner.TextTestResult run=4 errors=0 failures=0>"
      ]
     },
     "execution_count": 9,
     "metadata": {},
     "output_type": "execute_result"
    }
   ],
   "source": [
    "import unittest\n",
    "\n",
    "class TestKnn(unittest.TestCase):\n",
    "    def setUp(self):\n",
    "        self.x = np.array([[2, 0], [4, 1], [6, 0], [1, 4], [2, 4], [2, 5], [4, 4], [0, 2], [3, 2], [4, 2], [5, 2], [5, 5]])\n",
    "        self.y = np.array([+1, +1, +1, +1, +1, +1, +1, -1, -1, -1, -1, -1])\n",
    "        self.knn = {}\n",
    "        for ii in [1, 2, 3]:\n",
    "            self.knn[ii] = Knearest(self.x, self.y, ii)\n",
    "\n",
    "        self.queries = np.array([[1, 5], [0, 3], [6, 4]])\n",
    "        \n",
    "    def test0(self):\n",
    "        \"\"\"\n",
    "        Test the label counter \n",
    "        \"\"\"\n",
    "        self.assertEqual(self.knn[1]._counts[-1], 5)\n",
    "        self.assertEqual(self.knn[1]._counts[1], 7)\n",
    "\n",
    "    def test1(self):\n",
    "        \"\"\"\n",
    "        Test 1NN\n",
    "        \"\"\"\n",
    "        self.assertEqual(self.knn[1].classify(self.queries[0]),  1)\n",
    "        self.assertEqual(self.knn[1].classify(self.queries[1]), -1)\n",
    "        self.assertEqual(self.knn[1].classify(self.queries[2]), -1)\n",
    "\n",
    "    def test2(self):\n",
    "        \"\"\"\n",
    "        Test 2NN\n",
    "        \"\"\"\n",
    "        self.assertEqual(self.knn[2].classify(self.queries[0]),  1)\n",
    "        self.assertEqual(self.knn[2].classify(self.queries[1]),  1)\n",
    "        self.assertEqual(self.knn[2].classify(self.queries[2]),  1)\n",
    "\n",
    "    def test3(self):\n",
    "        \"\"\"\n",
    "        Test 3NN\n",
    "        \"\"\"\n",
    "        self.assertEqual(self.knn[3].classify(self.queries[0]),  1)\n",
    "        self.assertEqual(self.knn[3].classify(self.queries[1]),  1)\n",
    "        self.assertEqual(self.knn[3].classify(self.queries[2]), -1)\n",
    "        \n",
    "tests = TestKnn()\n",
    "tests_to_run = unittest.TestLoader().loadTestsFromModule(tests)\n",
    "unittest.TextTestRunner().run(tests_to_run)"
   ]
  },
  {
   "cell_type": "markdown",
   "metadata": {},
   "source": [
    "### [15 points] Problem 3\n",
    "***\n",
    "\n",
    "In this problem you'll explore the performance of the classifier you've written.  A word of advice: don't use the entire training set, especially at first.  We'll be using this dataset again later on with techniques that scale better.    "
   ]
  },
  {
   "cell_type": "markdown",
   "metadata": {},
   "source": [
    "**Part A**: Explore the relationship between the number of training examples and accuracy on the test set. Comment on your findings and support your observations with some kind of graphic. "
   ]
  },
  {
   "cell_type": "code",
   "execution_count": 21,
   "metadata": {},
   "outputs": [
    {
     "name": "stdout",
     "output_type": "stream",
     "text": [
      "When the number of training samples is  100 and K is 3 , the accuracy is  0.6127\n",
      "When the number of training samples is  300 and K is 3 , the accuracy is  0.7932\n",
      "When the number of training samples is  500 and K is 3 , the accuracy is  0.849\n",
      "When the number of training samples is  1000 and K is 3 , the accuracy is  0.8799\n",
      "When the number of training samples is  3000 and K is 3 , the accuracy is  0.9226\n",
      "When the number of training samples is  5000 and K is 3 , the accuracy is  0.9348\n",
      "When the number of training samples is  10000 and K is 3 , the accuracy is  0.9504\n",
      "When the number of training samples is  25000 and K is 3 , the accuracy is  0.9586\n",
      "When the number of training samples is  40000 and K is 3 , the accuracy is  0.9625\n",
      "When the number of training samples is  50000 and K is 3 , the accuracy is  0.9638\n"
     ]
    }
   ],
   "source": [
    "train_size = [100, 300, 500, 1000, 3000, 5000, 10000, 25000, 40000, 50000]\n",
    "k_size = [3]\n",
    "train_set_number, pixels = data.train_x.shape\n",
    "\n",
    "predict_accuracy = []\n",
    "for ii in train_size:\n",
    "    indices = np.random.choice(train_set_number, ii) #randomly select train data\n",
    "    \n",
    "    train_x = data.train_x[indices, :]\n",
    "    train_y = data.train_y[indices]\n",
    "    for k in k_size:\n",
    "        knn = Knearest(train_x, train_y, k)\n",
    "        confusion_matrix = knn.confusion_matrix(data.test_x, data.test_y)\n",
    "        result = knn.accuracy(confusion_matrix)\n",
    "        predict_accuracy.append(result)\n",
    "        print('When the number of training samples is ', ii , 'and K is', k ,', the accuracy is ', result)\n",
    "        \n",
    "        \n",
    "\n",
    "    "
   ]
  },
  {
   "cell_type": "code",
   "execution_count": 22,
   "metadata": {},
   "outputs": [
    {
     "data": {
      "image/png": "[encoded data removed]",
      "text/plain": [
       "<matplotlib.figure.Figure at 0x102c378d0>"
      ]
     },
     "metadata": {},
     "output_type": "display_data"
    }
   ],
   "source": [
    "#draw graph\n",
    "plt.title('The relationship between the number of training examples and accuracy in the test set')\n",
    "plt.plot(train_size, predict_accuracy)\n",
    "plt.xlabel('Training size')\n",
    "plt.ylabel('Accuracy')\n",
    "plt.show()"
   ]
  },
  {
   "cell_type": "markdown",
   "metadata": {},
   "source": [
    "From the accuracy result and graph above, we can roughly analyze the relationship between the number of training examples and accuracy in the test set:\n",
    "1. When K is settled, the larger of the training size is, the higher of the accuracy is.\n",
    "2. When K is settled, the accuracy grows really fast at the beginning when the training size is very small(smaller than 5000), but with the training size's growing, the accuracy grows slower and slower.\n",
    "\n",
    "From these findings, we can learn that in order to achieve higher accuracy in machine learning model training, larger training sets are required."
   ]
  },
  {
   "cell_type": "markdown",
   "metadata": {},
   "source": [
    "**Part B**: Explore the relationship between the number of nearest neighbors and accuracy on the test set. Comment on your findings and support your observations with some kind of graphic. "
   ]
  },
  {
   "cell_type": "code",
   "execution_count": 20,
   "metadata": {},
   "outputs": [
    {
     "name": "stdout",
     "output_type": "stream",
     "text": [
      "When the number of training samples is  10000 and K is 1 , the accuracy is  0.9415\n",
      "When the number of training samples is  10000 and K is 2 , the accuracy is  0.928\n",
      "When the number of training samples is  10000 and K is 3 , the accuracy is  0.9455\n",
      "When the number of training samples is  10000 and K is 4 , the accuracy is  0.9345\n",
      "When the number of training samples is  10000 and K is 5 , the accuracy is  0.9375\n",
      "When the number of training samples is  10000 and K is 6 , the accuracy is  0.9365\n",
      "When the number of training samples is  10000 and K is 7 , the accuracy is  0.9405\n",
      "When the number of training samples is  10000 and K is 8 , the accuracy is  0.935\n",
      "When the number of training samples is  10000 and K is 9 , the accuracy is  0.939\n",
      "When the number of training samples is  10000 and K is 10 , the accuracy is  0.935\n",
      "When the number of training samples is  10000 and K is 15 , the accuracy is  0.932\n",
      "When the number of training samples is  10000 and K is 20 , the accuracy is  0.925\n"
     ]
    }
   ],
   "source": [
    "train_size = [10000]\n",
    "k_size = [1,2,3,4,5,6,7,8,9,10,15,20]\n",
    "test_size = [2000]\n",
    "train_set_number, pixels = data.train_x.shape\n",
    "test_set_number,pixels_test = data.test_x.shape\n",
    "\n",
    "predict_accuracy = []\n",
    "for ii in train_size:\n",
    "    indices = np.random.choice(train_set_number, ii) #randomly select train data\n",
    "    indices_test = np.random.choice(test_set_number, test_size[0])\n",
    "    \n",
    "    train_x = data.train_x[indices, :]\n",
    "    train_y = data.train_y[indices]\n",
    "    test_x = data.test_x[indices_test, :]\n",
    "    test_y = data.test_y[indices_test]\n",
    "    for k in k_size:\n",
    "        knn = Knearest(train_x, train_y, k)\n",
    "        confusion_matrix = knn.confusion_matrix(test_x, test_y)\n",
    "        result = knn.accuracy(confusion_matrix)\n",
    "        predict_accuracy.append(result)\n",
    "        print('When the number of training samples is ', ii , 'and K is', k ,', the accuracy is ', result)\n",
    "        \n",
    "        \n"
   ]
  },
  {
   "cell_type": "code",
   "execution_count": 21,
   "metadata": {
    "scrolled": true
   },
   "outputs": [
    {
     "data": {
      "image/png": "[encoded data removed]",
      "text/plain": [
       "<matplotlib.figure.Figure at 0x12ee259b0>"
      ]
     },
     "metadata": {},
     "output_type": "display_data"
    }
   ],
   "source": [
    "#draw graph\n",
    "plt.title('The relationship between the number of nearest neighbors and accuracy in the test set')\n",
    "plt.plot(k_size, predict_accuracy)\n",
    "plt.xlabel('The number of nearest neighbors')\n",
    "plt.ylabel('Accuracy')\n",
    "plt.show()"
   ]
  },
  {
   "cell_type": "markdown",
   "metadata": {},
   "source": [
    "From the accuracy result and graph above(train size is 10000, test size is 2000, train size: test size = 5:1), we can roughly analyze the relationship between the number of nearest neighbors and accuracy in the test set:\n",
    "1. From overall view, we can see that with the growing of K, the accuracy gets lower in general.\n",
    "2. When K is odd number, the accuracy is relatively higher than when K is even number This is probably because when K is even number, there is a higher chance to generate tie cases.\n",
    "3. When K = 1, there could have the situation of overfitting and the neighbors have not be taken into consideration. K=1 is not appropriate.\n",
    "4. The choice of K is emperical, we could use cross-validation and grid search method to find the optimal one. In our case, K=3 could probably be the optimal one.\n",
    "\n"
   ]
  },
  {
   "cell_type": "markdown",
   "metadata": {},
   "source": [
    "**Part C**: Which numbers get confused with each other the most easily?  Use the confusion_matrix function that you wrote above to support your conclusion.  Then use the `view_digit` function given below to plot a few examples of misclassified digits and discuss possible reasons for the misclassifications.  (Investigating misclassified examples is called **error analysis** and is an important step in the development of any classification technique).  "
   ]
  },
  {
   "cell_type": "code",
   "execution_count": 23,
   "metadata": {},
   "outputs": [
    {
     "name": "stdout",
     "output_type": "stream",
     "text": [
      "true label: 5\n"
     ]
    },
    {
     "data": {
      "image/png": "[encoded data removed]",
      "text/plain": [
       "<matplotlib.figure.Figure at 0x117c84400>"
      ]
     },
     "metadata": {},
     "output_type": "display_data"
    }
   ],
   "source": [
    "def view_digit(example, label=None):\n",
    "    if label: print(\"true label: {:d}\".format(label),)\n",
    "    plt.imshow(example.reshape(28,28), cmap='gray');\n",
    "    \n",
    "view_digit(data.train_x[0,:], data.train_y[0])"
   ]
  },
  {
   "cell_type": "code",
   "execution_count": 8,
   "metadata": {},
   "outputs": [
    {
     "name": "stdout",
     "output_type": "stream",
     "text": [
      "index: 5 actual label:  4 predicted label:  9\n",
      "index: 9 actual label:  4 predicted label:  9\n",
      "index: 78 actual label:  9 predicted label:  8\n",
      "index: 86 actual label:  6 predicted label:  2\n",
      "index: 88 actual label:  9 predicted label:  1\n",
      "index: 116 actual label:  8 predicted label:  3\n",
      "index: 120 actual label:  1 predicted label:  4\n",
      "index: 155 actual label:  5 predicted label:  3\n",
      "index: 196 actual label:  2 predicted label:  1\n",
      "index: 239 actual label:  9 predicted label:  0\n",
      "index: 258 actual label:  8 predicted label:  3\n",
      "index: 272 actual label:  8 predicted label:  6\n",
      "index: 317 actual label:  3 predicted label:  8\n",
      "index: 318 actual label:  9 predicted label:  7\n",
      "index: 320 actual label:  5 predicted label:  7\n",
      "index: 329 actual label:  9 predicted label:  7\n",
      "index: 340 actual label:  3 predicted label:  2\n",
      "index: 342 actual label:  8 predicted label:  5\n",
      "index: 346 actual label:  8 predicted label:  7\n",
      "index: 349 actual label:  9 predicted label:  7\n",
      "index: 359 actual label:  7 predicted label:  1\n",
      "index: 368 actual label:  2 predicted label:  3\n",
      "index: 369 actual label:  3 predicted label:  9\n",
      "index: 391 actual label:  9 predicted label:  4\n",
      "index: 403 actual label:  3 predicted label:  9\n",
      "index: 414 actual label:  9 predicted label:  3\n",
      "index: 417 actual label:  3 predicted label:  8\n",
      "index: 426 actual label:  7 predicted label:  1\n",
      "index: 428 actual label:  6 predicted label:  0\n",
      "index: 429 actual label:  8 predicted label:  1\n",
      "index: 431 actual label:  3 predicted label:  9\n",
      "index: 446 actual label:  2 predicted label:  8\n",
      "index: 462 actual label:  9 predicted label:  4\n",
      "index: 514 actual label:  8 predicted label:  3\n",
      "index: 557 actual label:  9 predicted label:  7\n",
      "index: 572 actual label:  1 predicted label:  7\n",
      "index: 618 actual label:  6 predicted label:  1\n",
      "index: 642 actual label:  2 predicted label:  1\n",
      "index: 648 actual label:  7 predicted label:  4\n",
      "index: 650 actual label:  5 predicted label:  3\n",
      "index: 698 actual label:  9 predicted label:  7\n",
      "index: 700 actual label:  2 predicted label:  7\n",
      "index: 712 actual label:  4 predicted label:  9\n",
      "index: 714 actual label:  8 predicted label:  3\n",
      "index: 737 actual label:  4 predicted label:  9\n",
      "index: 756 actual label:  2 predicted label:  7\n",
      "index: 791 actual label:  8 predicted label:  3\n",
      "index: 802 actual label:  2 predicted label:  3\n",
      "index: 819 actual label:  4 predicted label:  9\n",
      "index: 821 actual label:  8 predicted label:  1\n",
      "index: 826 actual label:  2 predicted label:  0\n",
      "index: 841 actual label:  4 predicted label:  1\n",
      "index: 881 actual label:  5 predicted label:  8\n",
      "index: 895 actual label:  5 predicted label:  3\n",
      "index: 908 actual label:  9 predicted label:  8\n",
      "index: 982 actual label:  3 predicted label:  9\n",
      "index: 1094 actual label:  8 predicted label:  5\n",
      "index: 1125 actual label:  4 predicted label:  9\n",
      "index: 1176 actual label:  5 predicted label:  9\n",
      "index: 1248 actual label:  9 predicted label:  4\n",
      "index: 1298 actual label:  5 predicted label:  6\n",
      "index: 1300 actual label:  7 predicted label:  1\n",
      "index: 1315 actual label:  8 predicted label:  1\n",
      "index: 1398 actual label:  2 predicted label:  3\n",
      "index: 1464 actual label:  0 predicted label:  2\n",
      "index: 1576 actual label:  8 predicted label:  3\n",
      "index: 1600 actual label:  4 predicted label:  9\n",
      "index: 1652 actual label:  4 predicted label:  9\n",
      "index: 1698 actual label:  2 predicted label:  7\n",
      "index: 1764 actual label:  5 predicted label:  2\n",
      "index: 1794 actual label:  5 predicted label:  9\n",
      "index: 1803 actual label:  8 predicted label:  1\n",
      "index: 1854 actual label:  5 predicted label:  9\n",
      "index: 1944 actual label:  4 predicted label:  9\n",
      "index: 1986 actual label:  2 predicted label:  7\n",
      "index: 1990 actual label:  5 predicted label:  3\n",
      "index: 2086 actual label:  5 predicted label:  9\n",
      "index: 2091 actual label:  8 predicted label:  7\n",
      "index: 2115 actual label:  8 predicted label:  5\n",
      "index: 2127 actual label:  9 predicted label:  7\n",
      "index: 2129 actual label:  3 predicted label:  5\n",
      "index: 2144 actual label:  2 predicted label:  7\n",
      "index: 2173 actual label:  7 predicted label:  1\n",
      "index: 2210 actual label:  5 predicted label:  4\n",
      "index: 2218 actual label:  8 predicted label:  6\n",
      "index: 2246 actual label:  4 predicted label:  9\n",
      "index: 2279 actual label:  4 predicted label:  1\n",
      "index: 2280 actual label:  8 predicted label:  9\n",
      "index: 2294 actual label:  0 predicted label:  6\n",
      "index: 2306 actual label:  8 predicted label:  6\n",
      "index: 2316 actual label:  2 predicted label:  7\n",
      "index: 2326 actual label:  5 predicted label:  3\n",
      "index: 2366 actual label:  2 predicted label:  7\n",
      "index: 2394 actual label:  3 predicted label:  5\n",
      "index: 2424 actual label:  4 predicted label:  9\n",
      "index: 2460 actual label:  7 predicted label:  1\n",
      "index: 2462 actual label:  9 predicted label:  4\n",
      "index: 2674 actual label:  6 predicted label:  0\n",
      "index: 2707 actual label:  7 predicted label:  9\n",
      "index: 2718 actual label:  9 predicted label:  4\n",
      "index: 2722 actual label:  8 predicted label:  9\n",
      "index: 2738 actual label:  1 predicted label:  2\n",
      "index: 2800 actual label:  9 predicted label:  8\n",
      "index: 2802 actual label:  2 predicted label:  1\n",
      "index: 2805 actual label:  9 predicted label:  4\n",
      "index: 2808 actual label:  8 predicted label:  6\n",
      "index: 2814 actual label:  9 predicted label:  3\n",
      "index: 2828 actual label:  3 predicted label:  7\n",
      "index: 2842 actual label:  7 predicted label:  1\n",
      "index: 2869 actual label:  2 predicted label:  7\n",
      "index: 2875 actual label:  5 predicted label:  6\n",
      "index: 2892 actual label:  8 predicted label:  6\n",
      "index: 2894 actual label:  2 predicted label:  1\n",
      "index: 2910 actual label:  9 predicted label:  0\n",
      "index: 2932 actual label:  8 predicted label:  3\n",
      "index: 2938 actual label:  2 predicted label:  7\n",
      "index: 2953 actual label:  2 predicted label:  8\n",
      "index: 2968 actual label:  8 predicted label:  7\n",
      "index: 2971 actual label:  2 predicted label:  7\n",
      "index: 2975 actual label:  2 predicted label:  9\n",
      "index: 2981 actual label:  5 predicted label:  6\n",
      "index: 3015 actual label:  5 predicted label:  6\n",
      "index: 3017 actual label:  2 predicted label:  7\n",
      "index: 3019 actual label:  2 predicted label:  7\n",
      "index: 3029 actual label:  2 predicted label:  8\n",
      "index: 3044 actual label:  9 predicted label:  3\n",
      "index: 3063 actual label:  5 predicted label:  6\n",
      "index: 3069 actual label:  5 predicted label:  6\n",
      "index: 3076 actual label:  2 predicted label:  7\n",
      "index: 3079 actual label:  8 predicted label:  3\n",
      "index: 3113 actual label:  7 predicted label:  9\n",
      "index: 3150 actual label:  8 predicted label:  5\n",
      "index: 3156 actual label:  3 predicted label:  2\n",
      "index: 3312 actual label:  8 predicted label:  5\n",
      "index: 3470 actual label:  5 predicted label:  7\n",
      "index: 3476 actual label:  4 predicted label:  7\n",
      "index: 3522 actual label:  2 predicted label:  0\n",
      "index: 3556 actual label:  8 predicted label:  3\n",
      "index: 3570 actual label:  3 predicted label:  7\n",
      "index: 3578 actual label:  6 predicted label:  5\n",
      "index: 3612 actual label:  7 predicted label:  9\n",
      "index: 3696 actual label:  5 predicted label:  3\n",
      "index: 3736 actual label:  9 predicted label:  1\n",
      "index: 3806 actual label:  8 predicted label:  9\n",
      "index: 3852 actual label:  7 predicted label:  9\n",
      "index: 3872 actual label:  8 predicted label:  3\n",
      "index: 3873 actual label:  4 predicted label:  7\n",
      "index: 3883 actual label:  4 predicted label:  9\n",
      "index: 3910 actual label:  2 predicted label:  1\n",
      "index: 3975 actual label:  3 predicted label:  5\n",
      "index: 3976 actual label:  9 predicted label:  0\n",
      "index: 3978 actual label:  5 predicted label:  8\n",
      "index: 3979 actual label:  8 predicted label:  3\n",
      "index: 3996 actual label:  8 predicted label:  2\n",
      "index: 3997 actual label:  8 predicted label:  3\n",
      "index: 3999 actual label:  8 predicted label:  0\n",
      "index: 4002 actual label:  5 predicted label:  8\n",
      "index: 4035 actual label:  7 predicted label:  9\n",
      "index: 4082 actual label:  8 predicted label:  9\n",
      "index: 4090 actual label:  2 predicted label:  7\n",
      "index: 4097 actual label:  7 predicted label:  9\n",
      "index: 4112 actual label:  4 predicted label:  9\n",
      "index: 4195 actual label:  8 predicted label:  3\n",
      "index: 4258 actual label:  3 predicted label:  7\n",
      "index: 4264 actual label:  4 predicted label:  1\n",
      "index: 4276 actual label:  4 predicted label:  9\n",
      "index: 4296 actual label:  3 predicted label:  8\n",
      "index: 4362 actual label:  8 predicted label:  1\n",
      "index: 4377 actual label:  3 predicted label:  5\n",
      "index: 4378 actual label:  7 predicted label:  1\n"
     ]
    },
    {
     "name": "stdout",
     "output_type": "stream",
     "text": [
      "index: 4394 actual label:  8 predicted label:  3\n",
      "index: 4452 actual label:  4 predicted label:  9\n",
      "index: 4492 actual label:  8 predicted label:  6\n",
      "index: 4506 actual label:  1 predicted label:  2\n",
      "index: 4520 actual label:  9 predicted label:  3\n",
      "index: 4528 actual label:  5 predicted label:  3\n",
      "index: 4542 actual label:  7 predicted label:  9\n",
      "index: 4551 actual label:  2 predicted label:  8\n",
      "index: 4556 actual label:  2 predicted label:  3\n",
      "index: 4574 actual label:  2 predicted label:  6\n",
      "index: 4582 actual label:  4 predicted label:  9\n",
      "index: 4650 actual label:  4 predicted label:  9\n",
      "index: 4682 actual label:  2 predicted label:  3\n",
      "index: 4686 actual label:  4 predicted label:  9\n",
      "index: 4701 actual label:  8 predicted label:  9\n",
      "index: 4756 actual label:  2 predicted label:  3\n",
      "index: 4782 actual label:  3 predicted label:  2\n",
      "index: 4834 actual label:  2 predicted label:  1\n",
      "index: 4856 actual label:  3 predicted label:  9\n",
      "index: 4858 actual label:  3 predicted label:  5\n",
      "index: 4867 actual label:  3 predicted label:  8\n",
      "index: 4880 actual label:  5 predicted label:  6\n",
      "index: 4916 actual label:  8 predicted label:  9\n",
      "index: 4917 actual label:  7 predicted label:  1\n",
      "index: 4926 actual label:  8 predicted label:  9\n",
      "index: 4928 actual label:  5 predicted label:  7\n",
      "index: 4935 actual label:  8 predicted label:  6\n",
      "index: 4937 actual label:  7 predicted label:  1\n",
      "index: 4949 actual label:  5 predicted label:  1\n",
      "index: 4950 actual label:  8 predicted label:  7\n",
      "index: 4966 actual label:  7 predicted label:  9\n",
      "index: 5028 actual label:  3 predicted label:  5\n",
      "index: 5153 actual label:  8 predicted label:  7\n",
      "index: 5156 actual label:  8 predicted label:  5\n",
      "index: 5194 actual label:  3 predicted label:  2\n",
      "index: 5240 actual label:  9 predicted label:  4\n",
      "index: 5278 actual label:  0 predicted label:  2\n",
      "index: 5311 actual label:  8 predicted label:  9\n",
      "index: 5330 actual label:  8 predicted label:  5\n",
      "index: 5340 actual label:  4 predicted label:  1\n",
      "index: 5368 actual label:  8 predicted label:  1\n",
      "index: 5396 actual label:  5 predicted label:  0\n",
      "index: 5403 actual label:  5 predicted label:  6\n",
      "index: 5418 actual label:  4 predicted label:  9\n",
      "index: 5438 actual label:  8 predicted label:  4\n",
      "index: 5555 actual label:  8 predicted label:  3\n",
      "index: 5586 actual label:  8 predicted label:  9\n",
      "index: 5598 actual label:  4 predicted label:  9\n",
      "index: 5606 actual label:  8 predicted label:  6\n",
      "index: 5612 actual label:  9 predicted label:  5\n",
      "index: 5649 actual label:  3 predicted label:  8\n",
      "index: 5739 actual label:  5 predicted label:  3\n",
      "index: 5792 actual label:  9 predicted label:  3\n",
      "index: 5804 actual label:  5 predicted label:  8\n",
      "index: 5814 actual label:  9 predicted label:  4\n",
      "index: 5834 actual label:  9 predicted label:  5\n",
      "index: 5886 actual label:  5 predicted label:  6\n",
      "index: 5906 actual label:  2 predicted label:  5\n",
      "index: 5908 actual label:  5 predicted label:  6\n",
      "index: 5970 actual label:  9 predicted label:  4\n",
      "index: 6014 actual label:  5 predicted label:  3\n",
      "index: 6054 actual label:  5 predicted label:  9\n",
      "index: 6060 actual label:  4 predicted label:  9\n",
      "index: 6066 actual label:  7 predicted label:  1\n",
      "index: 6082 actual label:  8 predicted label:  1\n",
      "index: 6220 actual label:  7 predicted label:  9\n",
      "index: 6222 actual label:  2 predicted label:  8\n",
      "index: 6224 actual label:  5 predicted label:  3\n",
      "index: 6228 actual label:  3 predicted label:  8\n",
      "index: 6254 actual label:  8 predicted label:  9\n",
      "index: 6271 actual label:  9 predicted label:  7\n",
      "index: 6286 actual label:  8 predicted label:  7\n",
      "index: 6344 actual label:  5 predicted label:  3\n",
      "index: 6366 actual label:  5 predicted label:  4\n",
      "index: 6379 actual label:  4 predicted label:  9\n",
      "index: 6380 actual label:  4 predicted label:  9\n",
      "index: 6452 actual label:  4 predicted label:  1\n",
      "index: 6474 actual label:  3 predicted label:  5\n",
      "index: 6480 actual label:  9 predicted label:  3\n",
      "index: 6494 actual label:  9 predicted label:  1\n",
      "index: 6499 actual label:  5 predicted label:  3\n",
      "index: 6573 actual label:  0 predicted label:  6\n",
      "index: 6586 actual label:  5 predicted label:  6\n",
      "index: 6590 actual label:  2 predicted label:  1\n",
      "index: 6596 actual label:  4 predicted label:  9\n",
      "index: 6646 actual label:  4 predicted label:  7\n",
      "index: 6655 actual label:  2 predicted label:  7\n",
      "index: 6672 actual label:  8 predicted label:  1\n",
      "index: 6773 actual label:  9 predicted label:  4\n",
      "index: 6774 actual label:  9 predicted label:  4\n",
      "index: 6800 actual label:  9 predicted label:  5\n",
      "index: 6824 actual label:  2 predicted label:  7\n",
      "index: 6914 actual label:  0 predicted label:  7\n",
      "index: 6962 actual label:  5 predicted label:  6\n",
      "index: 6970 actual label:  4 predicted label:  9\n",
      "index: 7004 actual label:  3 predicted label:  9\n",
      "index: 7018 actual label:  9 predicted label:  7\n",
      "index: 7021 actual label:  8 predicted label:  1\n",
      "index: 7041 actual label:  0 predicted label:  7\n",
      "index: 7062 actual label:  8 predicted label:  3\n",
      "index: 7076 actual label:  4 predicted label:  1\n",
      "index: 7256 actual label:  5 predicted label:  6\n",
      "index: 7290 actual label:  9 predicted label:  4\n",
      "index: 7302 actual label:  5 predicted label:  6\n",
      "index: 7376 actual label:  7 predicted label:  3\n",
      "index: 7480 actual label:  5 predicted label:  9\n",
      "index: 7608 actual label:  3 predicted label:  2\n",
      "index: 7624 actual label:  2 predicted label:  0\n",
      "index: 7628 actual label:  2 predicted label:  7\n",
      "index: 7662 actual label:  5 predicted label:  6\n",
      "index: 7683 actual label:  9 predicted label:  3\n",
      "index: 7718 actual label:  7 predicted label:  1\n",
      "index: 7728 actual label:  9 predicted label:  5\n",
      "index: 7729 actual label:  9 predicted label:  7\n",
      "index: 7732 actual label:  9 predicted label:  3\n",
      "index: 7768 actual label:  5 predicted label:  0\n",
      "index: 7794 actual label:  9 predicted label:  4\n",
      "index: 7808 actual label:  2 predicted label:  3\n",
      "index: 7894 actual label:  2 predicted label:  7\n",
      "index: 7898 actual label:  8 predicted label:  5\n",
      "index: 7982 actual label:  5 predicted label:  3\n",
      "index: 8064 actual label:  3 predicted label:  8\n",
      "index: 8098 actual label:  2 predicted label:  3\n",
      "index: 8101 actual label:  4 predicted label:  1\n",
      "index: 8105 actual label:  4 predicted label:  1\n",
      "index: 8131 actual label:  8 predicted label:  9\n",
      "index: 8159 actual label:  9 predicted label:  7\n",
      "index: 8258 actual label:  7 predicted label:  4\n",
      "index: 8312 actual label:  5 predicted label:  3\n",
      "index: 8331 actual label:  9 predicted label:  7\n",
      "index: 8413 actual label:  9 predicted label:  5\n",
      "index: 8495 actual label:  3 predicted label:  8\n",
      "index: 8566 actual label:  9 predicted label:  4\n",
      "index: 8648 actual label:  7 predicted label:  1\n",
      "index: 8649 actual label:  0 predicted label:  6\n",
      "index: 8653 actual label:  5 predicted label:  3\n",
      "index: 8812 actual label:  3 predicted label:  8\n",
      "index: 8832 actual label:  3 predicted label:  7\n",
      "index: 8871 actual label:  5 predicted label:  9\n",
      "index: 8874 actual label:  3 predicted label:  5\n",
      "index: 9283 actual label:  4 predicted label:  6\n",
      "index: 9286 actual label:  8 predicted label:  5\n",
      "index: 9294 actual label:  8 predicted label:  5\n",
      "index: 9297 actual label:  1 predicted label:  8\n",
      "index: 9303 actual label:  8 predicted label:  5\n",
      "index: 9309 actual label:  8 predicted label:  9\n",
      "index: 9314 actual label:  9 predicted label:  0\n",
      "index: 9361 actual label:  8 predicted label:  3\n",
      "index: 9368 actual label:  5 predicted label:  3\n",
      "index: 9384 actual label:  5 predicted label:  3\n",
      "index: 9399 actual label:  8 predicted label:  3\n",
      "index: 9401 actual label:  4 predicted label:  9\n",
      "index: 9402 actual label:  8 predicted label:  5\n",
      "index: 9403 actual label:  8 predicted label:  3\n",
      "index: 9418 actual label:  0 predicted label:  6\n",
      "index: 9447 actual label:  8 predicted label:  2\n",
      "index: 9466 actual label:  8 predicted label:  5\n",
      "index: 9653 actual label:  0 predicted label:  4\n",
      "index: 9681 actual label:  0 predicted label:  2\n",
      "index: 9701 actual label:  5 predicted label:  6\n",
      "index: 9718 actual label:  8 predicted label:  5\n",
      "index: 9719 actual label:  9 predicted label:  5\n",
      "index: 9720 actual label:  2 predicted label:  0\n",
      "index: 9724 actual label:  7 predicted label:  9\n",
      "index: 9726 actual label:  5 predicted label:  3\n",
      "index: 9731 actual label:  5 predicted label:  1\n",
      "index: 9747 actual label:  5 predicted label:  3\n",
      "index: 9766 actual label:  4 predicted label:  1\n"
     ]
    },
    {
     "name": "stdout",
     "output_type": "stream",
     "text": [
      "index: 9830 actual label:  7 predicted label:  8\n",
      "index: 9915 actual label:  4 predicted label:  7\n",
      "index: 9934 actual label:  0 predicted label:  6\n",
      "index: 9942 actual label:  9 predicted label:  7\n",
      "index: 9948 actual label:  9 predicted label:  7\n",
      "index: 9969 actual label:  9 predicted label:  7\n",
      "index: 9992 actual label:  9 predicted label:  7\n",
      "Confusion matrix is:\n",
      "[[ 980    0    3    0    1    0    5    2    0    0]\n",
      " [   0 1059    2    0    1    0    0    1    1    0]\n",
      " [   4    7  945    8    0    1    1   18    5    1]\n",
      " [   0    0    5  998    0    8    0    4    9    6]\n",
      " [   0    9    0    0  943    0    1    4    0   26]\n",
      " [   2    2    1   19    2  859   16    3    4    7]\n",
      " [   2    1    1    0    0    1  962    0    0    0]\n",
      " [   0   12    0    1    2    0    0 1064    1   10]\n",
      " [   1    9    2   19    1   14    8    6  937   12]\n",
      " [   4    3    0    8   14    6    0   15    3  908]]\n"
     ]
    }
   ],
   "source": [
    "#calculate Confusion Matrix\n",
    "#print out error\n",
    "train_size = [50000]\n",
    "k_size = [3]\n",
    "train_set_number, pixels = data.train_x.shape\n",
    "\n",
    "predict_accuracy = []\n",
    "for ii in train_size:\n",
    "    indices = np.random.choice(train_set_number, ii) #randomly select train data\n",
    "    \n",
    "    train_x = data.train_x[indices, :]\n",
    "    train_y = data.train_y[indices]\n",
    "    for k in k_size:\n",
    "        knn = Knearest(train_x, train_y, k)\n",
    "        confusion_matrix = knn.confusion_matrix(data.test_x, data.test_y)\n",
    "        print(\"Confusion matrix is:\")\n",
    "        print(confusion_matrix)"
   ]
  },
  {
   "cell_type": "markdown",
   "metadata": {},
   "source": [
    "Here I print out confusion matrix and all the error cases. The error cases here could be used to locate the error prediction, which will be used in the following problems. The traning size is 50000, test size is 10000"
   ]
  },
  {
   "cell_type": "code",
   "execution_count": 9,
   "metadata": {},
   "outputs": [
    {
     "name": "stdout",
     "output_type": "stream",
     "text": [
      "This is confusion matrix:\n",
      "[[ 980    0    3    0    1    0    5    2    0    0]\n",
      " [   0 1059    2    0    1    0    0    1    1    0]\n",
      " [   4    7  945    8    0    1    1   18    5    1]\n",
      " [   0    0    5  998    0    8    0    4    9    6]\n",
      " [   0    9    0    0  943    0    1    4    0   26]\n",
      " [   2    2    1   19    2  859   16    3    4    7]\n",
      " [   2    1    1    0    0    1  962    0    0    0]\n",
      " [   0   12    0    1    2    0    0 1064    1   10]\n",
      " [   1    9    2   19    1   14    8    6  937   12]\n",
      " [   4    3    0    8   14    6    0   15    3  908]]\n",
      "The miss rate for number 0 is  0.0110998990918\n",
      "The miss rate for number 1 is  0.0046992481203\n",
      "The miss rate for number 2 is  0.0454545454545\n",
      "The miss rate for number 3 is  0.031067961165\n",
      "The miss rate for number 4 is  0.0406917599186\n",
      "The miss rate for number 5 is  0.0612021857923\n",
      "The miss rate for number 6 is  0.00517063081696\n",
      "The miss rate for number 7 is  0.0238532110092\n",
      "The miss rate for number 8 is  0.0713577799802\n",
      "The miss rate for number 9 is  0.0551508844953\n"
     ]
    }
   ],
   "source": [
    "#calculate the miss rate\n",
    "#print confuion matrix again\n",
    "print('This is confusion matrix:')\n",
    "print(confusion_matrix)\n",
    "list_diagonal = confusion_matrix.diagonal()\n",
    "sum_CM = np.zeros(10)\n",
    "miss_rate_list = np.zeros(10)\n",
    "for jj in range(len(list_diagonal)):\n",
    "    sum_CM[jj] = sum(confusion_matrix[jj])\n",
    "for ii in range(len(list_diagonal)):\n",
    "    miss_rate_list[ii] = (sum_CM[ii]-list_diagonal[ii])/sum_CM[ii]\n",
    "    print('The miss rate for number', ii, 'is ', miss_rate_list[ii])"
   ]
  },
  {
   "cell_type": "markdown",
   "metadata": {},
   "source": [
    "Here I calculate the miss rate for each class. From the result, we can see that number 8(miss rate = 0.071), number 5(miss rate = 0.061) and number 9(miss rate = 0.055) are the top classes with highest miss rate. In this case, number 8,5 and 9 are easiest to get confused with other numbers. So in the following section, I choose 8,5 and 9 to discuss the possible reasons."
   ]
  },
  {
   "cell_type": "code",
   "execution_count": 24,
   "metadata": {
    "scrolled": true
   },
   "outputs": [
    {
     "name": "stdout",
     "output_type": "stream",
     "text": [
      "predicted label: 5\n",
      "true label: 8\n"
     ]
    },
    {
     "data": {
      "image/png": "[encoded data removed]",
      "text/plain": [
       "<matplotlib.figure.Figure at 0x117c22a90>"
      ]
     },
     "metadata": {},
     "output_type": "display_data"
    }
   ],
   "source": [
    "print('predicted label:',5)\n",
    "view_digit(data.test_x[342,:], data.test_y[342])"
   ]
  },
  {
   "cell_type": "markdown",
   "metadata": {},
   "source": [
    "In this test case, the model mislabels it as 5 rather than 8. The probable reason here is there is a little bit missing in the upper right corner of this 8 so that it looks like 5 to the model(the average distance the model calculate is shorter to '5' than '8') . In this case, there are more '5' in its neighbors than '8' and it is labeled as '5'."
   ]
  },
  {
   "cell_type": "code",
   "execution_count": 25,
   "metadata": {
    "scrolled": true
   },
   "outputs": [
    {
     "name": "stdout",
     "output_type": "stream",
     "text": [
      "predicted label: 8\n",
      "true label: 5\n"
     ]
    },
    {
     "data": {
      "image/png": "[encoded data removed]",
      "text/plain": [
       "<matplotlib.figure.Figure at 0x10c3449e8>"
      ]
     },
     "metadata": {},
     "output_type": "display_data"
    }
   ],
   "source": [
    "print('predicted label:',8)\n",
    "view_digit(data.test_x[4002,:], data.test_y[4002])"
   ]
  },
  {
   "cell_type": "markdown",
   "metadata": {},
   "source": [
    "In this test case, the model mislabels it as 8 rather than 5. The probable reason here is that in the bottom left of this graph, the circle is almost closed, which will make the moel recognize it as the bottom circle of 8. Under this situation, there are more '8' in its neighbors than '5' in terms of the calculated average distanec and it is labeled as '8'."
   ]
  },
  {
   "cell_type": "code",
   "execution_count": 21,
   "metadata": {},
   "outputs": [
    {
     "name": "stdout",
     "output_type": "stream",
     "text": [
      "predicted label: 7\n",
      "true label: 9\n"
     ]
    },
    {
     "data": {
      "image/png": "[encoded data removed]",
      "text/plain": [
       "<matplotlib.figure.Figure at 0x11b600470>"
      ]
     },
     "metadata": {},
     "output_type": "display_data"
    }
   ],
   "source": [
    "print('predicted label:',7)\n",
    "view_digit(data.test_x[2127,:], data.test_y[2127])"
   ]
  },
  {
   "cell_type": "markdown",
   "metadata": {},
   "source": [
    "In this test case, the model mislabels it as 7 rather than 9. The probable reason here is that the upper circle of this '9' has been distorted and model recognizes it as a line. Under this situation, there are more '7' in its neighbors than '9' in terms of the calculated average distanec and it is labeled as '7'."
   ]
  }
 ],
 "metadata": {
  "kernelspec": {
   "display_name": "Python 3",
   "language": "python",
   "name": "python3"
  },
  "language_info": {
   "codemirror_mode": {
    "name": "ipython",
    "version": 3
   },
   "file_extension": ".py",
   "mimetype": "text/x-python",
   "name": "python",
   "nbconvert_exporter": "python",
   "pygments_lexer": "ipython3",
   "version": "3.6.3"
  }
 },
 "nbformat": 4,
 "nbformat_minor": 2
}
