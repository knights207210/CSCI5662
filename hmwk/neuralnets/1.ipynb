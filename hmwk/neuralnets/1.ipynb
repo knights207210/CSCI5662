{
 "cells": [
  {
   "cell_type": "markdown",
   "metadata": {},
   "source": [
    "# Neural Networks Homework \n",
    "***\n",
    "**Name**: $<$Yichen Wang$>$ \n",
    "***\n",
    "\n",
    "This assignment is due on Moodle by **11:59pm on Wednesday May 2nd**. Submit only this Jupyter notebook to Moodle.  Do not compress it using tar, rar, zip, etc. Your solutions to analysis questions should be done in Markdown directly below the associated question.  Remember that you are encouraged to discuss the problems with your instructors and classmates, but **you must write all code and solutions on your own**.  For a refresher on the course **Collaboration Policy** click [here](https://github.com/chrisketelsen/CSCI5622-Machine-Learning/blob/master/resources/syllabus.md#collaboration-policy)\n",
    "\n",
    "**NOTES**: \n",
    "\n",
    "- Do **NOT** load or use any Python packages that are not available in Anaconda 3.6. \n",
    "- Some problems with code may be autograded.  If we provide a function API **do not** change it.  If we do not provide a function API then you're free to structure your code however you like. \n",
    "- Submit only this Jupyter notebook to Moodle.  Do not compress it using tar, rar, zip, etc. "
   ]
  },
  {
   "cell_type": "code",
   "execution_count": 1,
   "metadata": {
    "ExecuteTime": {
     "end_time": "2018-04-20T02:42:13.096354Z",
     "start_time": "2018-04-20T02:42:12.091124Z"
    },
    "collapsed": true,
    "scrolled": false
   },
   "outputs": [],
   "source": [
    "import pickle, gzip\n",
    "import numpy as np\n",
    "import pandas as pd\n",
    "import matplotlib.pylab as plt\n",
    "import matplotlib.pyplot as plt_\n",
    "%matplotlib inline"
   ]
  },
  {
   "cell_type": "markdown",
   "metadata": {},
   "source": [
    "### [30 points] Problem 1: Building and Training a Feed-Forward Neural Network \n",
    "***\n",
    "\n",
    "In this problem you'll implement a general feed-forward neural network class that utilizes sigmoid activation functions. Your tasks will be to implement `forward propagation`, `prediction`, `back propagation`, `gradient_checking`, and a general `train` routine to learn the weights in your network via Stochastic Gradient Descent.  \n",
    "\n",
    "The skeleton for the `Network` class is below. Note that this class is almost identical to the one you worked with in the **Lecture 18** in-class notebook, so you should look there to remind yourself of the details.   Scroll down to find more information about your tasks as well as unit tests. \n",
    "\n",
    "**Important Note**: In **Problem 2** we'll be using the `Network` class to train a network to do handwritten digit recognition.  Please make sure to utilize vectorized Numpy routines as much as possible, as writing inefficient code here will cause very slow training times in **Problem 2**. "
   ]
  },
  {
   "cell_type": "code",
   "execution_count": 13,
   "metadata": {
    "ExecuteTime": {
     "end_time": "2018-04-20T03:16:00.042109Z",
     "start_time": "2018-04-20T03:15:59.375181Z"
    },
    "collapsed": true,
    "scrolled": true
   },
   "outputs": [],
   "source": [
    "class Network:\n",
    "    def __init__(self, sizes):\n",
    "        \"\"\"\n",
    "        Initialize the neural network \n",
    "        \n",
    "        :param sizes: a list of the number of neurons in each layer \n",
    "        \"\"\"\n",
    "        # save the number of layers in the network \n",
    "        self.L = len(sizes) \n",
    "        \n",
    "        # store the list of layer sizes \n",
    "        self.sizes = sizes  \n",
    "        \n",
    "        # initialize the bias vectors for each hidden and output layer \n",
    "        self.b = [np.random.randn(n) for n in self.sizes[1:]]\n",
    "        \n",
    "        # initialize the matrices of weights for each hidden and output layer \n",
    "        self.W = [np.random.randn(n, m) for (m,n) in zip(self.sizes[:-1], self.sizes[1:])]\n",
    "        \n",
    "        # initialize the derivatives of biases for backprop \n",
    "        self.db = [np.zeros(n) for n in self.sizes[1:]]\n",
    "        \n",
    "        # initialize the derivatives of weights for backprop \n",
    "        self.dW = [np.zeros((n, m)) for (m,n) in zip(self.sizes[:-1], self.sizes[1:])]\n",
    "        \n",
    "        # initialize the activities on each hidden and output layer \n",
    "        self.z = [np.zeros(n) for n in self.sizes]\n",
    "        \n",
    "        # initialize the activations on each hidden and output layer \n",
    "        self.a = [np.zeros(n) for n in self.sizes]\n",
    "        \n",
    "        # initialize the deltas on each hidden and output layer \n",
    "        self.delta = [np.zeros(n) for n in self.sizes]\n",
    "        \n",
    "    def g(self, z):\n",
    "        \"\"\"\n",
    "        sigmoid activation function \n",
    "        \n",
    "        :param z: vector of activities to apply activation to \n",
    "        \"\"\"\n",
    "        z = np.clip(z, -20, 20)\n",
    "        return 1.0/(1.0 + np.exp(-z))\n",
    "    \n",
    "    def g_prime(self, z):\n",
    "        \"\"\"\n",
    "        derivative of sigmoid activation function \n",
    "        \n",
    "        :param z: vector of activities to apply derivative of activation to \n",
    "        \"\"\"\n",
    "        return self.g(z) * (1.0 - self.g(z))\n",
    "    \n",
    "    def C(self, a, y):\n",
    "        \"\"\"\n",
    "        evaluate the cost function for squared-loss C(a,y) = ||a-y||^2/2 \n",
    "        \n",
    "        :param a: activations on output layer \n",
    "        :param y: vector-encoded label \n",
    "        \"\"\"\n",
    "        return 0.5 * np.linalg.norm(a - y)**2\n",
    "    \n",
    "    def gradC(self, a, y):\n",
    "        \"\"\"\n",
    "        evaluate gradient of cost function for squared-loss C(a,y) = ||a-y||^2/2 \n",
    "        \n",
    "        :param a: activations on output layer \n",
    "        :param y: vector-encoded label \n",
    "        \"\"\"\n",
    "        return (a - y)\n",
    "    \n",
    "    def forward_prop(self, x):\n",
    "        \"\"\"\n",
    "        take an feature vector and propagate through network \n",
    "        \n",
    "        :param x: input feature vector \n",
    "        \"\"\"\n",
    "        \n",
    "        # TODO: Initialize activation on initial layer to x \n",
    "        self.a[0]=x\n",
    "        \n",
    "        # TODO: Loop over layers and compute activities and activations \n",
    "        for i in range(self.L-1):\n",
    "            #self.a[i+1]=self.g(np.dot(self.a[i],self.W[i])+self.b[i])\n",
    "            #for j in range(len(self.W[i])):\n",
    "            self.z[i+1]=np.matmul(self.W[i],self.a[i])+self.b[i]\n",
    "            self.a[i+1]=self.g(self.z[i+1])\n",
    "        return self.a[-1]\n",
    "        \n",
    "    def predict(self, X):\n",
    "        \"\"\"\n",
    "        Predicts on the the data in X. Assume at least two output neurons so predictions\n",
    "        are one-hot encoded vectorized labels. \n",
    "        \n",
    "        :param X: a matrix of data to make predictions on \n",
    "        :return y: a matrix of vectorized labels \n",
    "        \"\"\"\n",
    "        yhat = np.zeros((X.shape[0], self.sizes[-1]), dtype=int)\n",
    "        \n",
    "        # TODO: Populate yhat with one-hot-coded predictions \n",
    "        for i in range(X.shape[0]):\n",
    "            output=self.forward_prop(X[i])\n",
    "            yhat[i][np.argmax(output,axis=0)]=1\n",
    "            \n",
    "          \n",
    "        return yhat \n",
    "    \n",
    "    def accuracy(self, X, y):\n",
    "        \"\"\"\n",
    "        compute accuracy on labeled training set \n",
    "\n",
    "        :param X: matrix of features \n",
    "        :param y: matrix of vectorized true labels \n",
    "        \"\"\"\n",
    "        yhat = self.predict(X)\n",
    "        return np.sum(np.all(np.equal(yhat, y), axis=1)) / X.shape[0]\n",
    "            \n",
    "            \n",
    "    def back_prop(self, x, y):\n",
    "        \"\"\"\n",
    "        Back propagation to get derivatives of C wrt weights and biases for given training example\n",
    "        \n",
    "        :param x: training features  \n",
    "        :param y: vector-encoded label \n",
    "        \"\"\"\n",
    "        \n",
    "        # TODO: forward prop training example to fill in activities and activations \n",
    "        out_forward_x=self.forward_prop(x)\n",
    "        \n",
    "        # TODO: compute deltas on output layer \n",
    "        delta_aLC=self.gradC(out_forward_x,y)\n",
    "        gprimeZ=self.g_prime(self.z[self.L-1])\n",
    "        self.delta[self.L-1]=np.multiply(delta_aLC,gprimeZ)\n",
    "        # TODO: loop backward through layers, backprop deltas, compute dWs and dbs\n",
    "        for ll in range(self.L-2, -1, -1):\n",
    "            self.dW[ll]=np.outer(self.delta[ll+1],np.array([self.a[ll]]).T)\n",
    "            self.db[ll]=self.delta[ll+1]\n",
    "            self.delta[ll]=np.multiply(np.matmul(np.transpose(self.W[ll]),self.delta[ll+1]),self.g_prime(self.z[ll]))\n",
    "        \n",
    "    def gradient_checking(self, X_train, y_train, EPS=0.0001):\n",
    "        \"\"\"\n",
    "        Performs gradient checking on all weights in the \n",
    "        network for a randomly selected training example \n",
    "        :param X_train: matrix of training features \n",
    "        :param y_train: matrix of vector-encoded training labels \n",
    "        \"\"\"\n",
    "        # Randomly select a training example \n",
    "        kk = np.random.randint(0,X_train.shape[0])\n",
    "        xk = X_train[kk]\n",
    "        yk = y_train[kk]\n",
    "\n",
    "        # Get the analytic(ish) weights from back_prop \n",
    "        self.back_prop(xk, yk)\n",
    "\n",
    "        # List of relative errors.  Used only for unit testing. \n",
    "        rel_errors = []\n",
    "\n",
    "        # Loop over and perturb each weight/bias in \n",
    "        # network and test numerical derivative \n",
    "        # Don't forget that after perturbing the weights\n",
    "        # you'll want to put them back the way they were! \n",
    "        \n",
    "        # Loop over and perturb each weight/bias in \n",
    "        # network and test numerical derivative \n",
    "        for ell in range(self.L-1):\n",
    "            for ii in range(self.W[ell].shape[0]):\n",
    "                # Check weights in level W[ell][ii,jj] \n",
    "                for jj in range(self.W[ell].shape[1]):\n",
    "                    \n",
    "                    # TODO true_dW  \n",
    "                    true_dW = self.dW[ell][ii,jj]\n",
    "                    # TODO num_dW  \n",
    "                    self.W[ell][ii,jj] += EPS\n",
    "                    a_C1=self.forward_prop(xk)\n",
    "                    C1 = self.C(a_C1,yk)\n",
    "                    #print(self.dW[ell][ii,jj])\n",
    "                    self.W[ell][ii,jj] -= 2*EPS\n",
    "                    a_C2=self.forward_prop(xk)\n",
    "                    C2 = self.C(a_C2,yk)\n",
    "                    #print(self.dW[ell][ii,jj])\n",
    "                    num_dW = (C1-C2)/2/EPS\n",
    "                    self.W[ell][ii,jj] += EPS\n",
    "                    \n",
    "                    \n",
    "                    rel_dW = np.abs(true_dW-num_dW)/np.abs(true_dW)\n",
    "                    print(\"W[{:d}][{:d},{:d}]: true: {: 12.10e}  approx: {: 12.10e} rel_err: {: 12.10e}\".format(ell, ii, jj, true_dW, num_dW, rel_dW))\n",
    "                    rel_errors.append(rel_dW)\n",
    "                    \n",
    "                # Check bias b[ell][ii]\n",
    "                \n",
    "                # TODO true_db  \n",
    "                true_db=self.db[ell][ii]\n",
    "                # TODO num_db  \n",
    "                self.b[ell][ii] += EPS\n",
    "                a_C1_db=self.forward_prop(xk)\n",
    "                C1_db = self.C(a_C1_db,yk)\n",
    "                self.b[ell][ii] -= 2*EPS\n",
    "                a_C2_db=self.forward_prop(xk)\n",
    "                C2_db = self.C(a_C2_db,yk)\n",
    "                num_db = (C1_db-C2_db)/2/EPS\n",
    "                self.b[ell][ii] += EPS\n",
    "                \n",
    "                rel_db = np.abs(true_db-num_db)/np.abs(true_db)\n",
    "                print(\"b[{:d}][{:d}]:   true: {: 12.10e}  approx: {: 12.10e} rel_err: {: 12.10e}\".format(ell, ii, true_db, num_db, rel_db))\n",
    "                rel_errors.append(rel_db)\n",
    "\n",
    "        return rel_errors\n",
    "            \n",
    "            \n",
    "    def train(self, X_train, y_train, X_valid=None, y_valid=None, eta=0.25, lam=0.0, num_epochs=10, isPrint=True):\n",
    "        \"\"\"\n",
    "        Train the network with SGD \n",
    "        \n",
    "        :param X_train: matrix of training features \n",
    "        :param y_train: matrix of vector-encoded training labels \n",
    "        :param X_train: optional matrix of validation features \n",
    "        :param y_train: optional matrix of vector-encoded validation labels \n",
    "        :param eta: learning rate \n",
    "        :param lam: regularization strength \n",
    "        :param num_epochs: number of epochs to run \n",
    "        :param isPrint: flag indicating to print training progress or not \n",
    "        \"\"\"\n",
    "        \n",
    "        # initialize shuffled indices \n",
    "        shuffled_inds = list(range(X_train.shape[0]))\n",
    "        \n",
    "        self.currentEpoch=[]\n",
    "        self.validAcc=[]\n",
    "        # loop over training epochs \n",
    "        for ep in range(num_epochs):\n",
    "            \n",
    "            # shuffle indices \n",
    "            np.random.shuffle(shuffled_inds)\n",
    "            \n",
    "            # loop over training examples \n",
    "            for ind in shuffled_inds:\n",
    "                \n",
    "                # TODO: back prop to get derivatives \n",
    "                self.back_prop(X_train[ind],y_train[ind])\n",
    "                # TODO: update weights and biases \n",
    "                for ll in range(self.L-2, -1, -1):\n",
    "                    self.W[ll] = self.W[ll]-eta*lam*self.W[ll] - eta*self.dW[ll]\n",
    "                    self.b[ll] = self.b[ll] - eta*self.delta[ll+1]\n",
    "                \n",
    "            # occasionally print accuracy\n",
    "            if isPrint and ((ep+1)%5)==1:\n",
    "                self.epoch_report(ep, num_epochs, X_train, y_train, X_valid, y_valid)\n",
    "                self.currentEpoch.append(ep+1)\n",
    "                self.validAcc.append(self.accuracy(X_valid, y_valid))\n",
    "                \n",
    "        # print final accuracy\n",
    "        if isPrint:\n",
    "            self.epoch_report(ep, num_epochs, X_train, y_train, X_valid, y_valid)\n",
    "                \n",
    "                    \n",
    "    def epoch_report(self, ep, num_epochs, X_train, y_train, X_valid, y_valid):\n",
    "        \"\"\"\n",
    "        Print the accuracy for the given epoch on training and validation data \n",
    "        \n",
    "        :param ep: the current epoch \n",
    "        :param num_epochs: the total number of epochs\n",
    "        :param X_train: matrix of training features \n",
    "        :param y_train: matrix of vector-encoded training labels \n",
    "        :param X_train: optional matrix of validation features \n",
    "        :param y_train: optional matrix of vector-encoded validation labels \n",
    "        \"\"\"\n",
    "        \n",
    "        print(\"epoch {:3d}/{:3d}: \".format(ep+1, num_epochs), end=\"\")\n",
    "        print(\"  train acc: {:8.3f}\".format(self.accuracy(X_train, y_train)), end=\"\")\n",
    "        if X_valid is not None: print(\"  valid acc: {:8.3f}\".format(self.accuracy(X_valid, y_valid)))\n",
    "        else: print(\"\")   \n",
    "    "
   ]
  },
  {
   "cell_type": "markdown",
   "metadata": {},
   "source": [
    "**Part A**: Complete the `forward_prop` function in the `Network` class to implement forward propagation.  Your function should take in a single training example `x` and propagate it forward in the network, setting the activations and activities on the hidden and output layers.  When you think you're done, execute the following unit test. "
   ]
  },
  {
   "cell_type": "code",
   "execution_count": 14,
   "metadata": {
    "ExecuteTime": {
     "end_time": "2018-04-20T02:46:58.761543Z",
     "start_time": "2018-04-20T02:46:58.749250Z"
    },
    "scrolled": true
   },
   "outputs": [
    {
     "name": "stderr",
     "output_type": "stream",
     "text": [
      "testForwardProp (__main__.TestNN) ... ok\n",
      "\n",
      "----------------------------------------------------------------------\n",
      "Ran 1 test in 0.002s\n",
      "\n",
      "OK\n"
     ]
    },
    {
     "data": {
      "text/plain": [
       "<matplotlib.figure.Figure at 0x28cf520c0b8>"
      ]
     },
     "metadata": {},
     "output_type": "display_data"
    }
   ],
   "source": [
    "%run -i nn_tests.py \"prob 1A\""
   ]
  },
  {
   "cell_type": "markdown",
   "metadata": {},
   "source": [
    "**Part B**: Complete the `predict` function in the `Network` class to take in a matrix of features and return a matrix of one-hot-encoded label predictions. Your one-hot-encoded predictions should correspond to the output neuron with the largest activation.   \n",
    "\n",
    "When you think your `predict` function is working well, execute the following unit test. "
   ]
  },
  {
   "cell_type": "code",
   "execution_count": 15,
   "metadata": {
    "ExecuteTime": {
     "end_time": "2018-04-20T02:47:01.982781Z",
     "start_time": "2018-04-20T02:47:01.974911Z"
    },
    "scrolled": true
   },
   "outputs": [
    {
     "name": "stderr",
     "output_type": "stream",
     "text": [
      "testPredict (__main__.TestNN) ... ok\n",
      "\n",
      "----------------------------------------------------------------------\n",
      "Ran 1 test in 0.002s\n",
      "\n",
      "OK\n"
     ]
    }
   ],
   "source": [
    "%run -i nn_tests.py \"prob 1B\""
   ]
  },
  {
   "cell_type": "markdown",
   "metadata": {},
   "source": [
    "**Part C**: OK, now it's time to implement back propagation.  Complete the function ``back_prop`` in the ``Network`` class to use a single training example to compute the derivatives of the loss function with respect to the weights and the biases. As in the **Lecture 18** in-class notebook, you may assume that the loss function for a single training example is given by \n",
    "\n",
    "$$\n",
    "C(y, {\\bf a}^L) = \\frac{1}{2}\\|y - {\\bf a}^L\\|^2  \n",
    "$$\n",
    "\n",
    "When you think you're done, execute the following unit test. "
   ]
  },
  {
   "cell_type": "code",
   "execution_count": 16,
   "metadata": {
    "ExecuteTime": {
     "end_time": "2018-04-20T02:47:04.552132Z",
     "start_time": "2018-04-20T02:47:04.543799Z"
    },
    "scrolled": true
   },
   "outputs": [
    {
     "name": "stderr",
     "output_type": "stream",
     "text": [
      "testBackProp (__main__.TestNN) ... ok\n",
      "\n",
      "----------------------------------------------------------------------\n",
      "Ran 1 test in 0.002s\n",
      "\n",
      "OK\n"
     ]
    }
   ],
   "source": [
    "%run -i nn_tests.py \"prob 1C\""
   ]
  },
  {
   "cell_type": "markdown",
   "metadata": {},
   "source": [
    "**Part D**: Due to the fact that we hard-code our various activation functions, cost functions, and their derivatives, it is vital to do some debugging to make sure we haven't made a mistake.  \n",
    "\n",
    "One common technique is to do **numerical gradient checking**.  In this method we compute numerical approximations of the derivatives of the cost function with respect to the model parameters and compare them to the analytic versions computed by back prop.  \n",
    "\n",
    "Consider a cost function $C$ which is a function of all of the weights and biases in the network.  We can estimate the derivative of $C$ with respect to a particular parameter using a numerical finite difference technique.  This process looks as follows \n",
    "\n",
    "$$\n",
    "\\frac{\\partial C}{\\partial w_i} \\approx \\frac{C(w_1,\\ldots, w_i+\\epsilon, \\ldots w_N) - C(w_1,\\ldots, w_i-\\epsilon, \\ldots w_N)}{2\\epsilon}\n",
    "$$\n",
    "\n",
    "Evaluating the cost function with the perturbed weights can be accomplished by randomly choosing a training example, performing forward propagation, and then evaluating the cost function using the activations in the output layer.  \n",
    "\n",
    "I've given you starter code down below to do numerical gradient checking.  The code will compute the true and numerical values of the derivative of $C$ with respect to each parameter in the network and then plot the pairs of values as well as their relative errors.  Note that in practice this is extremely expensive, and we typically only check a few random parameters. \n",
    "\n",
    "When you believe your code is correct, you can test it by executing the following cell. Note that a good rule of thumb is to train the network for a handful of epochs before doing the gradient checking, to avoid any transient behavior that might occur at the very beginning of the training process. "
   ]
  },
  {
   "cell_type": "code",
   "execution_count": 17,
   "metadata": {
    "ExecuteTime": {
     "end_time": "2018-04-20T02:47:05.949886Z",
     "start_time": "2018-04-20T02:47:05.941572Z"
    },
    "scrolled": true
   },
   "outputs": [
    {
     "name": "stderr",
     "output_type": "stream",
     "text": [
      "testGradCheck (__main__.TestNN) ... "
     ]
    },
    {
     "name": "stdout",
     "output_type": "stream",
     "text": [
      "W[0][0,0]: true: -1.6129176665e-02  approx: -1.6129176655e-02 rel_err:  6.2758809415e-10\n",
      "W[0][0,1]: true: -3.2258353331e-02  approx: -3.2258353251e-02 rel_err:  2.4817827221e-09\n",
      "b[0][0]:   true: -1.6129176665e-02  approx: -1.6129176655e-02 rel_err:  6.2758809415e-10\n",
      "W[0][1,0]: true:  1.0259238746e-02  approx:  1.0259238739e-02 rel_err:  6.6307893984e-10\n",
      "W[0][1,1]: true:  2.0518477492e-02  approx:  2.0518477439e-02 rel_err:  2.5974560468e-09\n",
      "b[0][1]:   true:  1.0259238746e-02  approx:  1.0259238739e-02 rel_err:  6.6307893984e-10\n",
      "W[0][2,0]: true: -5.1903568015e-04  approx: -5.1903567999e-04 rel_err:  3.0985203531e-10\n",
      "W[0][2,1]: true: -1.0380713603e-03  approx: -1.0380713582e-03 rel_err:  2.0477984656e-09\n",
      "b[0][2]:   true: -5.1903568015e-04  approx: -5.1903567999e-04 rel_err:  3.0985203531e-10\n",
      "W[1][0,0]: true: -7.1372985374e-02  approx: -7.1372985357e-02 rel_err:  2.3383240182e-10\n",
      "W[1][0,1]: true: -4.3055527018e-02  approx: -4.3055527015e-02 rel_err:  8.6212384741e-11\n",
      "W[1][0,2]: true: -7.8283694312e-02  approx: -7.8283694290e-02 rel_err:  2.8537841612e-10\n",
      "b[1][0]:   true: -1.1427975990e-01  approx: -1.1427975983e-01 rel_err:  6.0395790686e-10\n",
      "W[1][1,0]: true:  7.3734308328e-02  approx:  7.3734308308e-02 rel_err:  2.6781078575e-10\n",
      "W[1][1,1]: true:  4.4479987599e-02  approx:  4.4479987595e-02 rel_err:  9.9368482814e-11\n",
      "W[1][1,2]: true:  8.0873653010e-02  approx:  8.0873652984e-02 rel_err:  3.2132963447e-10\n",
      "b[1][1]:   true:  1.1806062206e-01  approx:  1.1806062198e-01 rel_err:  6.8768061143e-10\n"
     ]
    },
    {
     "name": "stderr",
     "output_type": "stream",
     "text": [
      "ok\n",
      "\n",
      "----------------------------------------------------------------------\n",
      "Ran 1 test in 0.005s\n",
      "\n",
      "OK\n"
     ]
    }
   ],
   "source": [
    "%run -i nn_tests.py \"prob 1D\""
   ]
  },
  {
   "cell_type": "markdown",
   "metadata": {},
   "source": [
    "**Part E**: OK, now let's actually train a neural net!  Complete the missing code in ``train`` to loop over the training data in random order, call `back_prop` to get the derivatives, and then update the weights and the biases via SGD.  When you think you're done, execute the following code"
   ]
  },
  {
   "cell_type": "code",
   "execution_count": 18,
   "metadata": {
    "ExecuteTime": {
     "end_time": "2018-04-20T02:47:05.949886Z",
     "start_time": "2018-04-20T02:47:05.941572Z"
    },
    "scrolled": true
   },
   "outputs": [
    {
     "name": "stderr",
     "output_type": "stream",
     "text": [
      "testSGD (__main__.TestNN) ... ok\n",
      "\n",
      "----------------------------------------------------------------------\n",
      "Ran 1 test in 0.001s\n",
      "\n",
      "OK\n"
     ]
    }
   ],
   "source": [
    "%run -i nn_tests.py \"prob 1E\""
   ]
  },
  {
   "cell_type": "markdown",
   "metadata": {},
   "source": [
    "**Part F**: Last but not least, we should implement $\\ell$-$2$ regularization.  Modify your `train` function to incorporate regularization of the weights (but **not** the biases) in your SGD update.  As in the Lecture 18 slides, you should assume that the cost function with regularization takes the form \n",
    "\n",
    "$$\n",
    "C_\\lambda = C + \\frac{\\lambda}{2} \\displaystyle\\sum_{w} w^2\n",
    "$$\n",
    "\n",
    "where $\\sum_{w}$ sums over each weight in all layers of the network. Think carefully before you go making large changes to your code.  This modification is much simpler than you think. When you think you're done, execute the following unit test.  (Then go back and execute the test in **Part C** to make sure you didn't break anything.) "
   ]
  },
  {
   "cell_type": "code",
   "execution_count": 19,
   "metadata": {
    "ExecuteTime": {
     "end_time": "2018-04-20T02:47:07.378983Z",
     "start_time": "2018-04-20T02:47:07.368858Z"
    },
    "scrolled": true
   },
   "outputs": [
    {
     "name": "stderr",
     "output_type": "stream",
     "text": [
      "testRegularizedSGD (__main__.TestNN) ... ok\n",
      "\n",
      "----------------------------------------------------------------------\n",
      "Ran 1 test in 0.002s\n",
      "\n",
      "OK\n"
     ]
    }
   ],
   "source": [
    "%run -i nn_tests.py \"prob 1F\""
   ]
  },
  {
   "cell_type": "markdown",
   "metadata": {},
   "source": [
    "### [20 points] Problem 2: A Neural Network Classifier for Handwritten Digit Recognition \n",
    "***\n",
    "\n",
    "In this problem you'll use the Feed-Forward Neural Network framework you wrote in **Problem 1** to take an image of a handwritten digit and predict which digit it corresponds to.  \n",
    "\n",
    "![Samples of Handwritten Digits](mnist.png \"MNIST Digits\")\n",
    "\n",
    "To keep run times down we'll again only consider the subset of the MNIST data set consisting of the digits $3, 7, 8$ and $9$. \n",
    "\n",
    "**Part A**: Executing the following cells will load training and validation data and plot an example handwritten digit.  Explore the training and validation sets and answer the following questions: \n",
    "\n",
    "- How many pixels are in each image in the data set?  \n",
    "- How do the true labels correspond to the associated one-hot-encoded label vectors? \n",
    "- Give an example of a network architecture with a single hidden layer that is compatible with this data. \n"
   ]
  },
  {
   "cell_type": "code",
   "execution_count": 20,
   "metadata": {
    "ExecuteTime": {
     "end_time": "2018-04-20T03:43:07.591473Z",
     "start_time": "2018-04-20T03:43:07.485465Z"
    },
    "collapsed": true,
    "scrolled": true
   },
   "outputs": [],
   "source": [
    "X_train, y_train, X_valid, y_valid = pickle.load(gzip.open(\"../data/mnist21x21_3789_one_hot.pklz\", \"rb\"))"
   ]
  },
  {
   "cell_type": "code",
   "execution_count": 21,
   "metadata": {
    "ExecuteTime": {
     "end_time": "2018-04-20T03:43:09.330860Z",
     "start_time": "2018-04-20T03:43:09.239140Z"
    },
    "scrolled": true
   },
   "outputs": [
    {
     "data": {
      "image/png": "[encoded data removed]",
      "text/plain": [
       "<matplotlib.figure.Figure at 0x28cf5451588>"
      ]
     },
     "metadata": {},
     "output_type": "display_data"
    }
   ],
   "source": [
    "def view_digit(x, label=None):\n",
    "    fig = plt.figure(figsize=(3,3))\n",
    "    plt.imshow(x.reshape(21,21), cmap='gray');\n",
    "    plt.xticks([]); plt.yticks([]);\n",
    "    if label: plt.xlabel(\"true: {}\".format(label), fontsize=16)\n",
    "        \n",
    "training_index = 2\n",
    "label_dict = dict({0:3, 1:7, 2:8, 3:9})\n",
    "view_digit(X_train[training_index], label_dict[np.argmax(y_train[training_index])])"
   ]
  },
  {
   "cell_type": "code",
   "execution_count": 22,
   "metadata": {},
   "outputs": [
    {
     "name": "stdout",
     "output_type": "stream",
     "text": [
      "Number of pixels in each image in the data set 441\n"
     ]
    }
   ],
   "source": [
    "print('Number of pixels in each image in the data set',X_train[0].size)"
   ]
  },
  {
   "cell_type": "code",
   "execution_count": 23,
   "metadata": {},
   "outputs": [
    {
     "name": "stdout",
     "output_type": "stream",
     "text": [
      "Label of the 1st image in validation set: [0 1 0 0]\n"
     ]
    },
    {
     "data": {
      "image/png": "[encoded data removed]",
      "text/plain": [
       "<matplotlib.figure.Figure at 0x28cf5262e10>"
      ]
     },
     "metadata": {},
     "output_type": "display_data"
    }
   ],
   "source": [
    "print('Label of the 1st image in validation set:',y_train[0])\n",
    "view_digit(X_train[0], label_dict[np.argmax(y_train[0])])"
   ]
  },
  {
   "cell_type": "markdown",
   "metadata": {},
   "source": [
    "From the label vectors we can see that the 4 binary numbers represent the true label. If the first number in the label vector is 1, true label is 3. If the second number is 1, true label is 7. If the third number is 1, true label is 8. If the fourth number is 1, true label is 9."
   ]
  },
  {
   "cell_type": "markdown",
   "metadata": {},
   "source": []
  },
  {
   "cell_type": "markdown",
   "metadata": {},
   "source": [
    "**Part B**: Train a network with a single hidden layer containing $30$ neurons on the first $500$ training examples in the training set using a learning rate of $\\eta = 0.01$ for at least $50$ epochs.  What accuracy does your network achieve on the validation set?  Do you see any clear signs of overfitting?   "
   ]
  },
  {
   "cell_type": "code",
   "execution_count": 23,
   "metadata": {},
   "outputs": [
    {
     "name": "stdout",
     "output_type": "stream",
     "text": [
      "epoch   1/350:   train acc:    0.138  valid acc:    0.150\n",
      "epoch  11/350:   train acc:    0.428  valid acc:    0.405\n",
      "epoch  21/350:   train acc:    0.620  valid acc:    0.619\n",
      "epoch  31/350:   train acc:    0.774  valid acc:    0.758\n",
      "epoch  41/350:   train acc:    0.822  valid acc:    0.813\n",
      "epoch  51/350:   train acc:    0.862  valid acc:    0.837\n",
      "epoch  61/350:   train acc:    0.882  valid acc:    0.855\n",
      "epoch  71/350:   train acc:    0.886  valid acc:    0.868\n",
      "epoch  81/350:   train acc:    0.894  valid acc:    0.878\n",
      "epoch  91/350:   train acc:    0.902  valid acc:    0.878\n",
      "epoch 101/350:   train acc:    0.912  valid acc:    0.881\n",
      "epoch 111/350:   train acc:    0.916  valid acc:    0.884\n",
      "epoch 121/350:   train acc:    0.918  valid acc:    0.886\n",
      "epoch 131/350:   train acc:    0.926  valid acc:    0.887\n",
      "epoch 141/350:   train acc:    0.932  valid acc:    0.888\n",
      "epoch 151/350:   train acc:    0.938  valid acc:    0.893\n",
      "epoch 161/350:   train acc:    0.940  valid acc:    0.895\n",
      "epoch 171/350:   train acc:    0.942  valid acc:    0.897\n",
      "epoch 181/350:   train acc:    0.944  valid acc:    0.898\n",
      "epoch 191/350:   train acc:    0.948  valid acc:    0.898\n",
      "epoch 201/350:   train acc:    0.952  valid acc:    0.899\n",
      "epoch 211/350:   train acc:    0.956  valid acc:    0.904\n",
      "epoch 221/350:   train acc:    0.962  valid acc:    0.907\n",
      "epoch 231/350:   train acc:    0.966  valid acc:    0.907\n",
      "epoch 241/350:   train acc:    0.966  valid acc:    0.907\n",
      "epoch 251/350:   train acc:    0.968  valid acc:    0.908\n",
      "epoch 261/350:   train acc:    0.970  valid acc:    0.910\n",
      "epoch 271/350:   train acc:    0.972  valid acc:    0.907\n",
      "epoch 281/350:   train acc:    0.974  valid acc:    0.908\n",
      "epoch 291/350:   train acc:    0.974  valid acc:    0.908\n",
      "epoch 301/350:   train acc:    0.976  valid acc:    0.908\n",
      "epoch 311/350:   train acc:    0.978  valid acc:    0.908\n",
      "epoch 321/350:   train acc:    0.980  valid acc:    0.907\n",
      "epoch 331/350:   train acc:    0.982  valid acc:    0.908\n",
      "epoch 341/350:   train acc:    0.982  valid acc:    0.909\n",
      "epoch 350/350:   train acc:    0.982  valid acc:    0.910\n"
     ]
    }
   ],
   "source": [
    "nn=Network([441,30,4])\n",
    "nn.train(X_train[0:500], y_train[0:500], X_valid=X_valid, y_valid=y_valid, eta=0.01, lam=0.0, num_epochs=350, isPrint=True)"
   ]
  },
  {
   "cell_type": "markdown",
   "metadata": {},
   "source": [
    "I ran 350 epochs. The accuracy on validation set increases with the epoch goes up and achieves as high as 0.910 at epoch 261.\n",
    "At epoch 271 the accuracy on validation set goes down to 0.908, but the accuracy on training set doesn't change. This is a sign of overfitting"
   ]
  },
  {
   "cell_type": "markdown",
   "metadata": {},
   "source": [
    "**Part C**: Modify the `Network` class so that it stores the accuracies on the training and validation data every $5$ epochs during the training process. Now increase the number of neurons in the hidden layer to $100$.  On a single set of axes, plot the **validation accuracy** vs epoch for networks trained on the full training set for at least 50 epochs using the learning rates $\\eta = 0.01$, $\\eta = 0.25$ and $\\eta = 1.5$.  Which learning rate seems to perform the best? What is the best accuracy achieved on the validation set?   "
   ]
  },
  {
   "cell_type": "code",
   "execution_count": 34,
   "metadata": {},
   "outputs": [
    {
     "name": "stdout",
     "output_type": "stream",
     "text": [
      "epoch   1/100:   train acc:    0.456  valid acc:    0.469\n",
      "epoch   6/100:   train acc:    0.544  valid acc:    0.539\n",
      "epoch  11/100:   train acc:    0.697  valid acc:    0.706\n",
      "epoch  16/100:   train acc:    0.708  valid acc:    0.715\n",
      "epoch  21/100:   train acc:    0.713  valid acc:    0.721\n",
      "epoch  26/100:   train acc:    0.718  valid acc:    0.724\n",
      "epoch  31/100:   train acc:    0.722  valid acc:    0.726\n",
      "epoch  36/100:   train acc:    0.727  valid acc:    0.729\n",
      "epoch  41/100:   train acc:    0.744  valid acc:    0.739\n",
      "epoch  46/100:   train acc:    0.928  valid acc:    0.905\n",
      "epoch  51/100:   train acc:    0.948  valid acc:    0.923\n",
      "epoch  56/100:   train acc:    0.954  valid acc:    0.927\n",
      "epoch  61/100:   train acc:    0.959  valid acc:    0.931\n",
      "epoch  66/100:   train acc:    0.961  valid acc:    0.930\n",
      "epoch  71/100:   train acc:    0.963  valid acc:    0.934\n",
      "epoch  76/100:   train acc:    0.965  valid acc:    0.939\n",
      "epoch  81/100:   train acc:    0.967  valid acc:    0.939\n",
      "epoch  86/100:   train acc:    0.969  valid acc:    0.940\n",
      "epoch  91/100:   train acc:    0.969  valid acc:    0.942\n",
      "epoch  96/100:   train acc:    0.972  valid acc:    0.939\n",
      "epoch 100/100:   train acc:    0.972  valid acc:    0.943\n"
     ]
    },
    {
     "data": {
      "image/png": "[encoded data removed]",
      "text/plain": [
       "<matplotlib.figure.Figure at 0x28cf69bd940>"
      ]
     },
     "metadata": {},
     "output_type": "display_data"
    }
   ],
   "source": [
    "nn1=Network([441,100,4])\n",
    "nn1.train(X_train, y_train, X_valid=X_valid, y_valid=y_valid, eta=0.01, lam=0.0, num_epochs=100, isPrint=True)\n",
    "epochs1=nn1.currentEpoch\n",
    "valid_acc1=nn1.validAcc\n",
    "plt.plot(epochs1,valid_acc1)\n",
    "plt.xlabel('epoch')\n",
    "plt.ylabel('validation accuracy')\n",
    "plt.title('epoch - validation accuracy (eta=0.01)')\n",
    "plt.show()"
   ]
  },
  {
   "cell_type": "code",
   "execution_count": 35,
   "metadata": {},
   "outputs": [
    {
     "name": "stdout",
     "output_type": "stream",
     "text": [
      "epoch   1/100:   train acc:    0.928  valid acc:    0.920\n",
      "epoch   6/100:   train acc:    0.970  valid acc:    0.945\n",
      "epoch  11/100:   train acc:    0.984  valid acc:    0.945\n",
      "epoch  16/100:   train acc:    0.991  valid acc:    0.953\n",
      "epoch  21/100:   train acc:    0.993  valid acc:    0.956\n",
      "epoch  26/100:   train acc:    0.993  valid acc:    0.955\n",
      "epoch  31/100:   train acc:    0.994  valid acc:    0.958\n",
      "epoch  36/100:   train acc:    0.994  valid acc:    0.958\n",
      "epoch  41/100:   train acc:    0.994  valid acc:    0.958\n",
      "epoch  46/100:   train acc:    0.995  valid acc:    0.957\n",
      "epoch  51/100:   train acc:    0.995  valid acc:    0.956\n",
      "epoch  56/100:   train acc:    0.995  valid acc:    0.956\n",
      "epoch  61/100:   train acc:    0.995  valid acc:    0.956\n",
      "epoch  66/100:   train acc:    0.995  valid acc:    0.958\n",
      "epoch  71/100:   train acc:    0.995  valid acc:    0.960\n",
      "epoch  76/100:   train acc:    0.996  valid acc:    0.958\n",
      "epoch  81/100:   train acc:    0.996  valid acc:    0.957\n",
      "epoch  86/100:   train acc:    0.996  valid acc:    0.957\n",
      "epoch  91/100:   train acc:    0.996  valid acc:    0.960\n",
      "epoch  96/100:   train acc:    0.996  valid acc:    0.956\n",
      "epoch 100/100:   train acc:    0.996  valid acc:    0.959\n"
     ]
    },
    {
     "data": {
      "image/png": "[encoded data removed]",
      "text/plain": [
       "<matplotlib.figure.Figure at 0x28cf695fd30>"
      ]
     },
     "metadata": {},
     "output_type": "display_data"
    }
   ],
   "source": [
    "nn2=Network([441,100,4])\n",
    "nn2.train(X_train, y_train, X_valid=X_valid, y_valid=y_valid, eta=0.25, lam=0.0, num_epochs=100, isPrint=True)\n",
    "epochs2=nn2.currentEpoch\n",
    "valid_acc2=nn2.validAcc\n",
    "plt.plot(epochs2,valid_acc2)\n",
    "plt.xlabel('epoch')\n",
    "plt.ylabel('validation accuracy')\n",
    "plt.title('epoch - validation accuracy (eta=0.25)')\n",
    "plt.show()"
   ]
  },
  {
   "cell_type": "code",
   "execution_count": 36,
   "metadata": {},
   "outputs": [
    {
     "name": "stdout",
     "output_type": "stream",
     "text": [
      "epoch   1/100:   train acc:    0.687  valid acc:    0.689\n",
      "epoch   6/100:   train acc:    0.914  valid acc:    0.900\n",
      "epoch  11/100:   train acc:    0.953  valid acc:    0.935\n",
      "epoch  16/100:   train acc:    0.976  valid acc:    0.952\n",
      "epoch  21/100:   train acc:    0.969  valid acc:    0.944\n",
      "epoch  26/100:   train acc:    0.983  valid acc:    0.962\n",
      "epoch  31/100:   train acc:    0.983  valid acc:    0.958\n",
      "epoch  36/100:   train acc:    0.984  valid acc:    0.960\n",
      "epoch  41/100:   train acc:    0.989  valid acc:    0.964\n",
      "epoch  46/100:   train acc:    0.987  valid acc:    0.955\n",
      "epoch  51/100:   train acc:    0.990  valid acc:    0.956\n",
      "epoch  56/100:   train acc:    0.989  valid acc:    0.957\n",
      "epoch  61/100:   train acc:    0.990  valid acc:    0.956\n",
      "epoch  66/100:   train acc:    0.991  valid acc:    0.955\n",
      "epoch  71/100:   train acc:    0.994  valid acc:    0.965\n",
      "epoch  76/100:   train acc:    0.993  valid acc:    0.965\n",
      "epoch  81/100:   train acc:    0.995  valid acc:    0.957\n",
      "epoch  86/100:   train acc:    0.995  valid acc:    0.962\n",
      "epoch  91/100:   train acc:    0.992  valid acc:    0.960\n",
      "epoch  96/100:   train acc:    0.994  valid acc:    0.966\n",
      "epoch 100/100:   train acc:    0.994  valid acc:    0.960\n"
     ]
    },
    {
     "data": {
      "image/png": "[encoded data removed]",
      "text/plain": [
       "<matplotlib.figure.Figure at 0x28cf695e400>"
      ]
     },
     "metadata": {},
     "output_type": "display_data"
    }
   ],
   "source": [
    "nn3=Network([441,100,4])\n",
    "nn3.train(X_train, y_train, X_valid=X_valid, y_valid=y_valid, eta=1.5, lam=0.0, num_epochs=100, isPrint=True)\n",
    "epochs3=nn3.currentEpoch\n",
    "valid_acc3=nn3.validAcc\n",
    "plt.plot(epochs3,valid_acc3)\n",
    "plt.xlabel('epoch')\n",
    "plt.ylabel('validation accuracy')\n",
    "plt.title('epoch - validation accuracy (eta=1.5)')\n",
    "plt.show()"
   ]
  },
  {
   "cell_type": "markdown",
   "metadata": {},
   "source": [
    "$\\eta=1.5$ seems to perform the best. The highest accuracy reaches 0.966"
   ]
  },
  {
   "cell_type": "markdown",
   "metadata": {},
   "source": [
    "**Part D**:  Now let's see if we can get better results with regularization. Using the best learning rate you found in **Part C**, on a single set of axes, plot the **validation accuracy** vs epoch for networks trained on the full training set for at least 50 epochs using the regularization strengths $\\lambda = 10^{-6}$, $\\lambda = 10^{-4}$ and $\\lambda = 10^{-2}$.  Which regularization strength seems to perform the best? What is the best accuracy achieved on the validation set?   "
   ]
  },
  {
   "cell_type": "code",
   "execution_count": 37,
   "metadata": {
    "scrolled": true
   },
   "outputs": [
    {
     "name": "stdout",
     "output_type": "stream",
     "text": [
      "epoch   1/100:   train acc:    0.722  valid acc:    0.713\n",
      "epoch   6/100:   train acc:    0.955  valid acc:    0.936\n",
      "epoch  11/100:   train acc:    0.969  valid acc:    0.946\n",
      "epoch  16/100:   train acc:    0.974  valid acc:    0.957\n",
      "epoch  21/100:   train acc:    0.979  valid acc:    0.953\n",
      "epoch  26/100:   train acc:    0.982  valid acc:    0.951\n",
      "epoch  31/100:   train acc:    0.989  valid acc:    0.960\n",
      "epoch  36/100:   train acc:    0.992  valid acc:    0.962\n",
      "epoch  41/100:   train acc:    0.991  valid acc:    0.964\n",
      "epoch  46/100:   train acc:    0.990  valid acc:    0.954\n",
      "epoch  51/100:   train acc:    0.992  valid acc:    0.965\n",
      "epoch  56/100:   train acc:    0.992  valid acc:    0.967\n",
      "epoch  61/100:   train acc:    0.992  valid acc:    0.964\n",
      "epoch  66/100:   train acc:    0.994  valid acc:    0.969\n",
      "epoch  71/100:   train acc:    0.995  valid acc:    0.970\n",
      "epoch  76/100:   train acc:    0.994  valid acc:    0.967\n",
      "epoch  81/100:   train acc:    0.995  valid acc:    0.963\n",
      "epoch  86/100:   train acc:    0.995  valid acc:    0.966\n",
      "epoch  91/100:   train acc:    0.995  valid acc:    0.967\n",
      "epoch  96/100:   train acc:    0.995  valid acc:    0.971\n",
      "epoch 100/100:   train acc:    0.996  valid acc:    0.977\n"
     ]
    },
    {
     "data": {
      "image/png": "[encoded data removed]",
      "text/plain": [
       "<matplotlib.figure.Figure at 0x28cf6b905c0>"
      ]
     },
     "metadata": {},
     "output_type": "display_data"
    }
   ],
   "source": [
    "nn4=Network([441,100,4])\n",
    "nn4.train(X_train, y_train, X_valid=X_valid, y_valid=y_valid, eta=1.5, lam=1e-6, num_epochs=100, isPrint=True)\n",
    "epochs4=nn4.currentEpoch\n",
    "valid_acc4=nn4.validAcc\n",
    "plt.plot(epochs4,valid_acc4)\n",
    "plt.xlabel('epoch')\n",
    "plt.ylabel('validation accuracy')\n",
    "plt.title('epoch - validation accuracy (lambda=1e-6)')\n",
    "plt.show()"
   ]
  },
  {
   "cell_type": "code",
   "execution_count": 40,
   "metadata": {},
   "outputs": [
    {
     "name": "stdout",
     "output_type": "stream",
     "text": [
      "epoch   1/100:   train acc:    0.919  valid acc:    0.913\n",
      "epoch   6/100:   train acc:    0.959  valid acc:    0.943\n",
      "epoch  11/100:   train acc:    0.971  valid acc:    0.957\n",
      "epoch  16/100:   train acc:    0.970  valid acc:    0.961\n",
      "epoch  21/100:   train acc:    0.963  valid acc:    0.943\n",
      "epoch  26/100:   train acc:    0.940  valid acc:    0.905\n",
      "epoch  31/100:   train acc:    0.953  valid acc:    0.944\n",
      "epoch  36/100:   train acc:    0.958  valid acc:    0.942\n",
      "epoch  41/100:   train acc:    0.958  valid acc:    0.942\n",
      "epoch  46/100:   train acc:    0.935  valid acc:    0.907\n",
      "epoch  51/100:   train acc:    0.953  valid acc:    0.946\n",
      "epoch  56/100:   train acc:    0.966  valid acc:    0.948\n",
      "epoch  61/100:   train acc:    0.961  valid acc:    0.941\n",
      "epoch  66/100:   train acc:    0.896  valid acc:    0.860\n",
      "epoch  71/100:   train acc:    0.958  valid acc:    0.942\n",
      "epoch  76/100:   train acc:    0.957  valid acc:    0.939\n",
      "epoch  81/100:   train acc:    0.962  valid acc:    0.954\n",
      "epoch  86/100:   train acc:    0.951  valid acc:    0.934\n",
      "epoch  91/100:   train acc:    0.964  valid acc:    0.943\n",
      "epoch  96/100:   train acc:    0.964  valid acc:    0.949\n",
      "epoch 100/100:   train acc:    0.967  valid acc:    0.952\n"
     ]
    },
    {
     "data": {
      "image/png": "[encoded data removed]",
      "text/plain": [
       "<matplotlib.figure.Figure at 0x28cf6bed0b8>"
      ]
     },
     "metadata": {},
     "output_type": "display_data"
    }
   ],
   "source": [
    "nn5=Network([441,100,4])\n",
    "nn5.train(X_train, y_train, X_valid=X_valid, y_valid=y_valid, eta=1.5, lam=1e-4, num_epochs=100, isPrint=True)\n",
    "epochs5=nn5.currentEpoch\n",
    "valid_acc5=nn5.validAcc\n",
    "plt.plot(epochs5,valid_acc5)\n",
    "plt.xlabel('epoch')\n",
    "plt.ylabel('validation accuracy')\n",
    "plt.title('epoch - validation accuracy (lambda=1e-4)')\n",
    "plt.show()"
   ]
  },
  {
   "cell_type": "code",
   "execution_count": 41,
   "metadata": {},
   "outputs": [
    {
     "name": "stdout",
     "output_type": "stream",
     "text": [
      "epoch   1/100:   train acc:    0.499  valid acc:    0.523\n",
      "epoch   6/100:   train acc:    0.565  valid acc:    0.566\n",
      "epoch  11/100:   train acc:    0.650  valid acc:    0.649\n",
      "epoch  16/100:   train acc:    0.465  valid acc:    0.469\n",
      "epoch  21/100:   train acc:    0.455  valid acc:    0.455\n",
      "epoch  26/100:   train acc:    0.625  valid acc:    0.631\n",
      "epoch  31/100:   train acc:    0.448  valid acc:    0.438\n",
      "epoch  36/100:   train acc:    0.677  valid acc:    0.684\n",
      "epoch  41/100:   train acc:    0.497  valid acc:    0.512\n",
      "epoch  46/100:   train acc:    0.426  valid acc:    0.450\n",
      "epoch  51/100:   train acc:    0.627  valid acc:    0.629\n",
      "epoch  56/100:   train acc:    0.809  valid acc:    0.802\n",
      "epoch  61/100:   train acc:    0.646  valid acc:    0.643\n",
      "epoch  66/100:   train acc:    0.358  valid acc:    0.374\n",
      "epoch  71/100:   train acc:    0.522  valid acc:    0.538\n",
      "epoch  76/100:   train acc:    0.596  valid acc:    0.601\n",
      "epoch  81/100:   train acc:    0.404  valid acc:    0.419\n",
      "epoch  86/100:   train acc:    0.542  valid acc:    0.558\n",
      "epoch  91/100:   train acc:    0.353  valid acc:    0.355\n",
      "epoch  96/100:   train acc:    0.597  valid acc:    0.593\n",
      "epoch 100/100:   train acc:    0.528  valid acc:    0.542\n"
     ]
    },
    {
     "data": {
      "image/png": "[encoded data removed]",
      "text/plain": [
       "<matplotlib.figure.Figure at 0x28cf6b976a0>"
      ]
     },
     "metadata": {},
     "output_type": "display_data"
    }
   ],
   "source": [
    "nn6=Network([441,100,4])\n",
    "nn6.train(X_train, y_train, X_valid=X_valid, y_valid=y_valid, eta=1.5, lam=1e-2, num_epochs=100, isPrint=True)\n",
    "epochs6=nn6.currentEpoch\n",
    "valid_acc6=nn6.validAcc\n",
    "plt.plot(epochs6,valid_acc6)\n",
    "plt.xlabel('epoch')\n",
    "plt.ylabel('validation accuracy')\n",
    "plt.title('epoch - validation accuracy (lambda=1e-2)')\n",
    "plt.show()"
   ]
  },
  {
   "cell_type": "markdown",
   "metadata": {},
   "source": [
    "From the results, $\\lambda=10^{-6}$ performs the best. The best accuracy achieved is 0.977"
   ]
  },
  {
   "cell_type": "markdown",
   "metadata": {},
   "source": [
    "**Part E**:  Now let's see if we can get better results with different network architectures. On a single set of axes, plot the **validation accuracy** vs epoch for networks trained on the full training set for at least 50 epochs using the architecture from **Part D** as well as two other architectures.  Which architecture seems to perform the best? What is the best accuracy achieved on the validation set?   "
   ]
  },
  {
   "cell_type": "code",
   "execution_count": null,
   "metadata": {
    "collapsed": true,
    "scrolled": true
   },
   "outputs": [],
   "source": [
    "nn7=Network([441,100,4])\n",
    "nn7.train(X_train, y_train, X_valid=X_valid, y_valid=y_valid, eta=1.5, lam=1e-6, num_epochs=100, isPrint=True)\n",
    "epochs7=nn7.currentEpoch\n",
    "valid_acc7=nn7.validAcc\n",
    "plt.plot(epochs7,valid_acc7)\n",
    "plt.xlabel('epoch')\n",
    "plt.ylabel('validation accuracy')\n",
    "plt.title('epoch - validation accuracy (lambda=1e-6)')\n",
    "plt.show()"
   ]
  },
  {
   "cell_type": "code",
   "execution_count": 42,
   "metadata": {},
   "outputs": [
    {
     "name": "stdout",
     "output_type": "stream",
     "text": [
      "epoch   1/100:   train acc:    0.654  valid acc:    0.670\n",
      "epoch   6/100:   train acc:    0.947  valid acc:    0.925\n",
      "epoch  11/100:   train acc:    0.951  valid acc:    0.934\n",
      "epoch  16/100:   train acc:    0.952  valid acc:    0.926\n",
      "epoch  21/100:   train acc:    0.936  valid acc:    0.920\n",
      "epoch  26/100:   train acc:    0.954  valid acc:    0.938\n",
      "epoch  31/100:   train acc:    0.956  valid acc:    0.941\n",
      "epoch  36/100:   train acc:    0.959  valid acc:    0.945\n",
      "epoch  41/100:   train acc:    0.964  valid acc:    0.949\n",
      "epoch  46/100:   train acc:    0.732  valid acc:    0.716\n",
      "epoch  51/100:   train acc:    0.883  valid acc:    0.821\n",
      "epoch  56/100:   train acc:    0.780  valid acc:    0.774\n",
      "epoch  61/100:   train acc:    0.946  valid acc:    0.925\n",
      "epoch  66/100:   train acc:    0.916  valid acc:    0.901\n",
      "epoch  71/100:   train acc:    0.720  valid acc:    0.715\n",
      "epoch  76/100:   train acc:    0.693  valid acc:    0.687\n",
      "epoch  81/100:   train acc:    0.473  valid acc:    0.473\n",
      "epoch  86/100:   train acc:    0.501  valid acc:    0.499\n",
      "epoch  91/100:   train acc:    0.485  valid acc:    0.481\n",
      "epoch  96/100:   train acc:    0.717  valid acc:    0.709\n",
      "epoch 100/100:   train acc:    0.636  valid acc:    0.635\n"
     ]
    },
    {
     "data": {
      "image/png": "[encoded data removed]",
      "text/plain": [
       "<matplotlib.figure.Figure at 0x28cf6900978>"
      ]
     },
     "metadata": {},
     "output_type": "display_data"
    }
   ],
   "source": [
    "nn8=Network([441,150,80,4])\n",
    "nn8.train(X_train, y_train, X_valid=X_valid, y_valid=y_valid, eta=1.5, lam=1e-6, num_epochs=100, isPrint=True)\n",
    "epochs8=nn8.currentEpoch\n",
    "valid_acc8=nn8.validAcc\n",
    "plt.plot(epochs8,valid_acc8)\n",
    "plt.xlabel('epoch')\n",
    "plt.ylabel('validation accuracy')\n",
    "plt.title('epoch - validation accuracy (lambda=1e-6)')\n",
    "plt.show()"
   ]
  },
  {
   "cell_type": "code",
   "execution_count": null,
   "metadata": {
    "collapsed": true
   },
   "outputs": [],
   "source": [
    "nn9=Network([441,100,4])\n",
    "nn9.train(X_train, y_train, X_valid=X_valid, y_valid=y_valid, eta=1.5, lam=1e-6, num_epochs=100, isPrint=True)\n",
    "epochs9=nn9.currentEpoch\n",
    "valid_acc9=nn9.validAcc\n",
    "plt.plot(epochs9,valid_acc9)\n",
    "plt.xlabel('epoch')\n",
    "plt.ylabel('validation accuracy')\n",
    "plt.title('epoch - validation accuracy (lambda=1e-6)')\n",
    "plt.show()"
   ]
  },
  {
   "cell_type": "markdown",
   "metadata": {},
   "source": [
    "### [max 20 points] Extra Credit: Improving Network Performance \n",
    "***\n",
    "\n",
    "See if you can get better performance by exploring advanced techniques.  Things you might try are: \n",
    "\n",
    "- Implementing **Mini-Batch** Stochastic Gradient Descent \n",
    "- Experimenting with different activation functions (like tanh and **Leaky** ReLU)\n",
    "- Experimenting with different loss functions (like cross-entropy) \n",
    "\n",
    "For more detailed discussion of these techniques it'll be helpful to look at Chapter 3 of [Nielsen](http://neuralnetworksanddeeplearning.com/chap3.html). \n",
    "\n",
    "The amount of extra credit you receive will be proportional to the number of above suggested tasks that you complete.  Further, to receive credit for the tasks you must not only implement, but also provide evidence that you've tuned the network to make it work.  Comment on the performance differences between the original `Network` implementation and your new networks with bells and whistles. \n",
    "\n",
    "**Important Note**: Don't do any of these things in the original `Network` class, because you'll almost certainly break the unit tests.  Copy the `Network` class from above and rename it `BetterNetwork` (or something) and modify the new class. \n"
   ]
  },
  {
   "cell_type": "code",
   "execution_count": null,
   "metadata": {
    "collapsed": true,
    "scrolled": true
   },
   "outputs": [],
   "source": [
    "class BetterNetwork:\n",
    "    def __init__(self, sizes):\n",
    "        \"\"\"\n",
    "        Initialize the neural network \n",
    "        \n",
    "        :param sizes: a list of the number of neurons in each layer \n",
    "        \"\"\"\n",
    "        # save the number of layers in the network \n",
    "        self.L = len(sizes) \n",
    "        \n",
    "        # store the list of layer sizes \n",
    "        self.sizes = sizes  \n",
    "        \n",
    "        # initialize the bias vectors for each hidden and output layer \n",
    "        self.b = [np.random.randn(n) for n in self.sizes[1:]]\n",
    "        \n",
    "        # initialize the matrices of weights for each hidden and output layer \n",
    "        self.W = [np.random.randn(n, m) for (m,n) in zip(self.sizes[:-1], self.sizes[1:])]\n",
    "        \n",
    "        # initialize the derivatives of biases for backprop \n",
    "        self.db = [np.zeros(n) for n in self.sizes[1:]]\n",
    "        \n",
    "        # initialize the derivatives of weights for backprop \n",
    "        self.dW = [np.zeros((n, m)) for (m,n) in zip(self.sizes[:-1], self.sizes[1:])]\n",
    "        \n",
    "        # initialize the activities on each hidden and output layer \n",
    "        self.z = [np.zeros(n) for n in self.sizes]\n",
    "        \n",
    "        # initialize the activations on each hidden and output layer \n",
    "        self.a = [np.zeros(n) for n in self.sizes]\n",
    "        \n",
    "        # initialize the deltas on each hidden and output layer \n",
    "        self.delta = [np.zeros(n) for n in self.sizes]\n",
    "        \n",
    "    def g(self, z):\n",
    "        \"\"\"\n",
    "        sigmoid activation function \n",
    "        \n",
    "        :param z: vector of activities to apply activation to \n",
    "        \"\"\"\n",
    "        z = np.clip(z, -20, 20)\n",
    "        return 1.0/(1.0 + np.exp(-z))\n",
    "    \n",
    "    def g_prime(self, z):\n",
    "        \"\"\"\n",
    "        derivative of sigmoid activation function \n",
    "        \n",
    "        :param z: vector of activities to apply derivative of activation to \n",
    "        \"\"\"\n",
    "        return self.g(z) * (1.0 - self.g(z))\n",
    "    \n",
    "    def C(self, a, y):\n",
    "        \"\"\"\n",
    "        evaluate the cost function for squared-loss C(a,y) = ||a-y||^2/2 \n",
    "        \n",
    "        :param a: activations on output layer \n",
    "        :param y: vector-encoded label \n",
    "        \"\"\"\n",
    "        return 0.5 * np.linalg.norm(a - y)**2\n",
    "    \n",
    "    def gradC(self, a, y):\n",
    "        \"\"\"\n",
    "        evaluate gradient of cost function for squared-loss C(a,y) = ||a-y||^2/2 \n",
    "        \n",
    "        :param a: activations on output layer \n",
    "        :param y: vector-encoded label \n",
    "        \"\"\"\n",
    "        return (a - y)\n",
    "    \n",
    "    def forward_prop(self, x):\n",
    "        \"\"\"\n",
    "        take an feature vector and propagate through network \n",
    "        \n",
    "        :param x: input feature vector \n",
    "        \"\"\"\n",
    "        \n",
    "        # TODO: Initialize activation on initial layer to x \n",
    "        self.a[0]=x\n",
    "        \n",
    "        # TODO: Loop over layers and compute activities and activations \n",
    "        for i in range(self.L-1):\n",
    "            #self.a[i+1]=self.g(np.dot(self.a[i],self.W[i])+self.b[i])\n",
    "            #for j in range(len(self.W[i])):\n",
    "            self.z[i+1]=np.matmul(self.W[i],self.a[i])+self.b[i]\n",
    "            self.a[i+1]=self.g(self.z[i+1])\n",
    "        return self.a[-1]\n",
    "        \n",
    "    def predict(self, X):\n",
    "        \"\"\"\n",
    "        Predicts on the the data in X. Assume at least two output neurons so predictions\n",
    "        are one-hot encoded vectorized labels. \n",
    "        \n",
    "        :param X: a matrix of data to make predictions on \n",
    "        :return y: a matrix of vectorized labels \n",
    "        \"\"\"\n",
    "        yhat = np.zeros((X.shape[0], self.sizes[-1]), dtype=int)\n",
    "        \n",
    "        # TODO: Populate yhat with one-hot-coded predictions \n",
    "        for i in range(X.shape[0]):\n",
    "            output=self.forward_prop(X[i])\n",
    "            yhat[i][np.argmax(output,axis=0)]=1\n",
    "            \n",
    "          \n",
    "        return yhat \n",
    "    \n",
    "    def accuracy(self, X, y):\n",
    "        \"\"\"\n",
    "        compute accuracy on labeled training set \n",
    "\n",
    "        :param X: matrix of features \n",
    "        :param y: matrix of vectorized true labels \n",
    "        \"\"\"\n",
    "        yhat = self.predict(X)\n",
    "        return np.sum(np.all(np.equal(yhat, y), axis=1)) / X.shape[0]\n",
    "            \n",
    "            \n",
    "    def back_prop(self, x, y):\n",
    "        \"\"\"\n",
    "        Back propagation to get derivatives of C wrt weights and biases for given training example\n",
    "        \n",
    "        :param x: training features  \n",
    "        :param y: vector-encoded label \n",
    "        \"\"\"\n",
    "        \n",
    "        # TODO: forward prop training example to fill in activities and activations \n",
    "        out_forward_x=self.forward_prop(x)\n",
    "        \n",
    "        # TODO: compute deltas on output layer \n",
    "        delta_aLC=self.gradC(out_forward_x,y)\n",
    "        gprimeZ=self.g_prime(self.z[self.L-1])\n",
    "        self.delta[self.L-1]=np.multiply(delta_aLC,gprimeZ)\n",
    "        # TODO: loop backward through layers, backprop deltas, compute dWs and dbs\n",
    "        for ll in range(self.L-2, -1, -1):\n",
    "            self.dW[ll]=np.outer(self.delta[ll+1],np.array([self.a[ll]]).T)\n",
    "            self.db[ll]=self.delta[ll+1]\n",
    "            self.delta[ll]=np.multiply(np.matmul(np.transpose(self.W[ll]),self.delta[ll+1]),self.g_prime(self.z[ll]))\n",
    "        \n",
    "    def gradient_checking(self, X_train, y_train, EPS=0.0001):\n",
    "        \"\"\"\n",
    "        Performs gradient checking on all weights in the \n",
    "        network for a randomly selected training example \n",
    "        :param X_train: matrix of training features \n",
    "        :param y_train: matrix of vector-encoded training labels \n",
    "        \"\"\"\n",
    "        # Randomly select a training example \n",
    "        kk = np.random.randint(0,X_train.shape[0])\n",
    "        xk = X_train[kk]\n",
    "        yk = y_train[kk]\n",
    "\n",
    "        # Get the analytic(ish) weights from back_prop \n",
    "        self.back_prop(xk, yk)\n",
    "\n",
    "        # List of relative errors.  Used only for unit testing. \n",
    "        rel_errors = []\n",
    "\n",
    "        # Loop over and perturb each weight/bias in \n",
    "        # network and test numerical derivative \n",
    "        # Don't forget that after perturbing the weights\n",
    "        # you'll want to put them back the way they were! \n",
    "        \n",
    "        # Loop over and perturb each weight/bias in \n",
    "        # network and test numerical derivative \n",
    "        for ell in range(self.L-1):\n",
    "            for ii in range(self.W[ell].shape[0]):\n",
    "                # Check weights in level W[ell][ii,jj] \n",
    "                for jj in range(self.W[ell].shape[1]):\n",
    "                    \n",
    "                    # TODO true_dW  \n",
    "                    true_dW = self.dW[ell][ii,jj]\n",
    "                    # TODO num_dW  \n",
    "                    self.W[ell][ii,jj] += EPS\n",
    "                    a_C1=self.forward_prop(xk)\n",
    "                    C1 = self.C(a_C1,yk)\n",
    "                    #print(self.dW[ell][ii,jj])\n",
    "                    self.W[ell][ii,jj] -= 2*EPS\n",
    "                    a_C2=self.forward_prop(xk)\n",
    "                    C2 = self.C(a_C2,yk)\n",
    "                    #print(self.dW[ell][ii,jj])\n",
    "                    num_dW = (C1-C2)/2/EPS\n",
    "                    self.W[ell][ii,jj] += EPS\n",
    "                    \n",
    "                    \n",
    "                    rel_dW = np.abs(true_dW-num_dW)/np.abs(true_dW)\n",
    "                    print(\"W[{:d}][{:d},{:d}]: true: {: 12.10e}  approx: {: 12.10e} rel_err: {: 12.10e}\".format(ell, ii, jj, true_dW, num_dW, rel_dW))\n",
    "                    rel_errors.append(rel_dW)\n",
    "                    \n",
    "                # Check bias b[ell][ii]\n",
    "                \n",
    "                # TODO true_db  \n",
    "                true_db=self.db[ell][ii]\n",
    "                # TODO num_db  \n",
    "                self.b[ell][ii] += EPS\n",
    "                a_C1_db=self.forward_prop(xk)\n",
    "                C1_db = self.C(a_C1_db,yk)\n",
    "                self.b[ell][ii] -= 2*EPS\n",
    "                a_C2_db=self.forward_prop(xk)\n",
    "                C2_db = self.C(a_C2_db,yk)\n",
    "                num_db = (C1_db-C2_db)/2/EPS\n",
    "                self.b[ell][ii] += EPS\n",
    "                \n",
    "                rel_db = np.abs(true_db-num_db)/np.abs(true_db)\n",
    "                print(\"b[{:d}][{:d}]:   true: {: 12.10e}  approx: {: 12.10e} rel_err: {: 12.10e}\".format(ell, ii, true_db, num_db, rel_db))\n",
    "                rel_errors.append(rel_db)\n",
    "\n",
    "        return rel_errors\n",
    "            \n",
    "            \n",
    "    def train(self, X_train, y_train, X_valid=None, y_valid=None, eta=0.25, lam=0.0, num_epochs=10, isPrint=True):\n",
    "        \"\"\"\n",
    "        Train the network with SGD \n",
    "        \n",
    "        :param X_train: matrix of training features \n",
    "        :param y_train: matrix of vector-encoded training labels \n",
    "        :param X_train: optional matrix of validation features \n",
    "        :param y_train: optional matrix of vector-encoded validation labels \n",
    "        :param eta: learning rate \n",
    "        :param lam: regularization strength \n",
    "        :param num_epochs: number of epochs to run \n",
    "        :param isPrint: flag indicating to print training progress or not \n",
    "        \"\"\"\n",
    "        \n",
    "        # initialize shuffled indices \n",
    "        shuffled_inds = list(range(X_train.shape[0]))\n",
    "        \n",
    "        self.currentEpoch=[]\n",
    "        self.validAcc=[]\n",
    "        # loop over training epochs \n",
    "        for ep in range(num_epochs):\n",
    "            \n",
    "            # shuffle indices \n",
    "            np.random.shuffle(shuffled_inds)\n",
    "            \n",
    "            # loop over training examples \n",
    "            for ind in shuffled_inds:\n",
    "                \n",
    "                # TODO: back prop to get derivatives \n",
    "                self.back_prop(X_train[ind],y_train[ind])\n",
    "                # TODO: update weights and biases \n",
    "                for ll in range(self.L-2, -1, -1):\n",
    "                    self.W[ll] = self.W[ll]-eta*lam*self.W[ll] - eta*self.dW[ll]\n",
    "                    self.b[ll] = self.b[ll] - eta*self.delta[ll+1]\n",
    "                \n",
    "            # occasionally print accuracy\n",
    "            if isPrint and ((ep+1)%5)==1:\n",
    "                self.epoch_report(ep, num_epochs, X_train, y_train, X_valid, y_valid)\n",
    "                self.currentEpoch.append(ep+1)\n",
    "                self.validAcc.append(self.accuracy(X_valid, y_valid))\n",
    "                \n",
    "        # print final accuracy\n",
    "        if isPrint:\n",
    "            self.epoch_report(ep, num_epochs, X_train, y_train, X_valid, y_valid)\n",
    "                \n",
    "                    \n",
    "    def epoch_report(self, ep, num_epochs, X_train, y_train, X_valid, y_valid):\n",
    "        \"\"\"\n",
    "        Print the accuracy for the given epoch on training and validation data \n",
    "        \n",
    "        :param ep: the current epoch \n",
    "        :param num_epochs: the total number of epochs\n",
    "        :param X_train: matrix of training features \n",
    "        :param y_train: matrix of vector-encoded training labels \n",
    "        :param X_train: optional matrix of validation features \n",
    "        :param y_train: optional matrix of vector-encoded validation labels \n",
    "        \"\"\"\n",
    "        \n",
    "        print(\"epoch {:3d}/{:3d}: \".format(ep+1, num_epochs), end=\"\")\n",
    "        print(\"  train acc: {:8.3f}\".format(self.accuracy(X_train, y_train)), end=\"\")\n",
    "        if X_valid is not None: print(\"  valid acc: {:8.3f}\".format(self.accuracy(X_valid, y_valid)))\n",
    "        else: print(\"\")   \n",
    "    "
   ]
  }
 ],
 "metadata": {
  "kernelspec": {
   "display_name": "Python 3",
   "language": "python",
   "name": "python3"
  },
  "language_info": {
   "codemirror_mode": {
    "name": "ipython",
    "version": 3
   },
   "file_extension": ".py",
   "mimetype": "text/x-python",
   "name": "python",
   "nbconvert_exporter": "python",
   "pygments_lexer": "ipython3",
   "version": "3.6.3"
  }
 },
 "nbformat": 4,
 "nbformat_minor": 2
}
