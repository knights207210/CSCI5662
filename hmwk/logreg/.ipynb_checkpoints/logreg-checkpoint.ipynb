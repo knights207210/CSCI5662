{
 "cells": [
  {
   "cell_type": "markdown",
   "metadata": {},
   "source": [
    "# Logistic Regression and SGD Homework \n",
    "***\n",
    "**Name**: $<$Xu Han$>$ \n",
    "***\n",
    "\n",
    "This assignment is due on Moodle by **5pm on Friday February 9th**. Submit only this Jupyter notebook to Moodle.  Do not compress it using tar, rar, zip, etc. Your solutions to analysis questions should be done in Markdown directly below the associated question.  Remember that you are encouraged to discuss the problems with your instructors and classmates, but **you must write all code and solutions on your own**.  For a refresher on the course **Collaboration Policy** click [here](https://github.com/chrisketelsen/CSCI5622-Machine-Learning/blob/master/resources/syllabus.md#collaboration-policy)\n",
    "\n"
   ]
  },
  {
   "cell_type": "markdown",
   "metadata": {},
   "source": [
    "## Overview \n",
    "***\n",
    "\n",
    "\n",
    "In this homework you'll implement stochastic gradient ascent for logistic regression and you'll apply it to the task of determining whether documents are talking about automobiles or motorcycles.\n",
    "\n",
    "<br>\n",
    "\n",
    "![autos_motorcycles](autos_motorcycles.jpg \"A car and a motorcycle\")\n",
    "\n",
    "\n",
    "<br>\n",
    "\n",
    "You should not use any libraries that implement any of the functionality of logistic regression for this assignment; logistic regression is implemented in Scikit-Learn, but you should do everything by hand now. You'll be able to use library implementations of logistic regression in the future.\n",
    "\n",
    "Here are the rules: \n",
    "\n",
    "- Do **NOT** load or use any Python packages that are not available in Anaconda 3.6. \n",
    "- Some problems with code may be autograded.  If we provide a function or class API **do not** change it.\n",
    "- Do not change the location of the data or data directory.  Use only relative paths to access the data. "
   ]
  },
  {
   "cell_type": "code",
   "execution_count": 2,
   "metadata": {},
   "outputs": [],
   "source": [
    "import numpy as np\n",
    "import matplotlib.pylab as plt\n",
    "%matplotlib inline "
   ]
  },
  {
   "cell_type": "markdown",
   "metadata": {},
   "source": [
    "### [5 points] Problem 1: Loading and Exploring the Data\n",
    "***\n",
    "\n",
    "The `Example` class will be used to store the features and labels associated with a single training or test example.  The `read_data` function will read in the text data and split it into training and test sets.  \n",
    "\n",
    " Load the data and then do the following: \n",
    "- Report the number of words in the vocabulary \n",
    "- Explain how the code is creating features (i.e. what text model is being used). \n",
    "- Go into the raw text files in the data directory and figure out which label (0/1) refers to which class of document (automobiles or motorcycles)"
   ]
  },
  {
   "cell_type": "code",
   "execution_count": 3,
   "metadata": {},
   "outputs": [],
   "source": [
    "kSEED = 1735\n",
    "kBIAS = \"BIAS_CONSTANT\"\n",
    "\n",
    "np.random.seed(kSEED)\n",
    "\n",
    "class Example:\n",
    "    \"\"\"\n",
    "    Class to represent a document example\n",
    "    \"\"\"\n",
    "    def __init__(self, label, words, vocab):\n",
    "        \"\"\"\n",
    "        Create a new example\n",
    "\n",
    "        :param label: The label (0 / 1) of the example\n",
    "        :param words: The words in a list of \"word:count\" format\n",
    "        :param vocab: The vocabulary to use as features (list)\n",
    "        \"\"\"\n",
    "        self.nonzero = {}\n",
    "        self.y = label\n",
    "        self.x = np.zeros(len(vocab))\n",
    "        for word, count in [x.split(\":\") for x in words]:\n",
    "            if word in vocab:\n",
    "                assert word != kBIAS, \"Bias can't actually appear in document\"\n",
    "                self.x[vocab.index(word)] += float(count)\n",
    "                self.nonzero[vocab.index(word)] = word\n",
    "        self.x[0] = 1\n",
    "def read_dataset(positive, negative, vocab, train_frac=0.9):\n",
    "    \"\"\"\n",
    "    Reads in a text dataset with a given vocabulary\n",
    "\n",
    "    :param positive: Positive examples\n",
    "    :param negative: Negative examples\n",
    "    :param vocab: A list of vocabulary words\n",
    "    :param test_frac: How much of the data should be reserved for test\n",
    "    \"\"\"\n",
    "\n",
    "    vocab = [x.split(\"\\t\")[0] for x in open(vocab, 'r') if '\\t' in x]\n",
    "    assert vocab[0] == kBIAS, \\\n",
    "        \"First vocab word must be bias term (was %s)\" % vocab[0]\n",
    "\n",
    "    train_set = []\n",
    "    test_set = []\n",
    "    for label, input in [(1, positive), (0, negative)]:\n",
    "        for line in open(input):\n",
    "            ex = Example(label, line.split(), vocab)\n",
    "            if np.random.random() <= train_frac:\n",
    "                train_set.append(ex)\n",
    "            else:\n",
    "                test_set.append(ex)\n",
    "\n",
    "    # Shuffle the data \n",
    "    np.random.shuffle(train_set)\n",
    "    np.random.shuffle(test_set)\n",
    "\n",
    "    return train_set, test_set, vocab"
   ]
  },
  {
   "cell_type": "code",
   "execution_count": 4,
   "metadata": {},
   "outputs": [],
   "source": [
    "pos_fname = \"../data/autos_motorcycles/positive\"\n",
    "neg_fname = \"../data/autos_motorcycles/negative\"\n",
    "voc_fname = \"../data/autos_motorcycles/vocab\"\n",
    "train_set, test_set, vocab = read_dataset(pos_fname, neg_fname, voc_fname)"
   ]
  },
  {
   "cell_type": "code",
   "execution_count": 5,
   "metadata": {},
   "outputs": [
    {
     "name": "stdout",
     "output_type": "stream",
     "text": [
      "the number of words in the vocabulary is 5327\n",
      "label 0 represents the class of automobiles while label 1 represents the class of motorcycles\n"
     ]
    }
   ],
   "source": [
    "print (\"the number of words in the vocabulary is\", len(vocab))\n",
    "print (\"label 0 represents the class of automobiles while label 1 represents the class of motorcycles\")"
   ]
  },
  {
   "cell_type": "markdown",
   "metadata": {},
   "source": [
    "Explaination: according to the code, these two classes first read in the content of \"negative\" and \"positive\" file line by line and then map each word a vector based on the vocabulary. This text model is the bag of words model and all the stop words are not included in the vocabulary."
   ]
  },
  {
   "cell_type": "markdown",
   "metadata": {},
   "source": [
    "### [25 points] Problem 2: Implementing SGD with Lazy Sparse Regularization\n",
    "***\n",
    "\n",
    "We've given you a class `LogReg` below which will train a logistic regression classifier to predict whether a document is talking about automobiles or motorcycles. \n",
    "\n",
    "**Part A**: In this problem you will modify the `sgd_update` function to perform **unregularized** stochastic gradient descent updates of the weights. Note that you should only update the weights for **non-zero** features, i.e. weights associated with words that appear in the current training example. The code below this cell demonstrates how to instantiate the class and train the classifier.   \n",
    "\n",
    "We've also given you unit tests in the next cell based on the simple example worked out in  the Lecture 4 in-class notebook.  At first your code will fail both of them. When your code is working you should pass tests called `test_unreg` and `test_learnrate`.  Do not move on to **Part A** until your code passes both of them. "
   ]
  },
  {
   "cell_type": "code",
   "execution_count": 216,
   "metadata": {},
   "outputs": [],
   "source": [
    "class LogReg:\n",
    "    def __init__(self, train_set, test_set, lam, eta=0.1):\n",
    "        \"\"\"\n",
    "        Create a logistic regression classifier\n",
    "\n",
    "        :param train_set: A set of training examples\n",
    "        :param test_set: A set of test examples \n",
    "        :param lam: Regularization parameter\n",
    "        :param eta: The learning rate to use \n",
    "        \"\"\"\n",
    "        \n",
    "        # Store training and test sets \n",
    "        self.train_set = train_set\n",
    "        self.test_set = test_set \n",
    "        \n",
    "        # Initialize vector of weights to zero  \n",
    "        self.w = np.zeros_like(train_set[0].x)\n",
    "        \n",
    "        # Store regularization parameter and eta function \n",
    "        self.lam = lam\n",
    "        self.eta = eta\n",
    "        \n",
    "        # Create dictionary for lazy-sparse regularization\n",
    "        self.last_update = dict()\n",
    "\n",
    "        # Make sure regularization parameter is not negative \n",
    "        assert self.lam>= 0, \"Regularization parameter must be non-negative\"\n",
    "        \n",
    "        # Empty lists to store NLL and accuracy on train and test sets \n",
    "        self.train_nll = []\n",
    "        self.test_nll = []\n",
    "        self.train_acc = []\n",
    "        self.test_acc = []\n",
    "        \n",
    "        self.former_iteration = np.zeros(len(self.w))-1\n",
    "    def sigmoid(self,score, threshold=20.0):\n",
    "        \"\"\"\n",
    "        Prevent overflow of exp by capping activation at 20.\n",
    "        You do not need to change this function. \n",
    "\n",
    "        :param score: A real valued number to convert into a number between 0 and 1\n",
    "        \"\"\"\n",
    "\n",
    "        # if score > threshold, cap value at score \n",
    "        if abs(score) > threshold:\n",
    "            score = threshold * np.sign(score)\n",
    "\n",
    "        return 1.0 / (1.0 + np.exp(-score)) \n",
    "\n",
    "    def compute_progress(self, examples):\n",
    "        \"\"\"\n",
    "        Given a set of examples, compute the NLL and accuracy\n",
    "        You shouldn't need to change this function. \n",
    "\n",
    "        :param examples: The dataset to score\n",
    "        :return: A tuple of (log probability, accuracy)\n",
    "        \"\"\"\n",
    "\n",
    "        NLL = 0.0\n",
    "        num_correct = 0\n",
    "        for ex in examples:\n",
    "            # compute prob prediction\n",
    "            p = self.sigmoid(self.w.dot(ex.x))\n",
    "            # update negative log likelihood\n",
    "            NLL = NLL - np.log(p) if ex.y==1 else NLL - np.log(1.0-p)\n",
    "            # update number correct \n",
    "            num_correct += 1 if np.floor(p+.5)==ex.y else 0\n",
    "\n",
    "        return NLL, float(num_correct) / float(len(examples))\n",
    "    \n",
    "    def train(self, num_epochs=1, isVerbose=False, report_step=5):\n",
    "        \"\"\"\n",
    "        Train the logistic regression classifier on the training data \n",
    "\n",
    "        :param num_epochs: number of full passes over data to perform \n",
    "        :param isVerbose: boolean indicating whether to print progress\n",
    "        :param report_step: how many iterations between recording progress\n",
    "        \"\"\"\n",
    "        iteration = 0\n",
    "        # Perform an epoch \n",
    "        for pp in range(num_epochs):\n",
    "            # shuffle the data  \n",
    "            np.random.shuffle(self.train_set)\n",
    "            # loop over each training example\n",
    "            for ex in self.train_set:\n",
    "                # perform SGD update of weights \n",
    "                self.sgd_update(ex, iteration)\n",
    "                # record progress \n",
    "                if iteration % report_step == 1:\n",
    "                    train_nll, train_acc = self.compute_progress(self.train_set)\n",
    "                    test_nll, test_acc = self.compute_progress(self.test_set)\n",
    "                    self.train_nll.append(train_nll)\n",
    "                    self.test_nll.append(test_nll)\n",
    "                    self.train_acc.append(train_acc)\n",
    "                    self.test_acc.append(test_acc)\n",
    "                    if isVerbose:\n",
    "                        print(\"Update {: 5d}  TrnNLL {: 8.3f}  TstNLL {: 8.3f}  TrnA {:.3f}  TstA {:.3f}\"\n",
    "                             .format(iteration-1, train_nll, test_nll, train_acc, test_acc))\n",
    "                iteration += 1\n",
    "    \n",
    "    def sgd_update(self, train_example, iteration):\n",
    "        \"\"\"\n",
    "        Compute a stochastic gradient update to improve the NLL \n",
    "\n",
    "        :param train_example: The example to take the gradient with respect to\n",
    "        :param iteration: The current iteration (an integer)\n",
    "        \"\"\"\n",
    "        \n",
    "        # TODO implement LSR updates of weights \n",
    "        #self.w = self.w \n",
    "       \n",
    "        #without regularizaiton\n",
    "        #gradient = (self.sigmoid(self.w.dot(train_example.x))-train_example.y)*train_example.x\n",
    "        #self.w = self.w-self.eta*gradient\n",
    "        \n",
    "        #LSR\n",
    "        sig_minus_y = self.sigmoid(self.w.dot(train_example.x))-train_example.y\n",
    "        for k in np.nonzero(train_example.x)[0]:\n",
    "            #unregularized part\n",
    "            gradient = sig_minus_y*train_example.x[k]\n",
    "            self.w[k] = self.w[k]-self.eta*gradient\n",
    "            #regularized part\n",
    "            if k != 0:    #exclude bias\n",
    "                self.w[k] = self.w[k]*pow((1-2*self.eta*self.lam), iteration-self.former_iteration[k])\n",
    "                self.former_iteration[k] = iteration\n",
    "        \n",
    "                \n",
    "                \n",
    "        \n",
    "        \n",
    "        "
   ]
  },
  {
   "cell_type": "code",
   "execution_count": 217,
   "metadata": {},
   "outputs": [
    {
     "name": "stdout",
     "output_type": "stream",
     "text": [
      "Update     0  TrnNLL  745.981  TstNLL   81.219  TrnA 0.502  TstA 0.466\n",
      "Update     5  TrnNLL  994.279  TstNLL  111.011  TrnA 0.559  TstA 0.578\n",
      "Update    10  TrnNLL  627.444  TstNLL   75.124  TrnA 0.709  TstA 0.664\n",
      "Update    15  TrnNLL  525.867  TstNLL   65.354  TrnA 0.770  TstA 0.750\n",
      "Update    20  TrnNLL  501.902  TstNLL   61.969  TrnA 0.783  TstA 0.733\n",
      "Update    25  TrnNLL  498.657  TstNLL   61.234  TrnA 0.776  TstA 0.759\n",
      "Update    30  TrnNLL  471.792  TstNLL   57.512  TrnA 0.796  TstA 0.776\n",
      "Update    35  TrnNLL  433.027  TstNLL   54.438  TrnA 0.812  TstA 0.802\n",
      "Update    40  TrnNLL  438.575  TstNLL   55.271  TrnA 0.807  TstA 0.793\n",
      "Update    45  TrnNLL  406.441  TstNLL   51.351  TrnA 0.814  TstA 0.802\n",
      "Update    50  TrnNLL  411.384  TstNLL   52.019  TrnA 0.819  TstA 0.767\n",
      "Update    55  TrnNLL  415.200  TstNLL   52.428  TrnA 0.818  TstA 0.776\n",
      "Update    60  TrnNLL  398.364  TstNLL   50.049  TrnA 0.827  TstA 0.776\n",
      "Update    65  TrnNLL  384.327  TstNLL   49.111  TrnA 0.825  TstA 0.819\n",
      "Update    70  TrnNLL  374.351  TstNLL   46.786  TrnA 0.841  TstA 0.828\n",
      "Update    75  TrnNLL  370.337  TstNLL   46.789  TrnA 0.840  TstA 0.836\n",
      "Update    80  TrnNLL  364.917  TstNLL   46.245  TrnA 0.841  TstA 0.836\n",
      "Update    85  TrnNLL  342.192  TstNLL   43.162  TrnA 0.847  TstA 0.810\n",
      "Update    90  TrnNLL  322.610  TstNLL   38.433  TrnA 0.862  TstA 0.853\n",
      "Update    95  TrnNLL  316.845  TstNLL   38.344  TrnA 0.870  TstA 0.871\n",
      "Update   100  TrnNLL  315.335  TstNLL   38.881  TrnA 0.872  TstA 0.862\n",
      "Update   105  TrnNLL  462.002  TstNLL   50.032  TrnA 0.814  TstA 0.784\n",
      "Update   110  TrnNLL  466.688  TstNLL   50.373  TrnA 0.813  TstA 0.776\n",
      "Update   115  TrnNLL  432.709  TstNLL   46.613  TrnA 0.822  TstA 0.793\n",
      "Update   120  TrnNLL  362.059  TstNLL   37.097  TrnA 0.860  TstA 0.845\n",
      "Update   125  TrnNLL  327.815  TstNLL   33.789  TrnA 0.865  TstA 0.897\n",
      "Update   130  TrnNLL  326.415  TstNLL   33.793  TrnA 0.871  TstA 0.888\n",
      "Update   135  TrnNLL  320.456  TstNLL   33.712  TrnA 0.864  TstA 0.905\n",
      "Update   140  TrnNLL  320.396  TstNLL   34.354  TrnA 0.860  TstA 0.853\n",
      "Update   145  TrnNLL  319.158  TstNLL   33.873  TrnA 0.862  TstA 0.862\n",
      "Update   150  TrnNLL  314.296  TstNLL   33.958  TrnA 0.866  TstA 0.862\n",
      "Update   155  TrnNLL  422.105  TstNLL   48.026  TrnA 0.807  TstA 0.853\n",
      "Update   160  TrnNLL  714.215  TstNLL   83.430  TrnA 0.714  TstA 0.698\n",
      "Update   165  TrnNLL  588.366  TstNLL   68.713  TrnA 0.743  TstA 0.759\n",
      "Update   170  TrnNLL  627.202  TstNLL   73.104  TrnA 0.735  TstA 0.733\n",
      "Update   175  TrnNLL  349.372  TstNLL   40.704  TrnA 0.851  TstA 0.853\n",
      "Update   180  TrnNLL  344.448  TstNLL   40.127  TrnA 0.852  TstA 0.853\n",
      "Update   185  TrnNLL  279.943  TstNLL   29.519  TrnA 0.887  TstA 0.897\n",
      "Update   190  TrnNLL  393.463  TstNLL   48.425  TrnA 0.844  TstA 0.862\n",
      "Update   195  TrnNLL  397.703  TstNLL   49.092  TrnA 0.843  TstA 0.862\n",
      "Update   200  TrnNLL  370.884  TstNLL   45.991  TrnA 0.853  TstA 0.862\n",
      "Update   205  TrnNLL  309.345  TstNLL   38.611  TrnA 0.887  TstA 0.853\n",
      "Update   210  TrnNLL  316.857  TstNLL   37.817  TrnA 0.882  TstA 0.888\n",
      "Update   215  TrnNLL  311.431  TstNLL   37.407  TrnA 0.884  TstA 0.888\n",
      "Update   220  TrnNLL  302.465  TstNLL   36.480  TrnA 0.885  TstA 0.879\n",
      "Update   225  TrnNLL  276.085  TstNLL   32.296  TrnA 0.894  TstA 0.888\n",
      "Update   230  TrnNLL  268.010  TstNLL   31.479  TrnA 0.897  TstA 0.888\n",
      "Update   235  TrnNLL  263.775  TstNLL   30.058  TrnA 0.892  TstA 0.879\n",
      "Update   240  TrnNLL  260.241  TstNLL   30.224  TrnA 0.896  TstA 0.888\n",
      "Update   245  TrnNLL  288.347  TstNLL   38.937  TrnA 0.895  TstA 0.888\n",
      "Update   250  TrnNLL  284.867  TstNLL   37.854  TrnA 0.896  TstA 0.879\n",
      "Update   255  TrnNLL  273.788  TstNLL   35.477  TrnA 0.898  TstA 0.879\n",
      "Update   260  TrnNLL  272.422  TstNLL   35.832  TrnA 0.900  TstA 0.888\n",
      "Update   265  TrnNLL  278.426  TstNLL   37.893  TrnA 0.900  TstA 0.888\n",
      "Update   270  TrnNLL  377.139  TstNLL   50.856  TrnA 0.876  TstA 0.879\n",
      "Update   275  TrnNLL  383.496  TstNLL   51.554  TrnA 0.875  TstA 0.879\n",
      "Update   280  TrnNLL  374.665  TstNLL   50.246  TrnA 0.876  TstA 0.879\n",
      "Update   285  TrnNLL  348.907  TstNLL   46.223  TrnA 0.884  TstA 0.879\n",
      "Update   290  TrnNLL  309.838  TstNLL   40.218  TrnA 0.896  TstA 0.897\n",
      "Update   295  TrnNLL  269.559  TstNLL   35.870  TrnA 0.905  TstA 0.888\n",
      "Update   300  TrnNLL  265.977  TstNLL   34.881  TrnA 0.901  TstA 0.879\n",
      "Update   305  TrnNLL  271.211  TstNLL   36.061  TrnA 0.907  TstA 0.905\n",
      "Update   310  TrnNLL  272.868  TstNLL   36.436  TrnA 0.907  TstA 0.897\n",
      "Update   315  TrnNLL  252.552  TstNLL   34.356  TrnA 0.900  TstA 0.879\n",
      "Update   320  TrnNLL  254.555  TstNLL   34.840  TrnA 0.906  TstA 0.879\n",
      "Update   325  TrnNLL  254.547  TstNLL   35.055  TrnA 0.908  TstA 0.879\n",
      "Update   330  TrnNLL  258.218  TstNLL   35.948  TrnA 0.912  TstA 0.897\n",
      "Update   335  TrnNLL  259.669  TstNLL   36.116  TrnA 0.910  TstA 0.905\n",
      "Update   340  TrnNLL  256.922  TstNLL   35.628  TrnA 0.913  TstA 0.897\n",
      "Update   345  TrnNLL  238.993  TstNLL   30.669  TrnA 0.914  TstA 0.888\n",
      "Update   350  TrnNLL  234.380  TstNLL   29.690  TrnA 0.911  TstA 0.879\n",
      "Update   355  TrnNLL  231.104  TstNLL   28.763  TrnA 0.911  TstA 0.879\n",
      "Update   360  TrnNLL  289.841  TstNLL   39.117  TrnA 0.876  TstA 0.862\n",
      "Update   365  TrnNLL  224.845  TstNLL   28.348  TrnA 0.906  TstA 0.871\n",
      "Update   370  TrnNLL  231.962  TstNLL   30.458  TrnA 0.904  TstA 0.871\n",
      "Update   375  TrnNLL  206.744  TstNLL   27.203  TrnA 0.918  TstA 0.879\n",
      "Update   380  TrnNLL  204.935  TstNLL   26.792  TrnA 0.917  TstA 0.879\n",
      "Update   385  TrnNLL  208.393  TstNLL   27.366  TrnA 0.914  TstA 0.871\n",
      "Update   390  TrnNLL  207.751  TstNLL   27.248  TrnA 0.914  TstA 0.871\n",
      "Update   395  TrnNLL  174.982  TstNLL   24.146  TrnA 0.938  TstA 0.922\n",
      "Update   400  TrnNLL  176.710  TstNLL   24.531  TrnA 0.940  TstA 0.922\n",
      "Update   405  TrnNLL  177.957  TstNLL   24.897  TrnA 0.940  TstA 0.914\n",
      "Update   410  TrnNLL  178.997  TstNLL   25.059  TrnA 0.939  TstA 0.914\n",
      "Update   415  TrnNLL  162.890  TstNLL   24.167  TrnA 0.944  TstA 0.922\n",
      "Update   420  TrnNLL  164.852  TstNLL   24.495  TrnA 0.944  TstA 0.931\n",
      "Update   425  TrnNLL  167.004  TstNLL   25.146  TrnA 0.946  TstA 0.922\n",
      "Update   430  TrnNLL  162.235  TstNLL   24.186  TrnA 0.945  TstA 0.931\n",
      "Update   435  TrnNLL  161.606  TstNLL   24.167  TrnA 0.947  TstA 0.931\n",
      "Update   440  TrnNLL  161.246  TstNLL   24.100  TrnA 0.947  TstA 0.931\n",
      "Update   445  TrnNLL  168.490  TstNLL   27.431  TrnA 0.944  TstA 0.922\n",
      "Update   450  TrnNLL  157.980  TstNLL   23.440  TrnA 0.953  TstA 0.931\n",
      "Update   455  TrnNLL  159.377  TstNLL   23.711  TrnA 0.952  TstA 0.940\n",
      "Update   460  TrnNLL  159.521  TstNLL   23.725  TrnA 0.952  TstA 0.940\n",
      "Update   465  TrnNLL  159.203  TstNLL   23.748  TrnA 0.952  TstA 0.940\n",
      "Update   470  TrnNLL  171.013  TstNLL   25.127  TrnA 0.943  TstA 0.922\n",
      "Update   475  TrnNLL  174.540  TstNLL   25.650  TrnA 0.947  TstA 0.922\n",
      "Update   480  TrnNLL  134.502  TstNLL   18.413  TrnA 0.954  TstA 0.931\n",
      "Update   485  TrnNLL  138.326  TstNLL   19.324  TrnA 0.947  TstA 0.922\n",
      "Update   490  TrnNLL  136.889  TstNLL   19.160  TrnA 0.955  TstA 0.940\n",
      "Update   495  TrnNLL  135.587  TstNLL   19.046  TrnA 0.954  TstA 0.931\n",
      "Update   500  TrnNLL  135.011  TstNLL   18.859  TrnA 0.958  TstA 0.940\n",
      "Update   505  TrnNLL  133.644  TstNLL   19.184  TrnA 0.959  TstA 0.940\n",
      "Update   510  TrnNLL  130.841  TstNLL   17.947  TrnA 0.954  TstA 0.940\n",
      "Update   515  TrnNLL  129.797  TstNLL   17.122  TrnA 0.955  TstA 0.940\n",
      "Update   520  TrnNLL  129.359  TstNLL   17.248  TrnA 0.954  TstA 0.940\n",
      "Update   525  TrnNLL  129.397  TstNLL   17.259  TrnA 0.954  TstA 0.940\n",
      "Update   530  TrnNLL  124.329  TstNLL   16.865  TrnA 0.955  TstA 0.940\n",
      "Update   535  TrnNLL  124.024  TstNLL   16.712  TrnA 0.956  TstA 0.940\n",
      "Update   540  TrnNLL  124.330  TstNLL   16.815  TrnA 0.956  TstA 0.940\n",
      "Update   545  TrnNLL  123.940  TstNLL   16.726  TrnA 0.956  TstA 0.940\n",
      "Update   550  TrnNLL  126.791  TstNLL   19.569  TrnA 0.952  TstA 0.940\n",
      "Update   555  TrnNLL  137.851  TstNLL   21.850  TrnA 0.950  TstA 0.922\n",
      "Update   560  TrnNLL  137.838  TstNLL   21.880  TrnA 0.950  TstA 0.922\n",
      "Update   565  TrnNLL  123.718  TstNLL   20.251  TrnA 0.958  TstA 0.940\n",
      "Update   570  TrnNLL  121.633  TstNLL   19.798  TrnA 0.959  TstA 0.940\n",
      "Update   575  TrnNLL  122.032  TstNLL   20.120  TrnA 0.957  TstA 0.940\n",
      "Update   580  TrnNLL  122.352  TstNLL   20.149  TrnA 0.958  TstA 0.940\n",
      "Update   585  TrnNLL  118.774  TstNLL   19.669  TrnA 0.960  TstA 0.940\n"
     ]
    },
    {
     "name": "stdout",
     "output_type": "stream",
     "text": [
      "Update   590  TrnNLL  120.004  TstNLL   18.941  TrnA 0.966  TstA 0.948\n",
      "Update   595  TrnNLL  119.386  TstNLL   19.257  TrnA 0.962  TstA 0.948\n",
      "Update   600  TrnNLL  119.355  TstNLL   19.216  TrnA 0.962  TstA 0.948\n",
      "Update   605  TrnNLL  121.911  TstNLL   19.236  TrnA 0.965  TstA 0.948\n",
      "Update   610  TrnNLL  126.526  TstNLL   20.296  TrnA 0.965  TstA 0.948\n",
      "Update   615  TrnNLL  127.554  TstNLL   20.306  TrnA 0.965  TstA 0.948\n",
      "Update   620  TrnNLL  117.396  TstNLL   19.677  TrnA 0.967  TstA 0.948\n",
      "Update   625  TrnNLL  119.762  TstNLL   29.052  TrnA 0.957  TstA 0.914\n",
      "Update   630  TrnNLL  121.991  TstNLL   30.025  TrnA 0.957  TstA 0.914\n",
      "Update   635  TrnNLL  116.770  TstNLL   27.818  TrnA 0.961  TstA 0.914\n",
      "Update   640  TrnNLL  121.628  TstNLL   29.275  TrnA 0.958  TstA 0.914\n",
      "Update   645  TrnNLL  115.913  TstNLL   27.560  TrnA 0.960  TstA 0.914\n",
      "Update   650  TrnNLL  115.625  TstNLL   27.507  TrnA 0.960  TstA 0.914\n",
      "Update   655  TrnNLL  116.801  TstNLL   27.879  TrnA 0.960  TstA 0.914\n",
      "Update   660  TrnNLL  115.789  TstNLL   27.488  TrnA 0.960  TstA 0.914\n",
      "Update   665  TrnNLL  110.243  TstNLL   25.455  TrnA 0.964  TstA 0.922\n",
      "Update   670  TrnNLL  104.788  TstNLL   24.129  TrnA 0.966  TstA 0.922\n",
      "Update   675  TrnNLL   95.483  TstNLL   16.818  TrnA 0.970  TstA 0.940\n",
      "Update   680  TrnNLL   95.307  TstNLL   16.741  TrnA 0.970  TstA 0.940\n",
      "Update   685  TrnNLL   95.241  TstNLL   16.694  TrnA 0.970  TstA 0.940\n",
      "Update   690  TrnNLL   96.261  TstNLL   16.939  TrnA 0.969  TstA 0.931\n",
      "Update   695  TrnNLL   96.238  TstNLL   16.950  TrnA 0.969  TstA 0.931\n",
      "Update   700  TrnNLL   95.213  TstNLL   16.397  TrnA 0.969  TstA 0.940\n",
      "Update   705  TrnNLL   94.641  TstNLL   15.152  TrnA 0.972  TstA 0.948\n",
      "Update   710  TrnNLL   94.974  TstNLL   14.772  TrnA 0.970  TstA 0.957\n",
      "Update   715  TrnNLL   94.631  TstNLL   14.906  TrnA 0.972  TstA 0.957\n",
      "Update   720  TrnNLL   95.642  TstNLL   14.772  TrnA 0.970  TstA 0.957\n",
      "Update   725  TrnNLL   95.934  TstNLL   14.412  TrnA 0.970  TstA 0.957\n",
      "Update   730  TrnNLL   95.411  TstNLL   14.465  TrnA 0.971  TstA 0.957\n",
      "Update   735  TrnNLL   94.440  TstNLL   14.533  TrnA 0.971  TstA 0.957\n",
      "Update   740  TrnNLL   90.748  TstNLL   15.129  TrnA 0.972  TstA 0.948\n",
      "Update   745  TrnNLL   91.543  TstNLL   14.855  TrnA 0.973  TstA 0.948\n",
      "Update   750  TrnNLL   91.306  TstNLL   14.898  TrnA 0.973  TstA 0.948\n",
      "Update   755  TrnNLL   91.197  TstNLL   14.904  TrnA 0.974  TstA 0.948\n",
      "Update   760  TrnNLL   91.185  TstNLL   14.864  TrnA 0.973  TstA 0.948\n",
      "Update   765  TrnNLL   92.465  TstNLL   15.041  TrnA 0.969  TstA 0.957\n",
      "Update   770  TrnNLL   84.884  TstNLL   16.098  TrnA 0.977  TstA 0.940\n",
      "Update   775  TrnNLL   90.015  TstNLL   19.745  TrnA 0.973  TstA 0.922\n",
      "Update   780  TrnNLL   86.622  TstNLL   18.099  TrnA 0.973  TstA 0.931\n",
      "Update   785  TrnNLL   84.722  TstNLL   17.372  TrnA 0.976  TstA 0.940\n",
      "Update   790  TrnNLL   86.722  TstNLL   18.144  TrnA 0.974  TstA 0.931\n",
      "Update   795  TrnNLL   86.456  TstNLL   17.937  TrnA 0.975  TstA 0.931\n",
      "Update   800  TrnNLL   84.859  TstNLL   17.057  TrnA 0.977  TstA 0.948\n",
      "Update   805  TrnNLL   80.782  TstNLL   15.285  TrnA 0.979  TstA 0.948\n",
      "Update   810  TrnNLL   80.571  TstNLL   15.154  TrnA 0.979  TstA 0.948\n",
      "Update   815  TrnNLL   80.554  TstNLL   15.139  TrnA 0.979  TstA 0.948\n",
      "Update   820  TrnNLL   81.376  TstNLL   15.696  TrnA 0.979  TstA 0.948\n",
      "Update   825  TrnNLL   81.530  TstNLL   13.685  TrnA 0.978  TstA 0.974\n",
      "Update   830  TrnNLL   81.404  TstNLL   13.675  TrnA 0.978  TstA 0.974\n",
      "Update   835  TrnNLL   81.201  TstNLL   13.713  TrnA 0.978  TstA 0.974\n",
      "Update   840  TrnNLL   80.086  TstNLL   13.839  TrnA 0.978  TstA 0.974\n",
      "Update   845  TrnNLL   80.237  TstNLL   13.595  TrnA 0.978  TstA 0.974\n",
      "Update   850  TrnNLL   79.285  TstNLL   13.657  TrnA 0.979  TstA 0.974\n",
      "Update   855  TrnNLL   79.365  TstNLL   13.608  TrnA 0.978  TstA 0.974\n",
      "Update   860  TrnNLL   79.889  TstNLL   13.400  TrnA 0.979  TstA 0.974\n",
      "Update   865  TrnNLL   80.476  TstNLL   13.495  TrnA 0.980  TstA 0.974\n",
      "Update   870  TrnNLL   78.594  TstNLL   13.188  TrnA 0.979  TstA 0.974\n",
      "Update   875  TrnNLL   78.318  TstNLL   13.005  TrnA 0.979  TstA 0.974\n",
      "Update   880  TrnNLL   78.075  TstNLL   12.925  TrnA 0.979  TstA 0.974\n",
      "Update   885  TrnNLL   78.445  TstNLL   12.873  TrnA 0.979  TstA 0.974\n",
      "Update   890  TrnNLL   78.305  TstNLL   12.590  TrnA 0.980  TstA 0.983\n",
      "Update   895  TrnNLL   77.996  TstNLL   12.594  TrnA 0.979  TstA 0.983\n",
      "Update   900  TrnNLL   82.730  TstNLL   13.381  TrnA 0.979  TstA 0.974\n",
      "Update   905  TrnNLL   71.410  TstNLL   13.092  TrnA 0.980  TstA 0.974\n",
      "Update   910  TrnNLL   70.823  TstNLL   13.604  TrnA 0.980  TstA 0.974\n",
      "Update   915  TrnNLL   70.796  TstNLL   13.613  TrnA 0.980  TstA 0.974\n",
      "Update   920  TrnNLL   76.286  TstNLL   19.476  TrnA 0.979  TstA 0.931\n",
      "Update   925  TrnNLL   75.862  TstNLL   19.344  TrnA 0.979  TstA 0.931\n",
      "Update   930  TrnNLL   74.677  TstNLL   19.030  TrnA 0.979  TstA 0.940\n",
      "Update   935  TrnNLL   73.080  TstNLL   18.298  TrnA 0.979  TstA 0.940\n",
      "Update   940  TrnNLL   65.730  TstNLL   16.044  TrnA 0.983  TstA 0.957\n",
      "Update   945  TrnNLL   65.762  TstNLL   16.041  TrnA 0.983  TstA 0.957\n",
      "Update   950  TrnNLL   66.974  TstNLL   16.746  TrnA 0.983  TstA 0.948\n",
      "Update   955  TrnNLL   62.876  TstNLL   12.638  TrnA 0.982  TstA 0.966\n",
      "Update   960  TrnNLL   63.058  TstNLL   12.701  TrnA 0.981  TstA 0.966\n",
      "Update   965  TrnNLL   63.074  TstNLL   12.698  TrnA 0.981  TstA 0.966\n",
      "Update   970  TrnNLL   61.139  TstNLL   12.141  TrnA 0.985  TstA 0.974\n",
      "Update   975  TrnNLL   58.489  TstNLL   11.296  TrnA 0.986  TstA 0.974\n",
      "Update   980  TrnNLL   58.839  TstNLL   11.611  TrnA 0.985  TstA 0.974\n",
      "Update   985  TrnNLL   58.586  TstNLL   11.925  TrnA 0.985  TstA 0.974\n",
      "Update   990  TrnNLL   55.736  TstNLL   10.504  TrnA 0.987  TstA 0.983\n",
      "Update   995  TrnNLL   55.529  TstNLL   10.472  TrnA 0.987  TstA 0.983\n",
      "Update  1000  TrnNLL   55.585  TstNLL   10.486  TrnA 0.987  TstA 0.983\n",
      "Update  1005  TrnNLL   53.278  TstNLL   10.438  TrnA 0.989  TstA 0.983\n",
      "Update  1010  TrnNLL   53.252  TstNLL   10.426  TrnA 0.988  TstA 0.983\n",
      "Update  1015  TrnNLL   53.607  TstNLL   10.548  TrnA 0.986  TstA 0.983\n",
      "Update  1020  TrnNLL   53.788  TstNLL   10.638  TrnA 0.986  TstA 0.983\n",
      "Update  1025  TrnNLL   50.271  TstNLL   10.302  TrnA 0.990  TstA 0.983\n",
      "Update  1030  TrnNLL   49.183  TstNLL   10.288  TrnA 0.991  TstA 0.983\n",
      "Update  1035  TrnNLL   48.551  TstNLL   10.231  TrnA 0.991  TstA 0.983\n",
      "Update  1040  TrnNLL   49.209  TstNLL   10.597  TrnA 0.991  TstA 0.974\n",
      "Update  1045  TrnNLL   47.343  TstNLL    9.813  TrnA 0.992  TstA 0.983\n",
      "Update  1050  TrnNLL   46.389  TstNLL    9.754  TrnA 0.993  TstA 0.983\n",
      "Update  1055  TrnNLL   45.360  TstNLL    9.793  TrnA 0.993  TstA 0.983\n",
      "Update  1060  TrnNLL   45.011  TstNLL    9.813  TrnA 0.993  TstA 0.983\n",
      "Update  1065  TrnNLL   45.003  TstNLL    9.816  TrnA 0.993  TstA 0.983\n",
      "Update  1070  TrnNLL   44.942  TstNLL    9.792  TrnA 0.993  TstA 0.983\n"
     ]
    }
   ],
   "source": [
    "lr = LogReg(train_set, test_set, lam=0.0, eta=0.1)\n",
    "lr.train(isVerbose=True)"
   ]
  },
  {
   "cell_type": "markdown",
   "metadata": {},
   "source": [
    "The unit tests are located in the script `tests.py` in this directory.  Execute the following cell to call the script and run the tests. "
   ]
  },
  {
   "cell_type": "code",
   "execution_count": 218,
   "metadata": {},
   "outputs": [
    {
     "name": "stderr",
     "output_type": "stream",
     "text": [
      "test_unreg (__main__.TestLogReg) ... ok\n",
      "test_learnrate (__main__.TestLogReg) ... ok\n",
      "\n",
      "----------------------------------------------------------------------\n",
      "Ran 2 tests in 0.004s\n",
      "\n",
      "OK\n"
     ]
    }
   ],
   "source": [
    "%run -i tests.py \"part A\""
   ]
  },
  {
   "cell_type": "markdown",
   "metadata": {},
   "source": [
    "**Part B**: After your unregularized updates are working, modify the `sgd_update` function again to perform regularized updates using **Lazy Sparse Regularization**. Note that you should not regularize the bias weight. See the Lecture 4 in-class notebook for a refresher on LSR. **Note**: After implementing LSR, your code should still pass the unit tests for **Part A** when `lam = 0`. \n",
    "\n",
    "We've given you a third unit test in the next cell called `test_reg` based on the simple example of LSR worked out in  the Lecture 4 in-class notebook.  Do not move on to **Problem 3** until your code passes the test. "
   ]
  },
  {
   "cell_type": "code",
   "execution_count": 219,
   "metadata": {},
   "outputs": [
    {
     "name": "stderr",
     "output_type": "stream",
     "text": [
      "test_reg (__main__.TestLogReg) ... ok\n",
      "\n",
      "----------------------------------------------------------------------\n",
      "Ran 1 test in 0.002s\n",
      "\n",
      "OK\n"
     ]
    }
   ],
   "source": [
    "%run -i tests.py \"part B\""
   ]
  },
  {
   "cell_type": "markdown",
   "metadata": {},
   "source": [
    "### [10 points] Problem 3: Hyperparameter Tuning \n",
    "***\n",
    "\n",
    "**Part A**: Perform a systematic study of the effect of the regularization parameter on the accuracy of your classifier on the test set.  Which choice of `lam` seems to do the best?  Justify your conclusion with some kind of graphic. "
   ]
  },
  {
   "cell_type": "code",
   "execution_count": 228,
   "metadata": {},
   "outputs": [
    {
     "name": "stdout",
     "output_type": "stream",
     "text": [
      "When the regularization parameter is  0.0 the average accuracy of the test set after 10 rounds is  0.946551724138\n",
      "When the regularization parameter is  0.001 the average accuracy of the test set after 10 rounds is  0.95\n",
      "When the regularization parameter is  0.002 the average accuracy of the test set after 10 rounds is  0.948275862069\n",
      "When the regularization parameter is  0.003 the average accuracy of the test set after 10 rounds is  0.948275862069\n",
      "When the regularization parameter is  0.005 the average accuracy of the test set after 10 rounds is  0.94224137931\n",
      "When the regularization parameter is  0.01 the average accuracy of the test set after 10 rounds is  0.931896551724\n",
      "When the regularization parameter is  0.02 the average accuracy of the test set after 10 rounds is  0.901724137931\n",
      "When the regularization parameter is  0.03 the average accuracy of the test set after 10 rounds is  0.898275862069\n",
      "When the regularization parameter is  0.05 the average accuracy of the test set after 10 rounds is  0.862068965517\n",
      "When the regularization parameter is  0.1 the average accuracy of the test set after 10 rounds is  0.812931034483\n",
      "When the regularization parameter is  0.2 the average accuracy of the test set after 10 rounds is  0.801724137931\n",
      "When the regularization parameter is  0.3 the average accuracy of the test set after 10 rounds is  0.729310344828\n",
      "When the regularization parameter is  0.5 the average accuracy of the test set after 10 rounds is  0.736206896552\n",
      "When the regularization parameter is  1.0 the average accuracy of the test set after 10 rounds is  0.620689655172\n",
      "When the regularization parameter is  2.0 the average accuracy of the test set after 10 rounds is  0.577586206897\n",
      "When the regularization parameter is  3.0 the average accuracy of the test set after 10 rounds is  0.566379310345\n",
      "When the regularization parameter is  5.0 the average accuracy of the test set after 10 rounds is  0.479310344828\n",
      "When the regularization parameter is  10.0 the average accuracy of the test set after 10 rounds is  0.502586206897\n"
     ]
    }
   ],
   "source": [
    "lam_test = [0.0,0.001,0.002,0.003,0.005,0.01,0.02,0.03,0.05,0.1,0.2,0.3,0.5,1.0,2.0,3.0,5.0,10.0]\n",
    "run_times = [0,1,2,3,4,5,6,7,8,9]\n",
    "predict_accuracy = []\n",
    "accuracy = np.zeros((10,18)) \n",
    "for j in run_times:\n",
    "    count = 0\n",
    "    for ii in lam_test:\n",
    "        lr = LogReg(train_set, test_set, lam=ii, eta=0.1)\n",
    "        lr.train(isVerbose=False)\n",
    "        accuracy[j][count] = lr.test_acc[-1]\n",
    "        count += 1\n",
    "        \n",
    "\n",
    "for ii in range(0,count):\n",
    "    sum =0\n",
    "    for j in run_times:\n",
    "        sum +=accuracy[j][ii]\n",
    "    predict_accuracy.append(sum/10)\n",
    "    print('When the regularization parameter is ', lam_test[ii] , 'the average accuracy of the test set after 10 rounds is ', sum/10)\n",
    "        "
   ]
  },
  {
   "cell_type": "code",
   "execution_count": 231,
   "metadata": {},
   "outputs": [
    {
     "data": {
      "image/png": "[encoded data removed]",
      "text/plain": [
       "<matplotlib.figure.Figure at 0x10fecedd8>"
      ]
     },
     "metadata": {},
     "output_type": "display_data"
    },
    {
     "data": {
      "image/png": "[encoded data removed]",
      "text/plain": [
       "<matplotlib.figure.Figure at 0x106495128>"
      ]
     },
     "metadata": {},
     "output_type": "display_data"
    }
   ],
   "source": [
    "#draw graph\n",
    "plt.title('The relationship between the regularization parameter and average accuracy in the test set(lamda from 0.0 to 0.05)')\n",
    "plt.plot(lam_test[:9], predict_accuracy[:9])\n",
    "plt.xlabel('lamda')\n",
    "plt.ylabel('Accuracy')\n",
    "plt.show()\n",
    "\n",
    "plt.title('The relationship between the regularization parameter and average accuracy in the test set(lamda from 0.1 to 10.0)')\n",
    "plt.plot(lam_test[10:18], predict_accuracy[10:18])\n",
    "plt.xlabel('lamda')\n",
    "plt.ylabel('Accuracy')\n",
    "plt.show()"
   ]
  },
  {
   "cell_type": "markdown",
   "metadata": {},
   "source": [
    "In order to make the results more convicing, I trained the model for ten times in each lamda and calculate the average accuracy.\n",
    "From the graph we can see that when lamda is extremely small, the acuracy has better performance. The relationship basically follows the pattern that the higher of the lamda is, the lower the accuracy is. In this particular case, when lamda equals to 0.001, the model has the best performance."
   ]
  },
  {
   "cell_type": "markdown",
   "metadata": {},
   "source": [
    "**Part B**: For the value of `lam` chosen in **Part A** perform a systematic study of the choice of learning rate on the speed of convergence SGD.  Which learning rate seems to give the fastest convergence?  Justify your conclusion with some kind of graphic. "
   ]
  },
  {
   "cell_type": "code",
   "execution_count": 255,
   "metadata": {},
   "outputs": [],
   "source": [
    "eta_test = [0.01,0.05,0.1,0.5,1.0,2.0,10.0]\n",
    "count = 0\n",
    "nll_value = {}\n",
    "for jj in eta_test:\n",
    "    lr = LogReg(train_set, test_set, lam=0.001, eta=jj)\n",
    "    lr.train(isVerbose=False)\n",
    "    nll_value[count] = lr.test_nll\n",
    "    count += 1"
   ]
  },
  {
   "cell_type": "code",
   "execution_count": 256,
   "metadata": {},
   "outputs": [
    {
     "data": {
      "image/png": "[encoded data removed]",
      "text/plain": [
       "<matplotlib.figure.Figure at 0x1109b54a8>"
      ]
     },
     "metadata": {},
     "output_type": "display_data"
    }
   ],
   "source": [
    "#draw graph\n",
    "plt.title('The relationship between learning rate and the speed of convergence SGD')\n",
    "count = 0\n",
    "for jj in eta_test:\n",
    "    plt.plot(nll_value[count])\n",
    "    count += 1\n",
    "plt.xlabel('iteration number')\n",
    "plt.ylabel('The value of negative log-likelyhood fuction ')\n",
    "plt.legend(labels=['eta = 0.01','eta = 0.05', 'eta = 0.1','eta = 0.5','eta = 1.0','eta = 2.0','eta = 10.0'],loc=\"best\")\n",
    "plt.show()"
   ]
  },
  {
   "cell_type": "markdown",
   "metadata": {},
   "source": [
    "The graph indicates the relationship between learning rate and the speed of convergence. According to the convergence trend, when learning rate equals to 0.05, the model has the fastest convergence speed.\n",
    "We could also draw some other conclusions here: when the learning rate is too samll, like eta = 0.01, the speed slows down; when the learning rate is too large, like eta = 0.1,0.5,1.0,2.0,10.0, the trend of convergence becomes very unstable and cannot converge at all."
   ]
  },
  {
   "cell_type": "markdown",
   "metadata": {},
   "source": [
    "### [10 points] Problem 4: Identifying Predictive and Non-Predictive Words \n",
    "***\n",
    "\n",
    "**Part A**: Find the top 10 words that are the best predictors for each class.  Explain mathematically how you identified them and show any code that you used to find them. "
   ]
  },
  {
   "cell_type": "code",
   "execution_count": 276,
   "metadata": {},
   "outputs": [
    {
     "name": "stdout",
     "output_type": "stream",
     "text": [
      "Top  1 best predictors for negative class is:  wrangler  the weight is:  -48.9997315302\n",
      "Top  2 best predictors for negative class is:  gear  the weight is:  -47.7322474486\n",
      "Top  3 best predictors for negative class is:  indiana  the weight is:  -36.8947991886\n",
      "Top  4 best predictors for negative class is:  jeep  the weight is:  -24.6194916522\n",
      "Top  5 best predictors for negative class is:  boole  the weight is:  -20.9553256231\n",
      "Top  6 best predictors for negative class is:  lb  the weight is:  -18.8245769853\n",
      "Top  7 best predictors for negative class is:  new  the weight is:  -18.6472831427\n",
      "Top  8 best predictors for negative class is:  citizens  the weight is:  -18.0784149728\n",
      "Top  9 best predictors for negative class is:  mother  the weight is:  -17.7419083797\n",
      "Top  10 best predictors for negative class is:  thing  the weight is:  -17.7151262843\n",
      "Top  1 best predictors for popsitive class is:  ca  the weight is:  34.3111217311\n",
      "Top  2 best predictors for popsitive class is:  cup  the weight is:  26.6899258171\n",
      "Top  3 best predictors for popsitive class is:  trust  the weight is:  26.1941569628\n",
      "Top  4 best predictors for popsitive class is:  ninja  the weight is:  24.0757739445\n",
      "Top  5 best predictors for popsitive class is:  passengers  the weight is:  22.6092581976\n",
      "Top  6 best predictors for popsitive class is:  fist  the weight is:  21.4768807729\n",
      "Top  7 best predictors for popsitive class is:  dod  the weight is:  20.046174301\n",
      "Top  8 best predictors for popsitive class is:  really  the weight is:  19.1917719017\n",
      "Top  9 best predictors for popsitive class is:  jonathan  the weight is:  18.6070971307\n",
      "Top  10 best predictors for popsitive class is:  cagers  the weight is:  18.2345125679\n"
     ]
    }
   ],
   "source": [
    "w_sorted = np.sort(lr.w)\n",
    "for i in range(0,10):\n",
    "    print(\"Top \", i+1, \"best predictors for negative class is: \", vocab[lr.w.tolist().index(w_sorted[i])], \" the weight is: \",w_sorted[i])\n",
    "for i in range(0,10):\n",
    "    print(\"Top \", i+1, \"best predictors for popsitive class is: \", vocab[lr.w.tolist().index(w_sorted[-(i+1)])], \" the weight is: \",w_sorted[-(i+1)])\n",
    "    "
   ]
  },
  {
   "cell_type": "markdown",
   "metadata": {},
   "source": [
    "In mathematical aspect, the higher the absoluate value of a weight, the more contribution the corresponding word will make. In this case, if we can find the top 10 weights who have mixmum value and their corresponding words, the best predictors for positive class will be identified. The same thing happens to negative class, top 10 words who have minimum value will be the best predictors for negative class. In my code, I first sort the weight vector, then find the top 10 maximum and minimum weights and then find the corresponding words, which will be the best predictors.  "
   ]
  },
  {
   "cell_type": "markdown",
   "metadata": {},
   "source": [
    "**Part B**: Find the 10 words that are the worst predictors for class.  Explain mathematically how you identified them and show any code that you used to find them. "
   ]
  },
  {
   "cell_type": "code",
   "execution_count": 307,
   "metadata": {},
   "outputs": [
    {
     "name": "stdout",
     "output_type": "stream",
     "text": [
      "There are  2766  negative prodictors and  2561  positive predictors\n",
      "Top  1 worst predictors for negative class is:  abominations  the weight is:  -3.46885425762e-17\n",
      "Top  1 worst predictors for negative class is:  medallion  the weight is:  -3.46885425762e-17\n",
      "Top  1 worst predictors for negative class is:  cimarron  the weight is:  -3.46885425762e-17\n",
      "Top  1 worst predictors for negative class is:  groceries  the weight is:  -3.46885425762e-17\n",
      "Top  1 worst predictors for negative class is:  fooling  the weight is:  -3.46885425762e-17\n",
      "Top  1 worst predictors for negative class is:  pitiful  the weight is:  -3.46885425762e-17\n",
      "Top  7 worst predictors for negative class is:  couples  the weight is:  -5.11259535123e-17\n",
      "Top  8 worst predictors for negative class is:  investment  the weight is:  -1.03518687606e-16\n",
      "Top  9 worst predictors for negative class is:  component  the weight is:  -1.12530706068e-16\n",
      "Top  10 worst predictors for negative class is:  necessity  the weight is:  -3.55180321728e-16\n",
      "Top  1 worst predictors for positive class is:  irresponsible  the weight is:  8.78590670421e-17\n",
      "Top  2 worst predictors for positive class is:  containers  the weight is:  1.27235386676e-15\n",
      "Top  3 worst predictors for positive class is:  stereotype  the weight is:  1.62379013493e-15\n",
      "Top  4 worst predictors for positive class is:  philip  the weight is:  1.85911140759e-15\n",
      "Top  5 worst predictors for positive class is:  cones  the weight is:  2.05065488446e-15\n",
      "Top  6 worst predictors for positive class is:  ridge  the weight is:  3.95138620468e-15\n",
      "Top  7 worst predictors for positive class is:  pacesetter  the weight is:  4.29455072938e-15\n",
      "Top  8 worst predictors for positive class is:  inherent  the weight is:  4.76130739617e-15\n",
      "Top  9 worst predictors for positive class is:  learner  the weight is:  7.21292237252e-15\n",
      "Top  10 worst predictors for positive class is:  empty  the weight is:  1.06597197168e-14\n"
     ]
    }
   ],
   "source": [
    "w_negative = []\n",
    "w_positive = []\n",
    "for j in range(len(lr.w)):\n",
    "    if lr.w[j] <0:\n",
    "        w_negative.append(lr.w[j])\n",
    "    else:\n",
    "        w_positive.append(lr.w[j])\n",
    "print(\"There are \", len(w_negative),\" negative prodictors and \", len(w_positive),\" positive predictors\")\n",
    "\n",
    "w_negative_sorted = np.sort(np.array(w_negative))\n",
    "w_positive_sorted = np.sort(np.array(w_positive))\n",
    "#print(w_negative_sorted)\n",
    "#print(w_positive_sorted)\n",
    "\n",
    "\n",
    "for idx in range(len(lr.w)): # there are words who have the same weights\n",
    "    if lr.w[idx] == w_negative_sorted[-1] :\n",
    "        print(\"Top \", 1, \"worst predictors for negative class is: \", vocab[idx], \" the weight is: \",w_negative_sorted[-1])   \n",
    "for i in range(6,10):\n",
    "    print(\"Top \", i+1, \"worst predictors for negative class is: \", vocab[lr.w.tolist().index(w_negative_sorted[-(i+1)])], \" the weight is: \",w_negative_sorted[-(i+1)])\n",
    "for i in range(0,10):\n",
    "    print(\"Top \", i+1, \"worst predictors for positive class is: \", vocab[lr.w.tolist().index(w_positive_sorted[i])], \" the weight is: \",w_positive_sorted[i])"
   ]
  },
  {
   "cell_type": "markdown",
   "metadata": {},
   "source": [
    "As I have explained before, in mathematical aspect, the lower the absoluate value of a weight, the less contribution the corresponding word will make. In this case, if we can find the top 10 weights who have minimum absolute value in both negative and positive classes, as well as their corresponding words, the worst predictors will be identified. In my code, I first find out all the weights in positive and negative classes, then find the top 10 weights with minimum absolute value in both classes and then find the corresponding words, which will be the worst predictors. \n",
    "\n"
   ]
  },
  {
   "cell_type": "code",
   "execution_count": null,
   "metadata": {},
   "outputs": [],
   "source": []
  }
 ],
 "metadata": {
  "kernelspec": {
   "display_name": "Python 3",
   "language": "python",
   "name": "python3"
  },
  "language_info": {
   "codemirror_mode": {
    "name": "ipython",
    "version": 3
   },
   "file_extension": ".py",
   "mimetype": "text/x-python",
   "name": "python",
   "nbconvert_exporter": "python",
   "pygments_lexer": "ipython3",
   "version": "3.6.3"
  }
 },
 "nbformat": 4,
 "nbformat_minor": 2
}
