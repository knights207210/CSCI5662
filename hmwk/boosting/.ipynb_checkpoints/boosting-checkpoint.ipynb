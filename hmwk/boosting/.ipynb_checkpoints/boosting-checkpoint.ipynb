{
 "cells": [
  {
   "cell_type": "markdown",
   "metadata": {},
   "source": [
    "# Boosting Homework \n",
    "***\n",
    "**Name**: $<$Xu Han$>$ \n",
    "***\n",
    "\n",
    "This assignment is due on Moodle by **5pm on Friday April 13th**. Submit only this Jupyter notebook to Moodle.  Do not compress it using tar, rar, zip, etc. Your solutions to analysis questions should be done in Markdown directly below the associated question.  Remember that you are encouraged to discuss the problems with your instructors and classmates, but **you must write all code and solutions on your own**.  For a refresher on the course **Collaboration Policy** click [here](https://github.com/chrisketelsen/CSCI5622-Machine-Learning/blob/master/resources/syllabus.md#collaboration-policy)\n",
    "\n"
   ]
  },
  {
   "cell_type": "markdown",
   "metadata": {},
   "source": [
    "## Overview \n",
    "***\n",
    "\n",
    "\n",
    "\n",
    "In this homework you'll implement the AdaBoost classification framework to do handwritten digit recognition. Your implementation should be based on the description of AdaBoost given in the lecture slides.\n",
    "\n",
    "<br>\n",
    "\n",
    "![digits](mnist.png \"mnist data\")\n",
    "\n",
    "\n",
    "<br>\n",
    "\n",
    "Here are the rules: \n",
    "\n",
    "- Do **NOT** use sklearn's implementation of Adaboost.  You may however use sklearn's implementation of decisions trees. \n",
    "- Do **NOT** load or use any Python packages that are not available in Anaconda 3.6. \n",
    "- Some problems with code may be autograded.  If we provide a function or class API **do not** change it.\n",
    "- Do not change the location of the data or data directory.  Use only relative paths to access the data. "
   ]
  },
  {
   "cell_type": "code",
   "execution_count": 2,
   "metadata": {
    "ExecuteTime": {
     "end_time": "2018-04-02T09:58:16.624747Z",
     "start_time": "2018-04-02T09:58:15.916585Z"
    }
   },
   "outputs": [],
   "source": [
    "import numpy as np\n",
    "from sklearn.tree import DecisionTreeClassifier\n",
    "from sklearn.base import clone \n",
    "import matplotlib.pyplot as plt\n",
    "import math\n",
    "%matplotlib inline "
   ]
  },
  {
   "cell_type": "markdown",
   "metadata": {},
   "source": [
    "### [5 points] Problem 1\n",
    "***\n",
    "\n",
    "Since we'll be working with binary classifiers, we'll look at the subset of the MNIST data pertaining to handwritten three's and eights. Note that we'll also be using a lower-res version of the MNIST data used in the KNN homework. The class below will load, parse, and store the subset of the. Load the data and then report: \n",
    "\n",
    "- The number of examples in the training set \n",
    "- The number of examples in the validation set \n",
    "- The number of pixels in each image. "
   ]
  },
  {
   "cell_type": "code",
   "execution_count": 3,
   "metadata": {
    "ExecuteTime": {
     "end_time": "2018-04-02T09:58:18.840016Z",
     "start_time": "2018-04-02T09:58:18.805889Z"
    }
   },
   "outputs": [],
   "source": [
    "class ThreesAndEights:\n",
    "    \"\"\"\n",
    "    Class to store MNIST data\n",
    "    \"\"\"\n",
    "\n",
    "    def __init__(self, location):\n",
    "\n",
    "        import pickle, gzip\n",
    "\n",
    "        # Load the dataset\n",
    "        f = gzip.open(location, 'rb')\n",
    "\n",
    "        # Split the data set \n",
    "        X_train, y_train, X_valid, y_valid = pickle.load(f)\n",
    "\n",
    "        # Extract only 3's and 8's for training set \n",
    "        self.X_train = X_train[np.logical_or( y_train==3, y_train == 8), :]\n",
    "        self.y_train = y_train[np.logical_or( y_train==3, y_train == 8)]\n",
    "        self.y_train = np.array([1 if y == 8 else -1 for y in self.y_train])\n",
    "        \n",
    "        # Shuffle the training data \n",
    "        shuff = np.arange(self.X_train.shape[0])\n",
    "        np.random.shuffle(shuff)\n",
    "        self.X_train = self.X_train[shuff,:]\n",
    "        self.y_train = self.y_train[shuff]\n",
    "\n",
    "        # Extract only 3's and 8's for validation set \n",
    "        self.X_valid = X_valid[np.logical_or( y_valid==3, y_valid == 8), :]\n",
    "        self.y_valid = y_valid[np.logical_or( y_valid==3, y_valid == 8)]\n",
    "        self.y_valid = np.array([1 if y == 8 else -1 for y in self.y_valid])\n",
    "        \n",
    "        f.close()"
   ]
  },
  {
   "cell_type": "code",
   "execution_count": 4,
   "metadata": {
    "ExecuteTime": {
     "end_time": "2018-04-02T09:58:19.740678Z",
     "start_time": "2018-04-02T09:58:19.609721Z"
    }
   },
   "outputs": [
    {
     "name": "stdout",
     "output_type": "stream",
     "text": [
      "The number of examples in the training set: 2000\n",
      "The number of examples in the validation set: 500\n",
      "The number of pixels in each image: 441\n"
     ]
    }
   ],
   "source": [
    "data = ThreesAndEights(\"../data/mnist21x21_3789.pklz\")\n",
    "print('The number of examples in the training set:',len(data.X_train))\n",
    "print('The number of examples in the validation set:',len(data.X_valid))\n",
    "print('The number of pixels in each image:',data.X_train[0].size)"
   ]
  },
  {
   "cell_type": "markdown",
   "metadata": {},
   "source": [
    "### [20 points] Problem 2: Implementing AdaBoost  \n",
    "***\n",
    "\n",
    "We've given you a skeleton of the class `AdaBoost` below which will train a classifier based on boosted shallow decision trees as implemented by sklearn. Take a look at the class skeleton first so that you understand the underlying organization and data structures that we'll be using.  "
   ]
  },
  {
   "cell_type": "code",
   "execution_count": 5,
   "metadata": {
    "ExecuteTime": {
     "end_time": "2018-04-02T09:58:23.101470Z",
     "start_time": "2018-04-02T09:58:23.016833Z"
    }
   },
   "outputs": [],
   "source": [
    "class AdaBoost:\n",
    "    def __init__(self, n_learners=20, base=DecisionTreeClassifier(max_depth=1), random_state=1234):\n",
    "        \"\"\"\n",
    "        Create a new adaboost classifier.\n",
    "        \n",
    "        Args:\n",
    "            N (int, optional): Number of weak learners in classifier.\n",
    "            base (BaseEstimator, optional): Your general weak learner \n",
    "            random_state (int, optional): set random generator.  needed for unit testing. \n",
    "\n",
    "        Attributes:\n",
    "            base (estimator): Your general weak learner \n",
    "            n_learners (int): Number of weak learners in classifier.\n",
    "            alpha (ndarray): Coefficients on weak learners. \n",
    "            learners (list): List of weak learner instances. \n",
    "        \"\"\"\n",
    "        \n",
    "        np.random.seed(random_state)\n",
    "        \n",
    "        self.n_learners = n_learners \n",
    "        self.base = base\n",
    "        self.alpha = np.zeros(self.n_learners)\n",
    "        self.learners = []\n",
    "        \n",
    "    def fit(self, X_train, y_train):\n",
    "        \"\"\"\n",
    "        Train AdaBoost classifier on data. Sets alphas and learners. \n",
    "        \n",
    "        Args:\n",
    "            X_train (ndarray): [n_samples x n_features] ndarray of training data   \n",
    "            y_train (ndarray): [n_samples] ndarray of data \n",
    "        \"\"\"\n",
    "        \n",
    "        # TODO \n",
    "\n",
    "        # Note: You can create and train a new instantiation \n",
    "        # of your sklearn decision tree as follows \n",
    "\n",
    "        w = np.ones(len(y_train))/len(y_train)   #initialize the weights\n",
    "        #h = clone(self.base)\n",
    "        #h.fit(X_train, y_train, sample_weight=w)\n",
    "        \n",
    "        err=np.zeros(len(y_train))\n",
    "        \n",
    "        for k in range(0,self.n_learners):\n",
    "            h = clone(self.base)    #clone a new classifer(decision tree)\n",
    "            self.learners.append(h)\n",
    "            \n",
    "            #fit classifer with X_train with weight w\n",
    "            h.fit(X_train, y_train, sample_weight=w)   #train the weak classifer\n",
    "            prediction=h.predict(X_train)\n",
    "            \n",
    "            #compute weighted error\n",
    "            err_k=0\n",
    "            for j in range(0,len(X_train)):\n",
    "                if prediction[j]!=y_train[j]:\n",
    "                    err_k+=w[j]\n",
    "            err_k=err_k/sum(w)\n",
    "            \n",
    "            #compute alpha\n",
    "            self.alpha[k]=0.5*math.log((1-err_k)/err_k)\n",
    "            \n",
    "            #update weight\n",
    "            for i in range(0,len(w)):\n",
    "                w[i]=w[i]*math.exp(-self.alpha[k]*y_train[i]*prediction[i])\n",
    "            \n",
    "    def predict(self, X):\n",
    "        \"\"\"\n",
    "        Adaboost prediction for new data X.\n",
    "        \n",
    "        Args:\n",
    "            X (ndarray): [n_samples x n_features] ndarray of data \n",
    "            \n",
    "        Returns: \n",
    "            yhat (ndarray): [n_samples] ndarray of predicted labels {-1,1}\n",
    "        \"\"\"\n",
    "\n",
    "        # TODO \n",
    "\n",
    "        #return np.zeros(X.shape[0])\n",
    "         \n",
    "        sum_pre=0\n",
    "        predictions=[]\n",
    "        for i in X:\n",
    "            for k in range(0,self.n_learners):\n",
    "                sum_pre+=self.learners[k].predict([i])*self.alpha[k]\n",
    "            if(sum_pre>=0):\n",
    "                predictions.append(1)\n",
    "            else:\n",
    "                predictions.append(-1)\n",
    "            sum_pre=0\n",
    "        \n",
    "        \n",
    "        return np.asarray(predictions)\n",
    "        \n",
    "    \n",
    "    def score(self, X, y):\n",
    "        \"\"\"\n",
    "        Computes prediction accuracy of classifier.  \n",
    "        \n",
    "        Args:\n",
    "            X (ndarray): [n_samples x n_features] ndarray of data \n",
    "            y (ndarray): [n_samples] ndarray of true labels  \n",
    "            \n",
    "        Returns: \n",
    "            Prediction accuracy (between 0.0 and 1.0).\n",
    "        \"\"\"\n",
    "\n",
    "        \n",
    "        # TODO \n",
    "\n",
    "        #return 0.0\n",
    "       \n",
    "        predictions=self.predict(X)\n",
    "        correct_count=0\n",
    "        for i in range(len(y)):\n",
    "            if(predictions[i]==y[i]):\n",
    "                correct_count+=1\n",
    "        \n",
    "        return correct_count/len(y)\n",
    "        \n",
    "    \n",
    "    def staged_score(self, X, y):\n",
    "        \"\"\"\n",
    "        Computes the ensemble score after each iteration of boosting \n",
    "        for monitoring purposes, such as to determine the score on a \n",
    "        test set after each boost.\n",
    "        \n",
    "        Args:\n",
    "            X (ndarray): [n_samples x n_features] ndarray of data \n",
    "            y (ndarray): [n_samples] ndarray of true labels  \n",
    "            \n",
    "        Returns: \n",
    "            scores (ndarary): [n_learners] ndarray of scores \n",
    "        \"\"\"\n",
    "\n",
    "        # TODO \n",
    "\n",
    "        #return  np.zeros(self.n_learners)\n",
    "        \n",
    "        staged_score=np.zeros(self.n_learners)\n",
    "        count=0\n",
    "        for i in X:        \n",
    "            sum_pre=0\n",
    "            predictions=0\n",
    "            for k in range(0,self.n_learners):\n",
    "                sum_pre+=self.learners[k].predict([i])*self.alpha[k]\n",
    "                if sum_pre>=0:\n",
    "                    predictions=1\n",
    "                else:\n",
    "                    predictions=-1\n",
    "                if predictions==y[count]:\n",
    "                    staged_score[k]+=1\n",
    "            count+=1\n",
    "                \n",
    "        staged_score = staged_score/len(y)\n",
    "        return  staged_score\n",
    "        \n",
    "    \n",
    "    def staged_margin(self, x, y):\n",
    "        \"\"\"\n",
    "        Computes the staged margin after each iteration of boosting \n",
    "        for a single training example x and true label y\n",
    "        \n",
    "        Args:\n",
    "            x (ndarray): [n_features] ndarray of data \n",
    "            y (integer): an integer {-1,1} representing the true label of x \n",
    "            \n",
    "        Returns: \n",
    "            margins (ndarary): [n_learners] ndarray of margins \n",
    "        \"\"\"\n",
    "        \n",
    "        # TODO \n",
    "        \n",
    "        #margins = np.zeros(self.n_learners)\n",
    "        alpha_normalized=self.alpha/sum(self.alpha)\n",
    "        margins = np.zeros(self.n_learners)\n",
    "        sum_mar=0\n",
    "        for l in range(0,self.n_learners):\n",
    "            pred=self.learners[l].predict([x])\n",
    "            if(pred==y):\n",
    "                sum_mar+=alpha_normalized[l]\n",
    "            else:\n",
    "                sum_mar-=alpha_normalized[l]\n",
    "            margins[l]=sum_mar\n",
    "       \n",
    "        return margins\n",
    "        \n",
    "        \n",
    "        "
   ]
  },
  {
   "cell_type": "markdown",
   "metadata": {},
   "source": [
    "Recall that the model we attempt to learn in AdaBoost is given by \n",
    "\n",
    "$$\n",
    "H({\\bf x}) = \\textrm{sign}\\left[\\displaystyle\\sum_{k=1}^K\\alpha_k h_k({\\bf x}) \\right]\n",
    "$$\n",
    "\n",
    "where $h_k({\\bf x})$ is the $k^\\textrm{th}$ weak learner and $\\alpha_k$ is it's associated ensemble coefficient.  \n",
    "\n",
    "**Part A**: Implement the `fit` method to learn the sequence of weak learners $\\left\\{h_k({\\bf x})\\right\\}_{k=1}^K$ and corresponding coefficients $\\left\\{ \\alpha_k\\right\\}_{k=1}^K$. Note that you may use sklearn's implementation of DecisionTreeClassifier as your weak learner which allows you to pass as an optional parameter the weights associated with each training example.  An example of instantiating and training a single learner is given in the comments of the `fit` method.  \n",
    "\n",
    "When you think you're done, run the following unit tests which corresponds to the AdaBoost example given in the lecture slides. \n"
   ]
  },
  {
   "cell_type": "code",
   "execution_count": 16,
   "metadata": {
    "ExecuteTime": {
     "end_time": "2018-04-02T09:58:25.957948Z",
     "start_time": "2018-04-02T09:58:25.948471Z"
    }
   },
   "outputs": [
    {
     "name": "stderr",
     "output_type": "stream",
     "text": [
      "test_alphas (__main__.TestBoost) ... ok\n",
      "\n",
      "----------------------------------------------------------------------\n",
      "Ran 1 test in 0.007s\n",
      "\n",
      "OK\n"
     ]
    }
   ],
   "source": [
    "%run -i tests.py \"part A\""
   ]
  },
  {
   "cell_type": "markdown",
   "metadata": {},
   "source": [
    "**Part B**: After your `fit` method is working properly, implement the `predict` method to make predictions for unseen examples stored in a data matrix ${\\bf X}$.  \n",
    "\n",
    "**Note**: Remember that AdaBoost assumes that your predictions are of the form $y \\in \\{-1, 1\\}$. \n",
    "\n",
    "When you think you're done, run the following unit tests which corresponds to the AdaBoost example given in the lecture slides. "
   ]
  },
  {
   "cell_type": "code",
   "execution_count": 17,
   "metadata": {
    "ExecuteTime": {
     "end_time": "2018-04-02T09:58:29.697855Z",
     "start_time": "2018-04-02T09:58:29.689876Z"
    }
   },
   "outputs": [
    {
     "name": "stderr",
     "output_type": "stream",
     "text": [
      "test_prediction (__main__.TestBoost) ... ok\n",
      "\n",
      "----------------------------------------------------------------------\n",
      "Ran 1 test in 0.011s\n",
      "\n",
      "OK\n"
     ]
    }
   ],
   "source": [
    "%run -i tests.py \"part B\""
   ]
  },
  {
   "cell_type": "markdown",
   "metadata": {},
   "source": [
    "**Part C**: Next, implement the `score` method which takes in a matrix of examples ${\\bf X}$ and their associated true labels ${\\bf y}$, makes predictions, and returns the classification accuracy.   \n",
    "\n",
    "When you think you're done, run the following unit tests. "
   ]
  },
  {
   "cell_type": "code",
   "execution_count": 18,
   "metadata": {
    "ExecuteTime": {
     "end_time": "2018-04-02T09:58:32.327702Z",
     "start_time": "2018-04-02T09:58:32.320424Z"
    }
   },
   "outputs": [
    {
     "name": "stderr",
     "output_type": "stream",
     "text": [
      "test_score (__main__.TestBoost) ... ok\n",
      "\n",
      "----------------------------------------------------------------------\n",
      "Ran 1 test in 0.011s\n",
      "\n",
      "OK\n"
     ]
    }
   ],
   "source": [
    "%run -i tests.py \"part C\""
   ]
  },
  {
   "cell_type": "markdown",
   "metadata": {},
   "source": [
    "**Part D**: Finally, implement the `staged_score` method to return an array of prediction accuracies after each iteration of the AdaBoost algorithm.  That is, the staged score array ${\\bf s}$ is defined such that ${\\bf s}_\\ell$ is the prediction accuracy using only the first $\\ell$ weak learners.  This function is primarily used as a diagnostic tool for analyzing the performance of your classifier during the training process.  \n",
    "\n",
    "**Note**: This method can be implemented in a very efficient or very **in**efficient matter.  Be sure to think about this a bit before diving in. \n",
    "\n",
    "\n",
    "When you think you're done, run the following unit tests. "
   ]
  },
  {
   "cell_type": "code",
   "execution_count": 19,
   "metadata": {
    "ExecuteTime": {
     "end_time": "2018-04-02T09:58:36.952096Z",
     "start_time": "2018-04-02T09:58:36.944919Z"
    }
   },
   "outputs": [
    {
     "name": "stderr",
     "output_type": "stream",
     "text": [
      "test_staged_score (__main__.TestBoost) ... ok\n",
      "\n",
      "----------------------------------------------------------------------\n",
      "Ran 1 test in 0.009s\n",
      "\n",
      "OK\n"
     ]
    }
   ],
   "source": [
    "%run -i tests.py \"part D\""
   ]
  },
  {
   "cell_type": "markdown",
   "metadata": {},
   "source": [
    "### [10 points] Problem 3: AdaBoost for Handwritten Digit Recognition \n",
    "***\n",
    "\n",
    "Use your AdaBoost code with Sklearn's DecisionTreeClassifier as the base learner to distinguish $3$'s from $8$'s. \n",
    "Run $n=500$ boosting iterations with trees of depths 1, 2, and 3 (go deeper if you like) as the weak learner. For each weak learner, plot the training and validation error per boosting iteration (on the same set of axes). Compare and contrast the different weak learners. Which works the best? Do you see signs of overfitting? Do any of classifiers achieve nearly 100% accuracy on the training data? What happens to the accuracy on the validation data on further iterations?"
   ]
  },
  {
   "cell_type": "code",
   "execution_count": 21,
   "metadata": {},
   "outputs": [
    {
     "data": {
      "image/png": "[encoded data removed]",
      "text/plain": [
       "<matplotlib.figure.Figure at 0x1a1390e550>"
      ]
     },
     "metadata": {},
     "output_type": "display_data"
    }
   ],
   "source": [
    "n=500\n",
    "AdaBoost1=AdaBoost(n_learners=n, base=DecisionTreeClassifier(max_depth=1), random_state=1234)\n",
    "AdaBoost1.fit(data.X_train,data.y_train)\n",
    "train_acc1=AdaBoost1.staged_score(data.X_train,data.y_train)\n",
    "valid_acc1=AdaBoost1.staged_score(data.X_valid,data.y_valid)\n",
    "\n",
    "#plot\n",
    "plt.plot(np.arange(500),1-train_acc1)\n",
    "plt.plot(np.arange(500),1-valid_acc1)\n",
    "plt.legend(['training error','validation error'])\n",
    "plt.xlabel('Iteration')\n",
    "plt.ylabel('Error')\n",
    "plt.show()"
   ]
  },
  {
   "cell_type": "code",
   "execution_count": 22,
   "metadata": {},
   "outputs": [
    {
     "data": {
      "image/png": "[encoded data removed]",
      "text/plain": [
       "<matplotlib.figure.Figure at 0x1a201c89e8>"
      ]
     },
     "metadata": {},
     "output_type": "display_data"
    }
   ],
   "source": [
    "n=500\n",
    "AdaBoost2=AdaBoost(n_learners=n, base=DecisionTreeClassifier(max_depth=2), random_state=1234)\n",
    "AdaBoost2.fit(data.X_train,data.y_train)\n",
    "train_acc2=AdaBoost2.staged_score(data.X_train,data.y_train)\n",
    "valid_acc2=AdaBoost2.staged_score(data.X_valid,data.y_valid)\n",
    "\n",
    "#plot\n",
    "plt.plot(np.arange(500),1-train_acc2)\n",
    "plt.plot(np.arange(500),1-valid_acc2)\n",
    "plt.legend(['training error','validation error'])\n",
    "plt.xlabel('Iteration')\n",
    "plt.ylabel('Error')\n",
    "plt.show()"
   ]
  },
  {
   "cell_type": "code",
   "execution_count": 23,
   "metadata": {},
   "outputs": [
    {
     "data": {
      "image/png": "[encoded data removed]",
      "text/plain": [
       "<matplotlib.figure.Figure at 0x1a2031ef98>"
      ]
     },
     "metadata": {},
     "output_type": "display_data"
    }
   ],
   "source": [
    "n=500\n",
    "AdaBoost3=AdaBoost(n_learners=n, base=DecisionTreeClassifier(max_depth=3), random_state=1234)\n",
    "AdaBoost3.fit(data.X_train,data.y_train)\n",
    "train_acc3=AdaBoost3.staged_score(data.X_train,data.y_train)\n",
    "valid_acc3=AdaBoost3.staged_score(data.X_valid,data.y_valid)\n",
    "\n",
    "#plot\n",
    "plt.plot(np.arange(500),1-train_acc3)\n",
    "plt.plot(np.arange(500),1-valid_acc3)\n",
    "plt.legend(['training error','validation error'])\n",
    "plt.xlabel('Iteration')\n",
    "plt.ylabel('Error')\n",
    "plt.show()"
   ]
  },
  {
   "cell_type": "code",
   "execution_count": 6,
   "metadata": {},
   "outputs": [
    {
     "data": {
      "image/png": "[encoded data removed]",
      "text/plain": [
       "<matplotlib.figure.Figure at 0x1a08fa1390>"
      ]
     },
     "metadata": {},
     "output_type": "display_data"
    }
   ],
   "source": [
    "n=500\n",
    "AdaBoost4=AdaBoost(n_learners=n, base=DecisionTreeClassifier(max_depth=10), random_state=1234)\n",
    "AdaBoost4.fit(data.X_train,data.y_train)\n",
    "train_acc4=AdaBoost4.staged_score(data.X_train,data.y_train)\n",
    "valid_acc4=AdaBoost4.staged_score(data.X_valid,data.y_valid)\n",
    "\n",
    "#plot\n",
    "plt.plot(np.arange(500),1-train_acc4)\n",
    "plt.plot(np.arange(500),1-valid_acc4)\n",
    "plt.legend(['training error','validation error'])\n",
    "plt.xlabel('Iteration')\n",
    "plt.ylabel('Error')\n",
    "plt.show()"
   ]
  },
  {
   "cell_type": "markdown",
   "metadata": {},
   "source": [
    "**Explaination**:\n",
    "<br></br>\n",
    "- Which works the best?  \n",
    "When the depth is not very deep(like when depth = 1,2,3), the AdaBoost3 classifer (when depth = 3) works best. From the first three graphs we can see that, as the depth gets deeper, the complexity of our model gets higher and much less interations are needed to get both training error and validation error minimized.\n",
    "<br></br>\n",
    "\n",
    "- Do you see signs of overfitting?\n",
    "<br></br>\n",
    "When depth = 1,2,3, I do not see signs of overfitting or the overfitting is not obvious enough from the first three graphs, since the training error and validation error have same trends of decreasing. At the same time, the divergence between training error and valdation error is small. But wheh depth = 10, it is obvious that it is overfitting, since the trainging error is extremely low while the validation error gets higher.\n",
    "<br></br>\n",
    "- Do any of classifiers achieve nearly 100% accuracy on the training data?\n",
    "<br></br>\n",
    "When the iteration number is large enough, the classifiers with depth = 1,2,3 achieve nearly 100% accuracy on the training data.\n",
    "<br></br>\n",
    "- What happens to the accuracy on the validation data on further iterations?\n",
    "<br></br>\n",
    "When it is not overfitting, the accuracy on the validation data continues to drop even after training error is zero.\n",
    "With larger iterations, the accuracy on the validation data becomes stable and stick to a certain value.\n",
    "\n"
   ]
  },
  {
   "cell_type": "markdown",
   "metadata": {},
   "source": [
    "### [15 points] Problem 4: AdaBoost as a Margin-Maximizing Model \n",
    "***\n",
    "\n",
    "Despite the fact that we're making our model more complex with the addition of each weak learner, AdaBoost does not typically overfit the training data. The reason for this is that the model becomes more _confident_ with each boosting iteration. This _confidence_ can be interpreted mathematically as a margin. Recall that after $K$ iterations the algorithm terminates with the classifier \n",
    "\n",
    "$$\n",
    "H({\\bf x}) = \\textrm{sign}\\left[\\displaystyle\\sum_{k=1}^K\\alpha_k h_k({\\bf x}) \\right]\n",
    "$$\n",
    "\n",
    "Similarly, we can define the intermediate classifier $H_\\ell$ by \n",
    "\n",
    "$$\n",
    "H_\\ell({\\bf x}) = \\textrm{sign}\\left[\\displaystyle\\sum_{k=1}^\\ell\\alpha_k h_k({\\bf x}) \\right]\n",
    "$$\n",
    "\n",
    "where $\\ell \\leq K$. Note that in either case the model returns predictions of the form $y \\in \\{-1, 1\\}$ which does not give us any indication of the model's confidence in a prediction. Define the normalized coefficients $\\hat{\\alpha}_k$ as follows: \n",
    "\n",
    "$$\n",
    "\\hat{\\alpha}_k = \\dfrac{\\alpha_k}{\\sum_{t=1}^K \\alpha_k}\n",
    "$$\n",
    "\n",
    "Define the margin of a training example ${\\bf x}$ after $\\ell$ iterations as the sum of the normalized coefficients of weak learners that vote correctly minus the sum of the normalized coefficients of the weak learners that vote incorrectly: \n",
    "\n",
    "$$\n",
    "\\textrm{margin}_\\ell ({\\bf x}) = \\sum_{k=1:~h_k({\\bf x}) = y}^\\ell \\hat{\\alpha}_k - \\sum_{k=1:~h_k({\\bf x}) \\neq y}^\\ell \\hat{\\alpha}_k \n",
    "$$\n",
    "\n",
    "**Part A**: Briefly explain mathematically how $\\textrm{margin}_\\ell({\\bf x})$ can be interpreted as a margin.  **Hint**: You'll want to think back on what we meant by a _margin_ in our discussion of Support Vector Machines. "
   ]
  },
  {
   "cell_type": "markdown",
   "metadata": {
    "collapsed": true
   },
   "source": [
    "**Answer:**\n",
    "<br></br>\n",
    "From the AdaBoost algorithm we can know that the higher the alpha, the easier the data could be classified correctly. In this case, when the training error is lower, $\\sum_{k=1:~h_k({\\bf x}) = y}^\\ell \\hat{\\alpha}_k$ will get higher while $\\sum_{k=1:~h_k({\\bf x}) \\neq y}^\\ell \\hat{\\alpha}_k $ will get lower, as a result $\\textrm{margin}_\\ell ({\\bf x})$ will get higher. From $\\textrm{margin}_\\ell ({\\bf x})$'s definition, we can also know that the margin represents the confidence of prediction and it ranges from -1 to 1. It will be positive if the vote gives the correct classification. Otherwise it’s negative.\n",
    "<br></br>\n",
    "Through mathematically formula derivation, we could get the margin bound: the generalizaiton error is at most \n",
    "$\\hat{P}\\{\\textrm{margin}_\\ell ({\\bf x})\\leq \\theta\\}+\\mathcal{O}(\\sqrt(\\frac{d}{m\\theta}))$. While $m$ represents the number of training sample and $d$ is the VC dimension of the base classifier. Based on this formula, we can see that higher the $\\textrm{margin}_\\ell ({\\bf x})$ is, lower the generalization error is.\n",
    "<br></br>\n",
    "This is same with the margin in Support Vector Machine, higher margin means the distance between closet point to bound is longer, and the generalization error is lower. In SVM, we know that $\\bf x_+$ on the ${\\bf w}^T{\\bf x} + b = 1$ satisfies $${\\bf w}^T{\\bf x_+} + b = 1$$, and $\\bf x_-$ on the ${\\bf w}^T{\\bf x} + b = -1$ satisfies $${\\bf w}^T{\\bf x_-} + b = -1$$. The distance between ${\\bf w}^T{\\bf x_+} + b = 1$ and ${\\bf w}^T{\\bf x_-} + b = -1$ will be the $margin*2$. In this case, from $\\bf x_-$ get to $\\bf x_+$ by moving in the direction of $\\bf w$, we will have $$\\bf 2M = |\\bf x_+ - \\bf x_-| = |\\lambda w|$$\n",
    "So we can know that SVM's margin has similar format to AdaBoost's margin. In SVM, we maximum the distance between the boundary and closest point, this distance is called margin. In AdaBoost, we maximum the distance between sum of weak learners who vote correctly and sum of weak learners who vote wrongly, this distance is called $\\textrm{margin}_\\ell ({\\bf x})$\n"
   ]
  },
  {
   "cell_type": "markdown",
   "metadata": {},
   "source": [
    "**Part B**: Complete the `staged_margin` method in the `AdaBoost` class above so that it computes the margin for a single training example ${\\bf x}$ after each boosting iteration. "
   ]
  },
  {
   "cell_type": "code",
   "execution_count": 7,
   "metadata": {},
   "outputs": [
    {
     "name": "stdout",
     "output_type": "stream",
     "text": [
      "[ 0.08141776  0.13365734  0.09158131  0.14163027  0.08020695  0.13108078\n",
      "  0.18686729  0.24289921  0.28724425  0.32961009  0.26968875  0.3241249\n",
      "  0.37108607  0.41437097  0.44748785  0.50817924  0.46452144  0.50301217\n",
      "  0.53826086  0.58584301]\n"
     ]
    }
   ],
   "source": [
    "n=20\n",
    "AdaBoost_margin=AdaBoost(n_learners=n, base=DecisionTreeClassifier(max_depth=3), random_state=1234)\n",
    "AdaBoost_margin.fit(data.X_train,data.y_train)\n",
    "print(AdaBoost_margin.staged_margin(data.X_train[0], data.y_train[0]))"
   ]
  },
  {
   "cell_type": "markdown",
   "metadata": {},
   "source": [
    "**Note**: This is the stage margin result of the first training example. The number of learners is 20 and the depth of the tree is 3."
   ]
  },
  {
   "cell_type": "markdown",
   "metadata": {},
   "source": [
    "**Part C**: Find four **training** examples from the MNIST that meet the following criteria: \n",
    "\n",
    "- one $3$ that AdaBoost can classify easily  \n",
    "- one $8$ that AdaBoost can classify easily  \n",
    "- one $3$ that AdaBoost has difficulty with \n",
    "- one $8$ that AdaBoost has difficulty with \n",
    "\n",
    "Use the `view_digit` function given below to display the four examples that you found. \n",
    "\n",
    "**Advice**: Since AdaBoost will likely classify **all** training examples correctly given enough boosting iterations, you might try fitting an AdaBoost classifier with just a handful of boosting iterations and use it to identify examples of each desired type. "
   ]
  },
  {
   "cell_type": "code",
   "execution_count": 6,
   "metadata": {
    "ExecuteTime": {
     "end_time": "2018-04-02T09:59:01.257421Z",
     "start_time": "2018-04-02T09:59:01.068539Z"
    }
   },
   "outputs": [
    {
     "name": "stdout",
     "output_type": "stream",
     "text": [
      "true label: 1\n"
     ]
    },
    {
     "data": {
      "image/png": "[encoded data removed]",
      "text/plain": [
       "<matplotlib.figure.Figure at 0x102c255f8>"
      ]
     },
     "metadata": {},
     "output_type": "display_data"
    }
   ],
   "source": [
    "def view_digit(example, label=None):\n",
    "    if label: print(\"true label: {:d}\".format(label))\n",
    "    plt.imshow(example.reshape(21,21), cmap='gray');\n",
    "    \n",
    "view_digit(data.X_train[0,:], data.y_train[0])"
   ]
  },
  {
   "cell_type": "code",
   "execution_count": 35,
   "metadata": {},
   "outputs": [
    {
     "name": "stdout",
     "output_type": "stream",
     "text": [
      "one 3 that is easy to classify : margin: 1.0 index: 15\n",
      "one 3 that is difficult to classify : margin: -0.0392980395084 index: 1917\n",
      "one 8 that is easy to classify : margin: 1.0 index: 72\n",
      "one 8 that is difficult to classify : margin: 0.0383985298208 index: 617\n"
     ]
    }
   ],
   "source": [
    "###predict label = 1, it is predicted as 8\n",
    "###predict label = -1,it is predicted as 3\n",
    "\n",
    "n = 12\n",
    "AdaBoostClassifier=AdaBoost(n_learners=n, base=DecisionTreeClassifier(max_depth=3), random_state=1234)\n",
    "AdaBoostClassifier.fit(data.X_train,data.y_train)\n",
    "predict_result = AdaBoostClassifier.predict(data.X_train)\n",
    "class3_margin=[]\n",
    "class8_margin=[]\n",
    "for i in range(0,len(data.y_train)):\n",
    "    if(data.y_train[i]==1):\n",
    "        class8_margin.append((AdaBoostClassifier.staged_margin(data.X_train[i],data.y_train[i])[-1],i))\n",
    "    else:\n",
    "        class3_margin.append((AdaBoostClassifier.staged_margin(data.X_train[i],data.y_train[i])[-1],i))\n",
    "        \n",
    "#find the max/min margin, max margin means easy to classify, min margin means difficult to classify        \n",
    "max3=max(class3_margin,key=lambda x: x[0])\n",
    "max3_ind=max3[1]\n",
    "min3=min(class3_margin,key=lambda x: x[0])\n",
    "min3_ind=min3[1]\n",
    "max8=max(class8_margin,key=lambda x: x[0])\n",
    "max8_ind=max8[1]\n",
    "min8=min(class8_margin,key=lambda x: x[0])\n",
    "min8_ind=min8[1]\n",
    "print('one 3 that is easy to classify : margin:',max3[0],'index:',max3_ind)\n",
    "print('one 3 that is difficult to classify : margin:',min3[0],'index:',min3_ind)\n",
    "print('one 8 that is easy to classify : margin:',max8[0],'index:',max8_ind)\n",
    "print('one 8 that is difficult to classify : margin:',min8[0],'index:',min8_ind)"
   ]
  },
  {
   "cell_type": "markdown",
   "metadata": {},
   "source": [
    "**Note:** I find the max/min margin among all training examples, max margin means easy to classify, min margin means difficult to classify. The reason why I choose n = 12 is because the result in Part D has better look."
   ]
  },
  {
   "cell_type": "code",
   "execution_count": 36,
   "metadata": {},
   "outputs": [
    {
     "name": "stdout",
     "output_type": "stream",
     "text": [
      "one 3 that is easy to classify: 1.0 index: 15\n",
      "true label: -1\n"
     ]
    },
    {
     "data": {
      "image/png": "[encoded data removed]",
      "text/plain": [
       "<matplotlib.figure.Figure at 0x1a12f68080>"
      ]
     },
     "metadata": {},
     "output_type": "display_data"
    }
   ],
   "source": [
    "print('one 3 that is easy to classify:',max3[0],'index:',max3_ind)\n",
    "view_digit(data.X_train[max3_ind,:], data.y_train[max3_ind])\n"
   ]
  },
  {
   "cell_type": "code",
   "execution_count": 37,
   "metadata": {},
   "outputs": [
    {
     "name": "stdout",
     "output_type": "stream",
     "text": [
      "one 3 that is difficult to classify: -0.0392980395084 index: 1917\n",
      "true label: -1\n"
     ]
    },
    {
     "data": {
      "image/png": "[encoded data removed]",
      "text/plain": [
       "<matplotlib.figure.Figure at 0x1a131a90f0>"
      ]
     },
     "metadata": {},
     "output_type": "display_data"
    }
   ],
   "source": [
    "print('one 3 that is difficult to classify:',min3[0],'index:',min3_ind)\n",
    "view_digit(data.X_train[min3_ind,:], data.y_train[min3_ind])"
   ]
  },
  {
   "cell_type": "markdown",
   "metadata": {},
   "source": [
    "**Analysis:**  \n",
    "This \"3\" is difficult to classify since it is distorted and the two circles are nearly closed, easier to label it as \"8\"."
   ]
  },
  {
   "cell_type": "code",
   "execution_count": 38,
   "metadata": {},
   "outputs": [
    {
     "name": "stdout",
     "output_type": "stream",
     "text": [
      "one 8 that is easy to classify: 1.0 index: 72\n",
      "true label: 1\n"
     ]
    },
    {
     "data": {
      "image/png": "[encoded data removed]",
      "text/plain": [
       "<matplotlib.figure.Figure at 0x1a12f75b00>"
      ]
     },
     "metadata": {},
     "output_type": "display_data"
    }
   ],
   "source": [
    "print('one 8 that is easy to classify:',max8[0],'index:',max8_ind)\n",
    "view_digit(data.X_train[max8_ind,:], data.y_train[max8_ind])"
   ]
  },
  {
   "cell_type": "code",
   "execution_count": 39,
   "metadata": {},
   "outputs": [
    {
     "name": "stdout",
     "output_type": "stream",
     "text": [
      "one 8 that is difficult to classify: 0.0383985298208 index: 617\n",
      "true label: 1\n"
     ]
    },
    {
     "data": {
      "image/png": "[encoded data removed]",
      "text/plain": [
       "<matplotlib.figure.Figure at 0x1a1345ab38>"
      ]
     },
     "metadata": {},
     "output_type": "display_data"
    }
   ],
   "source": [
    "print('one 8 that is difficult to classify:',min8[0],'index:',min8_ind)\n",
    "view_digit(data.X_train[min8_ind,:], data.y_train[min8_ind])"
   ]
  },
  {
   "cell_type": "markdown",
   "metadata": {},
   "source": [
    "**Analysis:**  \n",
    "This \"8\" is difficult to classify since it is also distorted and have more similar points as \"3\"."
   ]
  },
  {
   "cell_type": "markdown",
   "metadata": {},
   "source": [
    "**Part D**: Using an AdaBoost classifier with at least $K=200$ depth-1 decision trees as the weak learners, plot the staged margin for each of the four examples that you found in **Part C** on the same set of axes. (Be sure to include a legend so we can tell which staged margin corresponds to which example).  Explain your results in terms of the margin of the classifier on each training examples.  More broadly, how the margin-maximizing property might allow AdaBoost to continue improving generalization even after the error on the training set reaches zero.  \n"
   ]
  },
  {
   "cell_type": "code",
   "execution_count": 44,
   "metadata": {
    "scrolled": true
   },
   "outputs": [
    {
     "data": {
      "image/png": "[encoded data removed]",
      "text/plain": [
       "<matplotlib.figure.Figure at 0x1a130c2128>"
      ]
     },
     "metadata": {},
     "output_type": "display_data"
    }
   ],
   "source": [
    "n = 200\n",
    "AdaBoostClassifier=AdaBoost(n_learners=200, base=DecisionTreeClassifier(max_depth=1), random_state=1234)\n",
    "AdaBoostClassifier.fit(data.X_train,data.y_train)\n",
    "for i in [max3_ind,min3_ind,max8_ind,min8_ind]:\n",
    "    plt.plot(AdaBoost_D.staged_margin(data.X_train[i],data.y_train[i]))\n",
    "plt.xlabel('Iteration')\n",
    "plt.ylabel('Staged margin')\n",
    "plt.legend(['easy3','difficult3','easy8','difficult8'])\n",
    "plt.show()"
   ]
  },
  {
   "cell_type": "markdown",
   "metadata": {},
   "source": [
    "**Explaination:**"
   ]
  },
  {
   "cell_type": "markdown",
   "metadata": {},
   "source": [
    "Explain your results in terms of the margin of the classifier on each training examples.\n",
    "<br></br>\n",
    "From the graph we can see that \n",
    "- first, no matter in class 3 or class 8, the margins of the easy-to-classify training examples are higher than the difficult-to-classify training examples.\n",
    "- second, all the training examples' margins grow higher along with the growing of iteration number. More iteration number allow classifier have higher training accuracy.\n",
    "- third, higher margin represents lower generalization error."
   ]
  },
  {
   "cell_type": "markdown",
   "metadata": {},
   "source": [
    "More broadly, how the margin-maximizing property might allow AdaBoost to continue improving generalization even after the error on the training set reaches zero.\n",
    "<br></br>\n",
    "- the defination of margin is $\\textrm{margin}_\\ell ({\\bf x}) = \\sum_{k=1:~h_k({\\bf x}) = y}^\\ell \\hat{\\alpha}_k - \\sum_{k=1:~h_k({\\bf x}) \\neq y}^\\ell \\hat{\\alpha}_k $, however when we do classification and calculate the training error, we use the sum of $\\alpha * h_k$. In this case, we can say that this phenomenon is related to the distribution of margins of the training examples with respect to the generated voting classification rule, where the margin of an example is simply the difference between the number of correct votes and the maximumnumber of votesreceived by any incorrect label.\n",
    "- Because of the difference between the defination of margin and actual classifier, even when the classifier could classify all the training examples correctly(training error = 0), that does not mean that margin achieves its highest value. which is 1. From strict mathematically derivation, the margin will increase along with the iteration grows. That's the reason why even training error achieves 0, the margin is still growing."
   ]
  },
  {
   "cell_type": "code",
   "execution_count": null,
   "metadata": {},
   "outputs": [],
   "source": []
  }
 ],
 "metadata": {
  "kernelspec": {
   "display_name": "Python 3",
   "language": "python",
   "name": "python3"
  },
  "language_info": {
   "codemirror_mode": {
    "name": "ipython",
    "version": 3
   },
   "file_extension": ".py",
   "mimetype": "text/x-python",
   "name": "python",
   "nbconvert_exporter": "python",
   "pygments_lexer": "ipython3",
   "version": "3.6.3"
  }
 },
 "nbformat": 4,
 "nbformat_minor": 2
}
